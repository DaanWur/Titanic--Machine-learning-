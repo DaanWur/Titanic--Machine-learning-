{
 "cells": [
  {
   "cell_type": "code",
   "execution_count": 1,
   "metadata": {
    "_cell_guid": "b1076dfc-b9ad-4769-8c92-a6c4dae69d19",
    "_uuid": "8f2839f25d086af736a60e9eeb907d3b93b6e0e5",
    "execution": {
     "iopub.execute_input": "2021-01-08T21:30:02.558410Z",
     "iopub.status.busy": "2021-01-08T21:30:02.557658Z",
     "iopub.status.idle": "2021-01-08T21:30:02.563080Z",
     "shell.execute_reply": "2021-01-08T21:30:02.562334Z"
    },
    "papermill": {
     "duration": 0.102011,
     "end_time": "2021-01-08T21:30:02.563293",
     "exception": false,
     "start_time": "2021-01-08T21:30:02.461282",
     "status": "completed"
    },
    "tags": []
   },
   "outputs": [
    {
     "name": "stdout",
     "output_type": "stream",
     "text": [
      "/kaggle/input/titanic/train.csv\n",
      "/kaggle/input/titanic/test.csv\n",
      "/kaggle/input/titanic/gender_submission.csv\n"
     ]
    }
   ],
   "source": [
    "# This Python 3 environment comes with many helpful analytics libraries installed\n",
    "# It is defined by the kaggle/python Docker image: https://github.com/kaggle/docker-python\n",
    "# For example, here's several helpful packages to load\n",
    "\n",
    "import numpy as np # linear algebra\n",
    "import pandas as pd # data processing, CSV file I/O (e.g. pd.read_csv)\n",
    "\n",
    "# Input data files are available in the read-only \"../input/\" directory\n",
    "# For example, running this (by clicking run or pressing Shift+Enter) will list all files under the input directory\n",
    "\n",
    "import os\n",
    "for dirname, _, filenames in os.walk('/kaggle/input'):\n",
    "    for filename in filenames:\n",
    "        print(os.path.join(dirname, filename))\n",
    "\n",
    "# You can write up to 20GB to the current directory (/kaggle/working/) that gets preserved as output when you create a version using \"Save & Run All\" \n",
    "# You can also write temporary files to /kaggle/temp/, but they won't be saved outside of the current session"
   ]
  },
  {
   "cell_type": "markdown",
   "metadata": {
    "papermill": {
     "duration": 0.08962,
     "end_time": "2021-01-08T21:30:02.748039",
     "exception": false,
     "start_time": "2021-01-08T21:30:02.658419",
     "status": "completed"
    },
    "tags": []
   },
   "source": [
    "# Titanic analysis\n",
    "\n",
    "submmited by Daniel Wurms  \n",
    "ID - 205681760  \n",
    "Kaggle link - https://www.kaggle.com/danielwurms  "
   ]
  },
  {
   "cell_type": "markdown",
   "metadata": {
    "papermill": {
     "duration": 0.088668,
     "end_time": "2021-01-08T21:30:02.926944",
     "exception": false,
     "start_time": "2021-01-08T21:30:02.838276",
     "status": "completed"
    },
    "tags": []
   },
   "source": [
    "# Background\n",
    "Titanic was a British passenger liner operated by the White Star Line that sank in the North Atlantic Ocean in the early morning hours of 15 April 1912, after striking an iceberg during her maiden voyage from Southampton to New York City.\n",
    "Of the estimated 2,224 passengers and crew aboard, more than 1,500 died, making the sinking at the time the deadliest of a single ship in the West and the deadliest peacetime sinking of a superliner or cruise ship to date.\n",
    "![Titanic image](https://www.history.com/.image/c_limit%2Ccs_srgb%2Cfl_progressive%2Ch_2000%2Cq_auto:good%2Cw_2000/MTU3ODc5MDg2Njk4ODAwNDU3/rms-sailing-from-southampton.jpg)\n",
    "\n"
   ]
  },
  {
   "cell_type": "markdown",
   "metadata": {
    "papermill": {
     "duration": 0.099964,
     "end_time": "2021-01-08T21:30:03.120601",
     "exception": false,
     "start_time": "2021-01-08T21:30:03.020637",
     "status": "completed"
    },
    "tags": []
   },
   "source": [
    "\n",
    "\n",
    "# Defining the problem\n",
    "\n",
    "> 1. One of the main reasons that have caused so many deaths, is the lack of lifeboats\n",
    "> 2. Most of the survivals belonged to the upper class\n",
    "> 3. Total amount of death cases is 1500 of the 2224 passengers that were on board, which is 68% deaths\n",
    "\n",
    "We are going to check if it is possible to predict if a passenger would have survived  \n",
    "based on the information that gathered from the disaster. In order to do it we'll need to  \n",
    "make some research in order to understand the data."
   ]
  },
  {
   "cell_type": "markdown",
   "metadata": {
    "papermill": {
     "duration": 0.091672,
     "end_time": "2021-01-08T21:30:03.305733",
     "exception": false,
     "start_time": "2021-01-08T21:30:03.214061",
     "status": "completed"
    },
    "tags": []
   },
   "source": [
    ">In this competition we will need to use machine learning to create a model that predicts which passengers survived the Titanic shipwreck  \n",
    "\n",
    "We recieve a Data frame which is consisted of the following information:\n",
    "> *survival - whether the passenger survived or not  \n",
    "> *pclass - the class where each passenger lived  \n",
    "> *sex - gender of the passengers  \n",
    "> *Age - age of the passengers  \n",
    "> *sibsp - number of siblings or spouses onboard   \n",
    "> *parch - number of parents or children on board  \n",
    "> *ticket - ticket number of each passenger  \n",
    "> *fare - ticket costs of each passenger  \n",
    "> *cabin - number of cabin where the passengers stayed  \n",
    "> *embarked - port of embration   \n",
    "\n",
    "# Variables notes\n",
    "**survival** - no = 0, yes = 1  \n",
    "**pclass** -  \n",
    "    1st = Upper\n",
    "    2nd = Middle\n",
    "    3rd = Lower\n",
    "**sex** - male or female  \n",
    "**Age** - if less then 1 is a fraction  \n",
    "**sibsp** -   \n",
    "    The dataset defines family relations in this way...  \n",
    "    Sibling = brother, sister, stepbrother, stepsister  \n",
    "    Spouse = husband, wife (mistresses and fiancés were ignored)  \n",
    "\n",
    "**parch**-  \n",
    "    The dataset defines family relations in this way...  \n",
    "    Parent = mother, father  \n",
    "    Child = daughter, son, stepdaughter, stepson  \n",
    "    Some children travelled only with a nanny, therefore parch=0 for them.  \n",
    "\n"
   ]
  },
  {
   "cell_type": "code",
   "execution_count": 2,
   "metadata": {
    "_cell_guid": "79c7e3d0-c299-4dcb-8224-4455121ee9b0",
    "_uuid": "d629ff2d2480ee46fbb7e2d37f6b5fab8052498a",
    "execution": {
     "iopub.execute_input": "2021-01-08T21:30:03.495534Z",
     "iopub.status.busy": "2021-01-08T21:30:03.494345Z",
     "iopub.status.idle": "2021-01-08T21:30:05.039161Z",
     "shell.execute_reply": "2021-01-08T21:30:05.039746Z"
    },
    "papermill": {
     "duration": 1.643748,
     "end_time": "2021-01-08T21:30:05.039921",
     "exception": false,
     "start_time": "2021-01-08T21:30:03.396173",
     "status": "completed"
    },
    "tags": []
   },
   "outputs": [],
   "source": [
    "\n",
    "import pandas as pd\n",
    "import numpy as np\n",
    "import random as rnd\n",
    "import seaborn as sns\n",
    "import matplotlib.pyplot as plt\n",
    "%matplotlib inline\n",
    "import sklearn\n",
    "from sklearn import metrics\n",
    "from sklearn import datasets\n",
    "from sklearn import pipeline\n",
    "from sklearn import linear_model\n",
    "from sklearn import preprocessing\n",
    "from sklearn import model_selection\n",
    "from sklearn import neural_network\n",
    "from sklearn.linear_model import SGDClassifier\n",
    "\n"
   ]
  },
  {
   "cell_type": "markdown",
   "metadata": {
    "papermill": {
     "duration": 0.087312,
     "end_time": "2021-01-08T21:30:05.215622",
     "exception": false,
     "start_time": "2021-01-08T21:30:05.128310",
     "status": "completed"
    },
    "tags": []
   },
   "source": [
    "# Importing the data\n",
    "\n",
    "In order to import the data we will use Pandas packages, which is a comftarble way to work with the data.  \n",
    "We will import the train data into train_df  \n",
    "We will import the test data into test_df  \n",
    "Lastly we will combine the data and save it in combine  "
   ]
  },
  {
   "cell_type": "code",
   "execution_count": 3,
   "metadata": {
    "execution": {
     "iopub.execute_input": "2021-01-08T21:30:05.402651Z",
     "iopub.status.busy": "2021-01-08T21:30:05.401860Z",
     "iopub.status.idle": "2021-01-08T21:30:05.433020Z",
     "shell.execute_reply": "2021-01-08T21:30:05.433845Z"
    },
    "papermill": {
     "duration": 0.130011,
     "end_time": "2021-01-08T21:30:05.434097",
     "exception": false,
     "start_time": "2021-01-08T21:30:05.304086",
     "status": "completed"
    },
    "tags": []
   },
   "outputs": [],
   "source": [
    "train_df =  pd.read_csv(\"/kaggle/input/titanic/train.csv\")\n",
    "test_df = pd.read_csv(\"/kaggle/input/titanic/test.csv\")\n",
    "combine = [train_df, test_df]"
   ]
  },
  {
   "cell_type": "markdown",
   "metadata": {
    "papermill": {
     "duration": 0.088242,
     "end_time": "2021-01-08T21:30:05.613582",
     "exception": false,
     "start_time": "2021-01-08T21:30:05.525340",
     "status": "completed"
    },
    "tags": []
   },
   "source": [
    "Let's print the columns in order to see what features we are about to face"
   ]
  },
  {
   "cell_type": "code",
   "execution_count": 4,
   "metadata": {
    "execution": {
     "iopub.execute_input": "2021-01-08T21:30:05.801265Z",
     "iopub.status.busy": "2021-01-08T21:30:05.800103Z",
     "iopub.status.idle": "2021-01-08T21:30:05.807622Z",
     "shell.execute_reply": "2021-01-08T21:30:05.806687Z"
    },
    "papermill": {
     "duration": 0.101106,
     "end_time": "2021-01-08T21:30:05.807794",
     "exception": false,
     "start_time": "2021-01-08T21:30:05.706688",
     "status": "completed"
    },
    "tags": []
   },
   "outputs": [
    {
     "name": "stdout",
     "output_type": "stream",
     "text": [
      "['PassengerId' 'Survived' 'Pclass' 'Name' 'Sex' 'Age' 'SibSp' 'Parch'\n",
      " 'Ticket' 'Fare' 'Cabin' 'Embarked']\n"
     ]
    }
   ],
   "source": [
    "print(train_df.columns.values)"
   ]
  },
  {
   "cell_type": "markdown",
   "metadata": {
    "papermill": {
     "duration": 0.090398,
     "end_time": "2021-01-08T21:30:05.990344",
     "exception": false,
     "start_time": "2021-01-08T21:30:05.899946",
     "status": "completed"
    },
    "tags": []
   },
   "source": [
    "# Numerical or Categorial ?\n",
    "\n",
    "\n",
    "**Numerical features:**\n",
    "> Features that their values change from sample to sample  \n",
    "\n",
    "The numerical features are - Age, Fare, SibSp, Parch  \n",
    "\n",
    "\n",
    "**Categorial features:**\n",
    ">Classifying the samples into sets of similiar samples  \n",
    "\n",
    "The categorial features are - Survived, Sex, Embarked  \n",
    "We have only one ordinal feature which is - Pclass  \n"
   ]
  },
  {
   "cell_type": "code",
   "execution_count": 5,
   "metadata": {
    "execution": {
     "iopub.execute_input": "2021-01-08T21:30:06.178752Z",
     "iopub.status.busy": "2021-01-08T21:30:06.177666Z",
     "iopub.status.idle": "2021-01-08T21:30:06.213218Z",
     "shell.execute_reply": "2021-01-08T21:30:06.212503Z"
    },
    "papermill": {
     "duration": 0.13054,
     "end_time": "2021-01-08T21:30:06.213390",
     "exception": false,
     "start_time": "2021-01-08T21:30:06.082850",
     "status": "completed"
    },
    "tags": []
   },
   "outputs": [
    {
     "data": {
      "text/html": [
       "<div>\n",
       "<style scoped>\n",
       "    .dataframe tbody tr th:only-of-type {\n",
       "        vertical-align: middle;\n",
       "    }\n",
       "\n",
       "    .dataframe tbody tr th {\n",
       "        vertical-align: top;\n",
       "    }\n",
       "\n",
       "    .dataframe thead th {\n",
       "        text-align: right;\n",
       "    }\n",
       "</style>\n",
       "<table border=\"1\" class=\"dataframe\">\n",
       "  <thead>\n",
       "    <tr style=\"text-align: right;\">\n",
       "      <th></th>\n",
       "      <th>PassengerId</th>\n",
       "      <th>Survived</th>\n",
       "      <th>Pclass</th>\n",
       "      <th>Name</th>\n",
       "      <th>Sex</th>\n",
       "      <th>Age</th>\n",
       "      <th>SibSp</th>\n",
       "      <th>Parch</th>\n",
       "      <th>Ticket</th>\n",
       "      <th>Fare</th>\n",
       "      <th>Cabin</th>\n",
       "      <th>Embarked</th>\n",
       "    </tr>\n",
       "  </thead>\n",
       "  <tbody>\n",
       "    <tr>\n",
       "      <th>0</th>\n",
       "      <td>1</td>\n",
       "      <td>0</td>\n",
       "      <td>3</td>\n",
       "      <td>Braund, Mr. Owen Harris</td>\n",
       "      <td>male</td>\n",
       "      <td>22.0</td>\n",
       "      <td>1</td>\n",
       "      <td>0</td>\n",
       "      <td>A/5 21171</td>\n",
       "      <td>7.2500</td>\n",
       "      <td>NaN</td>\n",
       "      <td>S</td>\n",
       "    </tr>\n",
       "    <tr>\n",
       "      <th>1</th>\n",
       "      <td>2</td>\n",
       "      <td>1</td>\n",
       "      <td>1</td>\n",
       "      <td>Cumings, Mrs. John Bradley (Florence Briggs Th...</td>\n",
       "      <td>female</td>\n",
       "      <td>38.0</td>\n",
       "      <td>1</td>\n",
       "      <td>0</td>\n",
       "      <td>PC 17599</td>\n",
       "      <td>71.2833</td>\n",
       "      <td>C85</td>\n",
       "      <td>C</td>\n",
       "    </tr>\n",
       "    <tr>\n",
       "      <th>2</th>\n",
       "      <td>3</td>\n",
       "      <td>1</td>\n",
       "      <td>3</td>\n",
       "      <td>Heikkinen, Miss. Laina</td>\n",
       "      <td>female</td>\n",
       "      <td>26.0</td>\n",
       "      <td>0</td>\n",
       "      <td>0</td>\n",
       "      <td>STON/O2. 3101282</td>\n",
       "      <td>7.9250</td>\n",
       "      <td>NaN</td>\n",
       "      <td>S</td>\n",
       "    </tr>\n",
       "    <tr>\n",
       "      <th>3</th>\n",
       "      <td>4</td>\n",
       "      <td>1</td>\n",
       "      <td>1</td>\n",
       "      <td>Futrelle, Mrs. Jacques Heath (Lily May Peel)</td>\n",
       "      <td>female</td>\n",
       "      <td>35.0</td>\n",
       "      <td>1</td>\n",
       "      <td>0</td>\n",
       "      <td>113803</td>\n",
       "      <td>53.1000</td>\n",
       "      <td>C123</td>\n",
       "      <td>S</td>\n",
       "    </tr>\n",
       "    <tr>\n",
       "      <th>4</th>\n",
       "      <td>5</td>\n",
       "      <td>0</td>\n",
       "      <td>3</td>\n",
       "      <td>Allen, Mr. William Henry</td>\n",
       "      <td>male</td>\n",
       "      <td>35.0</td>\n",
       "      <td>0</td>\n",
       "      <td>0</td>\n",
       "      <td>373450</td>\n",
       "      <td>8.0500</td>\n",
       "      <td>NaN</td>\n",
       "      <td>S</td>\n",
       "    </tr>\n",
       "  </tbody>\n",
       "</table>\n",
       "</div>"
      ],
      "text/plain": [
       "   PassengerId  Survived  Pclass  \\\n",
       "0            1         0       3   \n",
       "1            2         1       1   \n",
       "2            3         1       3   \n",
       "3            4         1       1   \n",
       "4            5         0       3   \n",
       "\n",
       "                                                Name     Sex   Age  SibSp  \\\n",
       "0                            Braund, Mr. Owen Harris    male  22.0      1   \n",
       "1  Cumings, Mrs. John Bradley (Florence Briggs Th...  female  38.0      1   \n",
       "2                             Heikkinen, Miss. Laina  female  26.0      0   \n",
       "3       Futrelle, Mrs. Jacques Heath (Lily May Peel)  female  35.0      1   \n",
       "4                           Allen, Mr. William Henry    male  35.0      0   \n",
       "\n",
       "   Parch            Ticket     Fare Cabin Embarked  \n",
       "0      0         A/5 21171   7.2500   NaN        S  \n",
       "1      0          PC 17599  71.2833   C85        C  \n",
       "2      0  STON/O2. 3101282   7.9250   NaN        S  \n",
       "3      0            113803  53.1000  C123        S  \n",
       "4      0            373450   8.0500   NaN        S  "
      ]
     },
     "execution_count": 5,
     "metadata": {},
     "output_type": "execute_result"
    }
   ],
   "source": [
    "train_df.head()"
   ]
  },
  {
   "cell_type": "code",
   "execution_count": 6,
   "metadata": {
    "execution": {
     "iopub.execute_input": "2021-01-08T21:30:06.421036Z",
     "iopub.status.busy": "2021-01-08T21:30:06.419948Z",
     "iopub.status.idle": "2021-01-08T21:30:06.425498Z",
     "shell.execute_reply": "2021-01-08T21:30:06.424229Z"
    },
    "papermill": {
     "duration": 0.117624,
     "end_time": "2021-01-08T21:30:06.425631",
     "exception": false,
     "start_time": "2021-01-08T21:30:06.308007",
     "status": "completed"
    },
    "tags": []
   },
   "outputs": [
    {
     "data": {
      "text/html": [
       "<div>\n",
       "<style scoped>\n",
       "    .dataframe tbody tr th:only-of-type {\n",
       "        vertical-align: middle;\n",
       "    }\n",
       "\n",
       "    .dataframe tbody tr th {\n",
       "        vertical-align: top;\n",
       "    }\n",
       "\n",
       "    .dataframe thead th {\n",
       "        text-align: right;\n",
       "    }\n",
       "</style>\n",
       "<table border=\"1\" class=\"dataframe\">\n",
       "  <thead>\n",
       "    <tr style=\"text-align: right;\">\n",
       "      <th></th>\n",
       "      <th>PassengerId</th>\n",
       "      <th>Survived</th>\n",
       "      <th>Pclass</th>\n",
       "      <th>Name</th>\n",
       "      <th>Sex</th>\n",
       "      <th>Age</th>\n",
       "      <th>SibSp</th>\n",
       "      <th>Parch</th>\n",
       "      <th>Ticket</th>\n",
       "      <th>Fare</th>\n",
       "      <th>Cabin</th>\n",
       "      <th>Embarked</th>\n",
       "    </tr>\n",
       "  </thead>\n",
       "  <tbody>\n",
       "    <tr>\n",
       "      <th>886</th>\n",
       "      <td>887</td>\n",
       "      <td>0</td>\n",
       "      <td>2</td>\n",
       "      <td>Montvila, Rev. Juozas</td>\n",
       "      <td>male</td>\n",
       "      <td>27.0</td>\n",
       "      <td>0</td>\n",
       "      <td>0</td>\n",
       "      <td>211536</td>\n",
       "      <td>13.00</td>\n",
       "      <td>NaN</td>\n",
       "      <td>S</td>\n",
       "    </tr>\n",
       "    <tr>\n",
       "      <th>887</th>\n",
       "      <td>888</td>\n",
       "      <td>1</td>\n",
       "      <td>1</td>\n",
       "      <td>Graham, Miss. Margaret Edith</td>\n",
       "      <td>female</td>\n",
       "      <td>19.0</td>\n",
       "      <td>0</td>\n",
       "      <td>0</td>\n",
       "      <td>112053</td>\n",
       "      <td>30.00</td>\n",
       "      <td>B42</td>\n",
       "      <td>S</td>\n",
       "    </tr>\n",
       "    <tr>\n",
       "      <th>888</th>\n",
       "      <td>889</td>\n",
       "      <td>0</td>\n",
       "      <td>3</td>\n",
       "      <td>Johnston, Miss. Catherine Helen \"Carrie\"</td>\n",
       "      <td>female</td>\n",
       "      <td>NaN</td>\n",
       "      <td>1</td>\n",
       "      <td>2</td>\n",
       "      <td>W./C. 6607</td>\n",
       "      <td>23.45</td>\n",
       "      <td>NaN</td>\n",
       "      <td>S</td>\n",
       "    </tr>\n",
       "    <tr>\n",
       "      <th>889</th>\n",
       "      <td>890</td>\n",
       "      <td>1</td>\n",
       "      <td>1</td>\n",
       "      <td>Behr, Mr. Karl Howell</td>\n",
       "      <td>male</td>\n",
       "      <td>26.0</td>\n",
       "      <td>0</td>\n",
       "      <td>0</td>\n",
       "      <td>111369</td>\n",
       "      <td>30.00</td>\n",
       "      <td>C148</td>\n",
       "      <td>C</td>\n",
       "    </tr>\n",
       "    <tr>\n",
       "      <th>890</th>\n",
       "      <td>891</td>\n",
       "      <td>0</td>\n",
       "      <td>3</td>\n",
       "      <td>Dooley, Mr. Patrick</td>\n",
       "      <td>male</td>\n",
       "      <td>32.0</td>\n",
       "      <td>0</td>\n",
       "      <td>0</td>\n",
       "      <td>370376</td>\n",
       "      <td>7.75</td>\n",
       "      <td>NaN</td>\n",
       "      <td>Q</td>\n",
       "    </tr>\n",
       "  </tbody>\n",
       "</table>\n",
       "</div>"
      ],
      "text/plain": [
       "     PassengerId  Survived  Pclass                                      Name  \\\n",
       "886          887         0       2                     Montvila, Rev. Juozas   \n",
       "887          888         1       1              Graham, Miss. Margaret Edith   \n",
       "888          889         0       3  Johnston, Miss. Catherine Helen \"Carrie\"   \n",
       "889          890         1       1                     Behr, Mr. Karl Howell   \n",
       "890          891         0       3                       Dooley, Mr. Patrick   \n",
       "\n",
       "        Sex   Age  SibSp  Parch      Ticket   Fare Cabin Embarked  \n",
       "886    male  27.0      0      0      211536  13.00   NaN        S  \n",
       "887  female  19.0      0      0      112053  30.00   B42        S  \n",
       "888  female   NaN      1      2  W./C. 6607  23.45   NaN        S  \n",
       "889    male  26.0      0      0      111369  30.00  C148        C  \n",
       "890    male  32.0      0      0      370376   7.75   NaN        Q  "
      ]
     },
     "execution_count": 6,
     "metadata": {},
     "output_type": "execute_result"
    }
   ],
   "source": [
    "train_df.tail()"
   ]
  },
  {
   "cell_type": "code",
   "execution_count": 7,
   "metadata": {
    "execution": {
     "iopub.execute_input": "2021-01-08T21:30:06.654689Z",
     "iopub.status.busy": "2021-01-08T21:30:06.653568Z",
     "iopub.status.idle": "2021-01-08T21:30:06.658025Z",
     "shell.execute_reply": "2021-01-08T21:30:06.658592Z"
    },
    "papermill": {
     "duration": 0.140114,
     "end_time": "2021-01-08T21:30:06.658801",
     "exception": false,
     "start_time": "2021-01-08T21:30:06.518687",
     "status": "completed"
    },
    "tags": []
   },
   "outputs": [
    {
     "data": {
      "text/html": [
       "<div>\n",
       "<style scoped>\n",
       "    .dataframe tbody tr th:only-of-type {\n",
       "        vertical-align: middle;\n",
       "    }\n",
       "\n",
       "    .dataframe tbody tr th {\n",
       "        vertical-align: top;\n",
       "    }\n",
       "\n",
       "    .dataframe thead th {\n",
       "        text-align: right;\n",
       "    }\n",
       "</style>\n",
       "<table border=\"1\" class=\"dataframe\">\n",
       "  <thead>\n",
       "    <tr style=\"text-align: right;\">\n",
       "      <th></th>\n",
       "      <th>PassengerId</th>\n",
       "      <th>Pclass</th>\n",
       "      <th>Name</th>\n",
       "      <th>Sex</th>\n",
       "      <th>Age</th>\n",
       "      <th>SibSp</th>\n",
       "      <th>Parch</th>\n",
       "      <th>Ticket</th>\n",
       "      <th>Fare</th>\n",
       "      <th>Cabin</th>\n",
       "      <th>Embarked</th>\n",
       "    </tr>\n",
       "  </thead>\n",
       "  <tbody>\n",
       "    <tr>\n",
       "      <th>0</th>\n",
       "      <td>892</td>\n",
       "      <td>3</td>\n",
       "      <td>Kelly, Mr. James</td>\n",
       "      <td>male</td>\n",
       "      <td>34.5</td>\n",
       "      <td>0</td>\n",
       "      <td>0</td>\n",
       "      <td>330911</td>\n",
       "      <td>7.8292</td>\n",
       "      <td>NaN</td>\n",
       "      <td>Q</td>\n",
       "    </tr>\n",
       "    <tr>\n",
       "      <th>1</th>\n",
       "      <td>893</td>\n",
       "      <td>3</td>\n",
       "      <td>Wilkes, Mrs. James (Ellen Needs)</td>\n",
       "      <td>female</td>\n",
       "      <td>47.0</td>\n",
       "      <td>1</td>\n",
       "      <td>0</td>\n",
       "      <td>363272</td>\n",
       "      <td>7.0000</td>\n",
       "      <td>NaN</td>\n",
       "      <td>S</td>\n",
       "    </tr>\n",
       "    <tr>\n",
       "      <th>2</th>\n",
       "      <td>894</td>\n",
       "      <td>2</td>\n",
       "      <td>Myles, Mr. Thomas Francis</td>\n",
       "      <td>male</td>\n",
       "      <td>62.0</td>\n",
       "      <td>0</td>\n",
       "      <td>0</td>\n",
       "      <td>240276</td>\n",
       "      <td>9.6875</td>\n",
       "      <td>NaN</td>\n",
       "      <td>Q</td>\n",
       "    </tr>\n",
       "    <tr>\n",
       "      <th>3</th>\n",
       "      <td>895</td>\n",
       "      <td>3</td>\n",
       "      <td>Wirz, Mr. Albert</td>\n",
       "      <td>male</td>\n",
       "      <td>27.0</td>\n",
       "      <td>0</td>\n",
       "      <td>0</td>\n",
       "      <td>315154</td>\n",
       "      <td>8.6625</td>\n",
       "      <td>NaN</td>\n",
       "      <td>S</td>\n",
       "    </tr>\n",
       "    <tr>\n",
       "      <th>4</th>\n",
       "      <td>896</td>\n",
       "      <td>3</td>\n",
       "      <td>Hirvonen, Mrs. Alexander (Helga E Lindqvist)</td>\n",
       "      <td>female</td>\n",
       "      <td>22.0</td>\n",
       "      <td>1</td>\n",
       "      <td>1</td>\n",
       "      <td>3101298</td>\n",
       "      <td>12.2875</td>\n",
       "      <td>NaN</td>\n",
       "      <td>S</td>\n",
       "    </tr>\n",
       "  </tbody>\n",
       "</table>\n",
       "</div>"
      ],
      "text/plain": [
       "   PassengerId  Pclass                                          Name     Sex  \\\n",
       "0          892       3                              Kelly, Mr. James    male   \n",
       "1          893       3              Wilkes, Mrs. James (Ellen Needs)  female   \n",
       "2          894       2                     Myles, Mr. Thomas Francis    male   \n",
       "3          895       3                              Wirz, Mr. Albert    male   \n",
       "4          896       3  Hirvonen, Mrs. Alexander (Helga E Lindqvist)  female   \n",
       "\n",
       "    Age  SibSp  Parch   Ticket     Fare Cabin Embarked  \n",
       "0  34.5      0      0   330911   7.8292   NaN        Q  \n",
       "1  47.0      1      0   363272   7.0000   NaN        S  \n",
       "2  62.0      0      0   240276   9.6875   NaN        Q  \n",
       "3  27.0      0      0   315154   8.6625   NaN        S  \n",
       "4  22.0      1      1  3101298  12.2875   NaN        S  "
      ]
     },
     "execution_count": 7,
     "metadata": {},
     "output_type": "execute_result"
    }
   ],
   "source": [
    "test_df.head()"
   ]
  },
  {
   "cell_type": "markdown",
   "metadata": {
    "papermill": {
     "duration": 0.097762,
     "end_time": "2021-01-08T21:30:06.862303",
     "exception": false,
     "start_time": "2021-01-08T21:30:06.764541",
     "status": "completed"
    },
    "tags": []
   },
   "source": [
    "**Mixed data types(numerical and strings)**  \n",
    "Both cabin and ticket are consisted of numbers and letters  \n",
    "\n",
    "**Which features can contain empty fields?**   \n",
    ">cabin, age and embraked features contain some null values and we will need to address it.\n",
    ">cabin and age are missing Data\n",
    "\n",
    "**Data types of the features:**  \n",
    "> train_df consist 7 integer features or floats, test_df consist 6  \n",
    "> totally 5 features are strings\n"
   ]
  },
  {
   "cell_type": "code",
   "execution_count": 8,
   "metadata": {
    "execution": {
     "iopub.execute_input": "2021-01-08T21:30:07.074872Z",
     "iopub.status.busy": "2021-01-08T21:30:07.073889Z",
     "iopub.status.idle": "2021-01-08T21:30:07.079350Z",
     "shell.execute_reply": "2021-01-08T21:30:07.078706Z"
    },
    "papermill": {
     "duration": 0.124648,
     "end_time": "2021-01-08T21:30:07.079495",
     "exception": false,
     "start_time": "2021-01-08T21:30:06.954847",
     "status": "completed"
    },
    "tags": []
   },
   "outputs": [
    {
     "name": "stdout",
     "output_type": "stream",
     "text": [
      "<class 'pandas.core.frame.DataFrame'>\n",
      "RangeIndex: 891 entries, 0 to 890\n",
      "Data columns (total 12 columns):\n",
      " #   Column       Non-Null Count  Dtype  \n",
      "---  ------       --------------  -----  \n",
      " 0   PassengerId  891 non-null    int64  \n",
      " 1   Survived     891 non-null    int64  \n",
      " 2   Pclass       891 non-null    int64  \n",
      " 3   Name         891 non-null    object \n",
      " 4   Sex          891 non-null    object \n",
      " 5   Age          714 non-null    float64\n",
      " 6   SibSp        891 non-null    int64  \n",
      " 7   Parch        891 non-null    int64  \n",
      " 8   Ticket       891 non-null    object \n",
      " 9   Fare         891 non-null    float64\n",
      " 10  Cabin        204 non-null    object \n",
      " 11  Embarked     889 non-null    object \n",
      "dtypes: float64(2), int64(5), object(5)\n",
      "memory usage: 83.7+ KB\n",
      "__________________________________________________\n",
      "<class 'pandas.core.frame.DataFrame'>\n",
      "RangeIndex: 418 entries, 0 to 417\n",
      "Data columns (total 11 columns):\n",
      " #   Column       Non-Null Count  Dtype  \n",
      "---  ------       --------------  -----  \n",
      " 0   PassengerId  418 non-null    int64  \n",
      " 1   Pclass       418 non-null    int64  \n",
      " 2   Name         418 non-null    object \n",
      " 3   Sex          418 non-null    object \n",
      " 4   Age          332 non-null    float64\n",
      " 5   SibSp        418 non-null    int64  \n",
      " 6   Parch        418 non-null    int64  \n",
      " 7   Ticket       418 non-null    object \n",
      " 8   Fare         417 non-null    float64\n",
      " 9   Cabin        91 non-null     object \n",
      " 10  Embarked     418 non-null    object \n",
      "dtypes: float64(2), int64(4), object(5)\n",
      "memory usage: 36.0+ KB\n"
     ]
    }
   ],
   "source": [
    "train_df.info()\n",
    "print('_'*50)\n",
    "test_df.info()\n",
    "\n"
   ]
  },
  {
   "cell_type": "code",
   "execution_count": 9,
   "metadata": {
    "execution": {
     "iopub.execute_input": "2021-01-08T21:30:07.331362Z",
     "iopub.status.busy": "2021-01-08T21:30:07.330320Z",
     "iopub.status.idle": "2021-01-08T21:30:07.364251Z",
     "shell.execute_reply": "2021-01-08T21:30:07.363528Z"
    },
    "papermill": {
     "duration": 0.190873,
     "end_time": "2021-01-08T21:30:07.364391",
     "exception": false,
     "start_time": "2021-01-08T21:30:07.173518",
     "status": "completed"
    },
    "tags": []
   },
   "outputs": [
    {
     "data": {
      "text/html": [
       "<div>\n",
       "<style scoped>\n",
       "    .dataframe tbody tr th:only-of-type {\n",
       "        vertical-align: middle;\n",
       "    }\n",
       "\n",
       "    .dataframe tbody tr th {\n",
       "        vertical-align: top;\n",
       "    }\n",
       "\n",
       "    .dataframe thead th {\n",
       "        text-align: right;\n",
       "    }\n",
       "</style>\n",
       "<table border=\"1\" class=\"dataframe\">\n",
       "  <thead>\n",
       "    <tr style=\"text-align: right;\">\n",
       "      <th></th>\n",
       "      <th>PassengerId</th>\n",
       "      <th>Survived</th>\n",
       "      <th>Pclass</th>\n",
       "      <th>Age</th>\n",
       "      <th>SibSp</th>\n",
       "      <th>Parch</th>\n",
       "      <th>Fare</th>\n",
       "    </tr>\n",
       "  </thead>\n",
       "  <tbody>\n",
       "    <tr>\n",
       "      <th>count</th>\n",
       "      <td>891.000000</td>\n",
       "      <td>891.000000</td>\n",
       "      <td>891.000000</td>\n",
       "      <td>714.000000</td>\n",
       "      <td>891.000000</td>\n",
       "      <td>891.000000</td>\n",
       "      <td>891.000000</td>\n",
       "    </tr>\n",
       "    <tr>\n",
       "      <th>mean</th>\n",
       "      <td>446.000000</td>\n",
       "      <td>0.383838</td>\n",
       "      <td>2.308642</td>\n",
       "      <td>29.699118</td>\n",
       "      <td>0.523008</td>\n",
       "      <td>0.381594</td>\n",
       "      <td>32.204208</td>\n",
       "    </tr>\n",
       "    <tr>\n",
       "      <th>std</th>\n",
       "      <td>257.353842</td>\n",
       "      <td>0.486592</td>\n",
       "      <td>0.836071</td>\n",
       "      <td>14.526497</td>\n",
       "      <td>1.102743</td>\n",
       "      <td>0.806057</td>\n",
       "      <td>49.693429</td>\n",
       "    </tr>\n",
       "    <tr>\n",
       "      <th>min</th>\n",
       "      <td>1.000000</td>\n",
       "      <td>0.000000</td>\n",
       "      <td>1.000000</td>\n",
       "      <td>0.420000</td>\n",
       "      <td>0.000000</td>\n",
       "      <td>0.000000</td>\n",
       "      <td>0.000000</td>\n",
       "    </tr>\n",
       "    <tr>\n",
       "      <th>25%</th>\n",
       "      <td>223.500000</td>\n",
       "      <td>0.000000</td>\n",
       "      <td>2.000000</td>\n",
       "      <td>20.125000</td>\n",
       "      <td>0.000000</td>\n",
       "      <td>0.000000</td>\n",
       "      <td>7.910400</td>\n",
       "    </tr>\n",
       "    <tr>\n",
       "      <th>50%</th>\n",
       "      <td>446.000000</td>\n",
       "      <td>0.000000</td>\n",
       "      <td>3.000000</td>\n",
       "      <td>28.000000</td>\n",
       "      <td>0.000000</td>\n",
       "      <td>0.000000</td>\n",
       "      <td>14.454200</td>\n",
       "    </tr>\n",
       "    <tr>\n",
       "      <th>75%</th>\n",
       "      <td>668.500000</td>\n",
       "      <td>1.000000</td>\n",
       "      <td>3.000000</td>\n",
       "      <td>38.000000</td>\n",
       "      <td>1.000000</td>\n",
       "      <td>0.000000</td>\n",
       "      <td>31.000000</td>\n",
       "    </tr>\n",
       "    <tr>\n",
       "      <th>max</th>\n",
       "      <td>891.000000</td>\n",
       "      <td>1.000000</td>\n",
       "      <td>3.000000</td>\n",
       "      <td>80.000000</td>\n",
       "      <td>8.000000</td>\n",
       "      <td>6.000000</td>\n",
       "      <td>512.329200</td>\n",
       "    </tr>\n",
       "  </tbody>\n",
       "</table>\n",
       "</div>"
      ],
      "text/plain": [
       "       PassengerId    Survived      Pclass         Age       SibSp  \\\n",
       "count   891.000000  891.000000  891.000000  714.000000  891.000000   \n",
       "mean    446.000000    0.383838    2.308642   29.699118    0.523008   \n",
       "std     257.353842    0.486592    0.836071   14.526497    1.102743   \n",
       "min       1.000000    0.000000    1.000000    0.420000    0.000000   \n",
       "25%     223.500000    0.000000    2.000000   20.125000    0.000000   \n",
       "50%     446.000000    0.000000    3.000000   28.000000    0.000000   \n",
       "75%     668.500000    1.000000    3.000000   38.000000    1.000000   \n",
       "max     891.000000    1.000000    3.000000   80.000000    8.000000   \n",
       "\n",
       "            Parch        Fare  \n",
       "count  891.000000  891.000000  \n",
       "mean     0.381594   32.204208  \n",
       "std      0.806057   49.693429  \n",
       "min      0.000000    0.000000  \n",
       "25%      0.000000    7.910400  \n",
       "50%      0.000000   14.454200  \n",
       "75%      0.000000   31.000000  \n",
       "max      6.000000  512.329200  "
      ]
     },
     "execution_count": 9,
     "metadata": {},
     "output_type": "execute_result"
    }
   ],
   "source": [
    "train_df.describe()\n"
   ]
  },
  {
   "cell_type": "markdown",
   "metadata": {
    "papermill": {
     "duration": 0.094283,
     "end_time": "2021-01-08T21:30:07.565548",
     "exception": false,
     "start_time": "2021-01-08T21:30:07.471265",
     "status": "completed"
    },
    "tags": []
   },
   "source": [
    "**Numerical features distribution:**  \n",
    "> total samples number whitin train_df are 891 which is 40% of total passengers amount  \n",
    "> most passengers traveled alone  \n",
    "> survival rate mean is 38%  \n",
    "> the older passenger paid the most  \n",
    "> elders count is low  \n",
    "> fare varies from 0 to 512  "
   ]
  },
  {
   "cell_type": "code",
   "execution_count": 10,
   "metadata": {
    "execution": {
     "iopub.execute_input": "2021-01-08T21:30:07.763522Z",
     "iopub.status.busy": "2021-01-08T21:30:07.762505Z",
     "iopub.status.idle": "2021-01-08T21:30:07.809683Z",
     "shell.execute_reply": "2021-01-08T21:30:07.810158Z"
    },
    "papermill": {
     "duration": 0.151079,
     "end_time": "2021-01-08T21:30:07.810311",
     "exception": false,
     "start_time": "2021-01-08T21:30:07.659232",
     "status": "completed"
    },
    "tags": []
   },
   "outputs": [
    {
     "data": {
      "text/html": [
       "<div>\n",
       "<style scoped>\n",
       "    .dataframe tbody tr th:only-of-type {\n",
       "        vertical-align: middle;\n",
       "    }\n",
       "\n",
       "    .dataframe tbody tr th {\n",
       "        vertical-align: top;\n",
       "    }\n",
       "\n",
       "    .dataframe thead th {\n",
       "        text-align: right;\n",
       "    }\n",
       "</style>\n",
       "<table border=\"1\" class=\"dataframe\">\n",
       "  <thead>\n",
       "    <tr style=\"text-align: right;\">\n",
       "      <th></th>\n",
       "      <th>Name</th>\n",
       "      <th>Sex</th>\n",
       "      <th>Ticket</th>\n",
       "      <th>Cabin</th>\n",
       "      <th>Embarked</th>\n",
       "    </tr>\n",
       "  </thead>\n",
       "  <tbody>\n",
       "    <tr>\n",
       "      <th>count</th>\n",
       "      <td>891</td>\n",
       "      <td>891</td>\n",
       "      <td>891</td>\n",
       "      <td>204</td>\n",
       "      <td>889</td>\n",
       "    </tr>\n",
       "    <tr>\n",
       "      <th>unique</th>\n",
       "      <td>891</td>\n",
       "      <td>2</td>\n",
       "      <td>681</td>\n",
       "      <td>147</td>\n",
       "      <td>3</td>\n",
       "    </tr>\n",
       "    <tr>\n",
       "      <th>top</th>\n",
       "      <td>Richard, Mr. Emile</td>\n",
       "      <td>male</td>\n",
       "      <td>347082</td>\n",
       "      <td>B96 B98</td>\n",
       "      <td>S</td>\n",
       "    </tr>\n",
       "    <tr>\n",
       "      <th>freq</th>\n",
       "      <td>1</td>\n",
       "      <td>577</td>\n",
       "      <td>7</td>\n",
       "      <td>4</td>\n",
       "      <td>644</td>\n",
       "    </tr>\n",
       "  </tbody>\n",
       "</table>\n",
       "</div>"
      ],
      "text/plain": [
       "                      Name   Sex  Ticket    Cabin Embarked\n",
       "count                  891   891     891      204      889\n",
       "unique                 891     2     681      147        3\n",
       "top     Richard, Mr. Emile  male  347082  B96 B98        S\n",
       "freq                     1   577       7        4      644"
      ]
     },
     "execution_count": 10,
     "metadata": {},
     "output_type": "execute_result"
    }
   ],
   "source": [
    "train_df.describe(include=['O'])\n"
   ]
  },
  {
   "cell_type": "markdown",
   "metadata": {
    "papermill": {
     "duration": 0.094809,
     "end_time": "2021-01-08T21:30:07.997155",
     "exception": false,
     "start_time": "2021-01-08T21:30:07.902346",
     "status": "completed"
    },
    "tags": []
   },
   "source": [
    "**Distribution of categorial features:**  \n",
    "> males are the majority onboard, about 65%  \n",
    "> names are unique  \n",
    "> cabins are not necessarily unique(a cabin can be shared)  \n",
    "> most frequent embraked value is S  \n",
    "> ticket has a lot of duplicates  \n",
    "\n"
   ]
  },
  {
   "cell_type": "markdown",
   "metadata": {
    "papermill": {
     "duration": 0.092819,
     "end_time": "2021-01-08T21:30:08.187750",
     "exception": false,
     "start_time": "2021-01-08T21:30:08.094931",
     "status": "completed"
    },
    "tags": []
   },
   "source": [
    "Lets try and see if there is any correlation between the features"
   ]
  },
  {
   "cell_type": "markdown",
   "metadata": {
    "papermill": {
     "duration": 0.094714,
     "end_time": "2021-01-08T21:30:08.375757",
     "exception": false,
     "start_time": "2021-01-08T21:30:08.281043",
     "status": "completed"
    },
    "tags": []
   },
   "source": [
    "# Basic assumptions\n",
    "\n",
    "**Correlating:**  \n",
    "we want to check which features correlate with with survival  \n",
    "  \n",
    "**Completing data:**  \n",
    "we may need to complete age and embraked features, which may both correlate with survival  \n",
    "\n",
    "**Fixing the data frame:**  \n",
    "> ticket has many duplicates therefore we may need to drop it  \n",
    "> cabin feature has many null values within it, we may need to drop it  \n",
    "> name and passengerID may be dropped as well because they may not contribute with survival chances  \n",
    "  \n",
    "**Feature creating:**  \n",
    "> it is possible that we will want to create a new feature which is family related  \n",
    "> we may want to extract the title of each passenger   \n",
    "> we may want to create age range fields  \n",
    "> we may want to create fare range fields  \n",
    "\n",
    "**Assumptions:**  \n",
    "> 1. is survival has a strong correlation with survival ?  \n",
    "> 2. children has better survival chances, in what range ?   \n",
    "> 3. the rich had better surviving chances"
   ]
  },
  {
   "cell_type": "code",
   "execution_count": 11,
   "metadata": {
    "execution": {
     "iopub.execute_input": "2021-01-08T21:30:08.566358Z",
     "iopub.status.busy": "2021-01-08T21:30:08.565601Z",
     "iopub.status.idle": "2021-01-08T21:30:09.158543Z",
     "shell.execute_reply": "2021-01-08T21:30:09.159106Z"
    },
    "papermill": {
     "duration": 0.692313,
     "end_time": "2021-01-08T21:30:09.159258",
     "exception": false,
     "start_time": "2021-01-08T21:30:08.466945",
     "status": "completed"
    },
    "tags": []
   },
   "outputs": [
    {
     "data": {
      "image/png": "[encoded data removed]",
      "text/plain": [
       "<Figure size 864x720 with 2 Axes>"
      ]
     },
     "metadata": {
      "needs_background": "light"
     },
     "output_type": "display_data"
    }
   ],
   "source": [
    "plt.figure(figsize=(12,10))\n",
    "cor = np.abs(train_df.corr())\n",
    "sns.heatmap(cor, annot=True, cmap=plt.cm.Greens, vmin=0, vmax=1)\n",
    "plt.show()"
   ]
  },
  {
   "cell_type": "markdown",
   "metadata": {
    "papermill": {
     "duration": 0.101538,
     "end_time": "2021-01-08T21:30:09.354782",
     "exception": false,
     "start_time": "2021-01-08T21:30:09.253244",
     "status": "completed"
    },
    "tags": []
   },
   "source": [
    "**Correlation**  \n",
    "There is a problem correlationg categorial and numeral features,  \n",
    "therefore we will need to make some changes in the data frames"
   ]
  },
  {
   "cell_type": "code",
   "execution_count": 12,
   "metadata": {
    "execution": {
     "iopub.execute_input": "2021-01-08T21:30:09.616628Z",
     "iopub.status.busy": "2021-01-08T21:30:09.615425Z",
     "iopub.status.idle": "2021-01-08T21:30:09.624214Z",
     "shell.execute_reply": "2021-01-08T21:30:09.623229Z"
    },
    "papermill": {
     "duration": 0.174696,
     "end_time": "2021-01-08T21:30:09.624462",
     "exception": false,
     "start_time": "2021-01-08T21:30:09.449766",
     "status": "completed"
    },
    "tags": []
   },
   "outputs": [
    {
     "data": {
      "text/html": [
       "<div>\n",
       "<style scoped>\n",
       "    .dataframe tbody tr th:only-of-type {\n",
       "        vertical-align: middle;\n",
       "    }\n",
       "\n",
       "    .dataframe tbody tr th {\n",
       "        vertical-align: top;\n",
       "    }\n",
       "\n",
       "    .dataframe thead th {\n",
       "        text-align: right;\n",
       "    }\n",
       "</style>\n",
       "<table border=\"1\" class=\"dataframe\">\n",
       "  <thead>\n",
       "    <tr style=\"text-align: right;\">\n",
       "      <th></th>\n",
       "      <th>Sex</th>\n",
       "      <th>Survived</th>\n",
       "    </tr>\n",
       "  </thead>\n",
       "  <tbody>\n",
       "    <tr>\n",
       "      <th>0</th>\n",
       "      <td>female</td>\n",
       "      <td>0.742038</td>\n",
       "    </tr>\n",
       "    <tr>\n",
       "      <th>1</th>\n",
       "      <td>male</td>\n",
       "      <td>0.188908</td>\n",
       "    </tr>\n",
       "  </tbody>\n",
       "</table>\n",
       "</div>"
      ],
      "text/plain": [
       "      Sex  Survived\n",
       "0  female  0.742038\n",
       "1    male  0.188908"
      ]
     },
     "execution_count": 12,
     "metadata": {},
     "output_type": "execute_result"
    }
   ],
   "source": [
    "train_df[[\"Sex\", \"Survived\"]].groupby(['Sex'], as_index=False).mean().sort_values(by='Survived', ascending=False)\n"
   ]
  },
  {
   "cell_type": "code",
   "execution_count": 13,
   "metadata": {
    "execution": {
     "iopub.execute_input": "2021-01-08T21:30:09.839943Z",
     "iopub.status.busy": "2021-01-08T21:30:09.838662Z",
     "iopub.status.idle": "2021-01-08T21:30:09.843244Z",
     "shell.execute_reply": "2021-01-08T21:30:09.844216Z"
    },
    "papermill": {
     "duration": 0.115502,
     "end_time": "2021-01-08T21:30:09.844487",
     "exception": false,
     "start_time": "2021-01-08T21:30:09.728985",
     "status": "completed"
    },
    "tags": []
   },
   "outputs": [
    {
     "name": "stdout",
     "output_type": "stream",
     "text": [
      "Precentage of survived women 74.20382165605095 \n",
      " Precentage of men survived 18.890814558058924\n"
     ]
    }
   ],
   "source": [
    "women = train_df.loc[train_df.Sex == 'female'][\"Survived\"]\n",
    "women_rate = sum(women)/len(women)\n",
    "men = train_df.loc[train_df.Sex == 'male'][\"Survived\"]\n",
    "men_rate = sum(men)/len(men)\n",
    "print(\"Precentage of survived women\", women_rate*100,'\\n', \"Precentage of men survived\", men_rate*100)"
   ]
  },
  {
   "cell_type": "markdown",
   "metadata": {
    "papermill": {
     "duration": 0.095113,
     "end_time": "2021-01-08T21:30:10.043563",
     "exception": false,
     "start_time": "2021-01-08T21:30:09.948450",
     "status": "completed"
    },
    "tags": []
   },
   "source": [
    "\n",
    "we can see there is a strong relation between sex and survival chances  \n",
    "**74%** of the women on the ship survived  \n",
    "while only **18.9%** of the man on board survived"
   ]
  },
  {
   "cell_type": "markdown",
   "metadata": {
    "papermill": {
     "duration": 0.094599,
     "end_time": "2021-01-08T21:30:10.235317",
     "exception": false,
     "start_time": "2021-01-08T21:30:10.140718",
     "status": "completed"
    },
    "tags": []
   },
   "source": [
    "now lets present the rate of sex survival chances in a graph  \n",
    "it is obvious that **females** had better chacnes to survive"
   ]
  },
  {
   "cell_type": "code",
   "execution_count": 14,
   "metadata": {
    "execution": {
     "iopub.execute_input": "2021-01-08T21:30:10.438578Z",
     "iopub.status.busy": "2021-01-08T21:30:10.437682Z",
     "iopub.status.idle": "2021-01-08T21:30:10.595648Z",
     "shell.execute_reply": "2021-01-08T21:30:10.594909Z"
    },
    "papermill": {
     "duration": 0.2652,
     "end_time": "2021-01-08T21:30:10.595768",
     "exception": false,
     "start_time": "2021-01-08T21:30:10.330568",
     "status": "completed"
    },
    "tags": []
   },
   "outputs": [
    {
     "data": {
      "text/plain": [
       "<matplotlib.axes._subplots.AxesSubplot at 0x7f6fa02f1390>"
      ]
     },
     "execution_count": 14,
     "metadata": {},
     "output_type": "execute_result"
    },
    {
     "data": {
      "image/png": "[encoded data removed]",
      "text/plain": [
       "<Figure size 432x288 with 1 Axes>"
      ]
     },
     "metadata": {
      "needs_background": "light"
     },
     "output_type": "display_data"
    }
   ],
   "source": [
    "sns.countplot(x='Sex', hue= 'Survived',data=train_df)\n"
   ]
  },
  {
   "cell_type": "markdown",
   "metadata": {
    "papermill": {
     "duration": 0.100203,
     "end_time": "2021-01-08T21:30:10.790622",
     "exception": false,
     "start_time": "2021-01-08T21:30:10.690419",
     "status": "completed"
    },
    "tags": []
   },
   "source": [
    "# Sex related observations\n",
    " Females had better survival chances as we first suspected  \n",
    " "
   ]
  },
  {
   "cell_type": "code",
   "execution_count": 15,
   "metadata": {
    "execution": {
     "iopub.execute_input": "2021-01-08T21:30:11.013762Z",
     "iopub.status.busy": "2021-01-08T21:30:11.012632Z",
     "iopub.status.idle": "2021-01-08T21:30:11.016988Z",
     "shell.execute_reply": "2021-01-08T21:30:11.017649Z"
    },
    "papermill": {
     "duration": 0.121913,
     "end_time": "2021-01-08T21:30:11.017828",
     "exception": false,
     "start_time": "2021-01-08T21:30:10.895915",
     "status": "completed"
    },
    "tags": []
   },
   "outputs": [
    {
     "data": {
      "text/html": [
       "<div>\n",
       "<style scoped>\n",
       "    .dataframe tbody tr th:only-of-type {\n",
       "        vertical-align: middle;\n",
       "    }\n",
       "\n",
       "    .dataframe tbody tr th {\n",
       "        vertical-align: top;\n",
       "    }\n",
       "\n",
       "    .dataframe thead th {\n",
       "        text-align: right;\n",
       "    }\n",
       "</style>\n",
       "<table border=\"1\" class=\"dataframe\">\n",
       "  <thead>\n",
       "    <tr style=\"text-align: right;\">\n",
       "      <th></th>\n",
       "      <th>SibSp</th>\n",
       "      <th>Survived</th>\n",
       "    </tr>\n",
       "  </thead>\n",
       "  <tbody>\n",
       "    <tr>\n",
       "      <th>1</th>\n",
       "      <td>1</td>\n",
       "      <td>0.535885</td>\n",
       "    </tr>\n",
       "    <tr>\n",
       "      <th>2</th>\n",
       "      <td>2</td>\n",
       "      <td>0.464286</td>\n",
       "    </tr>\n",
       "    <tr>\n",
       "      <th>0</th>\n",
       "      <td>0</td>\n",
       "      <td>0.345395</td>\n",
       "    </tr>\n",
       "    <tr>\n",
       "      <th>3</th>\n",
       "      <td>3</td>\n",
       "      <td>0.250000</td>\n",
       "    </tr>\n",
       "    <tr>\n",
       "      <th>4</th>\n",
       "      <td>4</td>\n",
       "      <td>0.166667</td>\n",
       "    </tr>\n",
       "    <tr>\n",
       "      <th>5</th>\n",
       "      <td>5</td>\n",
       "      <td>0.000000</td>\n",
       "    </tr>\n",
       "    <tr>\n",
       "      <th>6</th>\n",
       "      <td>8</td>\n",
       "      <td>0.000000</td>\n",
       "    </tr>\n",
       "  </tbody>\n",
       "</table>\n",
       "</div>"
      ],
      "text/plain": [
       "   SibSp  Survived\n",
       "1      1  0.535885\n",
       "2      2  0.464286\n",
       "0      0  0.345395\n",
       "3      3  0.250000\n",
       "4      4  0.166667\n",
       "5      5  0.000000\n",
       "6      8  0.000000"
      ]
     },
     "execution_count": 15,
     "metadata": {},
     "output_type": "execute_result"
    }
   ],
   "source": [
    "train_df[[\"SibSp\", \"Survived\"]].groupby(['SibSp'], as_index=False).mean().sort_values(by='Survived', ascending=False)\n"
   ]
  },
  {
   "cell_type": "markdown",
   "metadata": {
    "papermill": {
     "duration": 0.098033,
     "end_time": "2021-01-08T21:30:11.218181",
     "exception": false,
     "start_time": "2021-01-08T21:30:11.120148",
     "status": "completed"
    },
    "tags": []
   },
   "source": [
    "**Sibsp** presents the number of siblings or spuses on board  \n",
    "we can see that a person with a bigger amount of siblings  \n",
    "or spouses had lower survival chances  "
   ]
  },
  {
   "cell_type": "code",
   "execution_count": 16,
   "metadata": {
    "execution": {
     "iopub.execute_input": "2021-01-08T21:30:11.417458Z",
     "iopub.status.busy": "2021-01-08T21:30:11.416347Z",
     "iopub.status.idle": "2021-01-08T21:30:11.433161Z",
     "shell.execute_reply": "2021-01-08T21:30:11.433767Z"
    },
    "papermill": {
     "duration": 0.118684,
     "end_time": "2021-01-08T21:30:11.433967",
     "exception": false,
     "start_time": "2021-01-08T21:30:11.315283",
     "status": "completed"
    },
    "tags": []
   },
   "outputs": [
    {
     "data": {
      "text/html": [
       "<div>\n",
       "<style scoped>\n",
       "    .dataframe tbody tr th:only-of-type {\n",
       "        vertical-align: middle;\n",
       "    }\n",
       "\n",
       "    .dataframe tbody tr th {\n",
       "        vertical-align: top;\n",
       "    }\n",
       "\n",
       "    .dataframe thead th {\n",
       "        text-align: right;\n",
       "    }\n",
       "</style>\n",
       "<table border=\"1\" class=\"dataframe\">\n",
       "  <thead>\n",
       "    <tr style=\"text-align: right;\">\n",
       "      <th></th>\n",
       "      <th>Parch</th>\n",
       "      <th>Survived</th>\n",
       "    </tr>\n",
       "  </thead>\n",
       "  <tbody>\n",
       "    <tr>\n",
       "      <th>3</th>\n",
       "      <td>3</td>\n",
       "      <td>0.600000</td>\n",
       "    </tr>\n",
       "    <tr>\n",
       "      <th>1</th>\n",
       "      <td>1</td>\n",
       "      <td>0.550847</td>\n",
       "    </tr>\n",
       "    <tr>\n",
       "      <th>2</th>\n",
       "      <td>2</td>\n",
       "      <td>0.500000</td>\n",
       "    </tr>\n",
       "    <tr>\n",
       "      <th>0</th>\n",
       "      <td>0</td>\n",
       "      <td>0.343658</td>\n",
       "    </tr>\n",
       "    <tr>\n",
       "      <th>5</th>\n",
       "      <td>5</td>\n",
       "      <td>0.200000</td>\n",
       "    </tr>\n",
       "    <tr>\n",
       "      <th>4</th>\n",
       "      <td>4</td>\n",
       "      <td>0.000000</td>\n",
       "    </tr>\n",
       "    <tr>\n",
       "      <th>6</th>\n",
       "      <td>6</td>\n",
       "      <td>0.000000</td>\n",
       "    </tr>\n",
       "  </tbody>\n",
       "</table>\n",
       "</div>"
      ],
      "text/plain": [
       "   Parch  Survived\n",
       "3      3  0.600000\n",
       "1      1  0.550847\n",
       "2      2  0.500000\n",
       "0      0  0.343658\n",
       "5      5  0.200000\n",
       "4      4  0.000000\n",
       "6      6  0.000000"
      ]
     },
     "execution_count": 16,
     "metadata": {},
     "output_type": "execute_result"
    }
   ],
   "source": [
    "train_df[[\"Parch\", \"Survived\"]].groupby(['Parch'], as_index=False).mean().sort_values(by='Survived', ascending=False)\n"
   ]
  },
  {
   "cell_type": "markdown",
   "metadata": {
    "papermill": {
     "duration": 0.097889,
     "end_time": "2021-01-08T21:30:11.634003",
     "exception": false,
     "start_time": "2021-01-08T21:30:11.536114",
     "status": "completed"
    },
    "tags": []
   },
   "source": [
    "**Parch** field represents the number of parents or children aborad "
   ]
  },
  {
   "cell_type": "code",
   "execution_count": 17,
   "metadata": {
    "execution": {
     "iopub.execute_input": "2021-01-08T21:30:11.833488Z",
     "iopub.status.busy": "2021-01-08T21:30:11.832718Z",
     "iopub.status.idle": "2021-01-08T21:30:12.334980Z",
     "shell.execute_reply": "2021-01-08T21:30:12.335513Z"
    },
    "papermill": {
     "duration": 0.604311,
     "end_time": "2021-01-08T21:30:12.335675",
     "exception": false,
     "start_time": "2021-01-08T21:30:11.731364",
     "status": "completed"
    },
    "tags": []
   },
   "outputs": [
    {
     "data": {
      "text/plain": [
       "<seaborn.axisgrid.FacetGrid at 0x7f6f7d3d88d0>"
      ]
     },
     "execution_count": 17,
     "metadata": {},
     "output_type": "execute_result"
    },
    {
     "data": {
      "image/png": "[encoded data removed]",
      "text/plain": [
       "<Figure size 604.8x252 with 2 Axes>"
      ]
     },
     "metadata": {
      "needs_background": "light"
     },
     "output_type": "display_data"
    }
   ],
   "source": [
    "g = sns.FacetGrid(train_df, col='Survived',height=3.5, aspect=1.2)\n",
    "g.map(plt.hist, 'Age', bins=20)"
   ]
  },
  {
   "cell_type": "code",
   "execution_count": 18,
   "metadata": {
    "execution": {
     "iopub.execute_input": "2021-01-08T21:30:12.558844Z",
     "iopub.status.busy": "2021-01-08T21:30:12.557818Z",
     "iopub.status.idle": "2021-01-08T21:30:12.870982Z",
     "shell.execute_reply": "2021-01-08T21:30:12.871628Z"
    },
    "papermill": {
     "duration": 0.428632,
     "end_time": "2021-01-08T21:30:12.871786",
     "exception": false,
     "start_time": "2021-01-08T21:30:12.443154",
     "status": "completed"
    },
    "tags": []
   },
   "outputs": [
    {
     "data": {
      "text/plain": [
       "<matplotlib.legend.Legend at 0x7f6f7d2ccd90>"
      ]
     },
     "execution_count": 18,
     "metadata": {},
     "output_type": "execute_result"
    },
    {
     "data": {
      "image/png": "[encoded data removed]",
      "text/plain": [
       "<Figure size 720x432 with 1 Axes>"
      ]
     },
     "metadata": {
      "needs_background": "light"
     },
     "output_type": "display_data"
    }
   ],
   "source": [
    "fig, ax = plt.subplots(1,1,figsize=(10,6))\n",
    "\n",
    "sns.distplot(train_df['Age'][(train_df['Age'].notnull())&(train_df['Survived']==0)] , ax=ax )\n",
    "sns.distplot(train_df['Age'][(train_df['Age'].notnull())&(train_df['Survived']==1)] , ax=ax )\n",
    "\n",
    "plt.legend(['Not Survived', 'Survived'])"
   ]
  },
  {
   "cell_type": "markdown",
   "metadata": {
    "papermill": {
     "duration": 0.10403,
     "end_time": "2021-01-08T21:30:13.077507",
     "exception": false,
     "start_time": "2021-01-08T21:30:12.973477",
     "status": "completed"
    },
    "tags": []
   },
   "source": [
    "# Age related observations\n",
    "> Infants had a good survival chance\n",
    "> There are a lot of death cases in the age range of 16-25\n",
    "> The older passenger survived\n",
    "> Most death cases are within the range of 16 - 40  \n",
    "\n",
    "**Decisions:**  \n",
    "> complete the null age fields  \n",
    "> create age gropus  \n",
    "> consider age in our model  "
   ]
  },
  {
   "cell_type": "code",
   "execution_count": 19,
   "metadata": {
    "execution": {
     "iopub.execute_input": "2021-01-08T21:30:13.290312Z",
     "iopub.status.busy": "2021-01-08T21:30:13.289110Z",
     "iopub.status.idle": "2021-01-08T21:30:13.302872Z",
     "shell.execute_reply": "2021-01-08T21:30:13.302131Z"
    },
    "papermill": {
     "duration": 0.120158,
     "end_time": "2021-01-08T21:30:13.302992",
     "exception": false,
     "start_time": "2021-01-08T21:30:13.182834",
     "status": "completed"
    },
    "tags": []
   },
   "outputs": [
    {
     "data": {
      "text/html": [
       "<div>\n",
       "<style scoped>\n",
       "    .dataframe tbody tr th:only-of-type {\n",
       "        vertical-align: middle;\n",
       "    }\n",
       "\n",
       "    .dataframe tbody tr th {\n",
       "        vertical-align: top;\n",
       "    }\n",
       "\n",
       "    .dataframe thead th {\n",
       "        text-align: right;\n",
       "    }\n",
       "</style>\n",
       "<table border=\"1\" class=\"dataframe\">\n",
       "  <thead>\n",
       "    <tr style=\"text-align: right;\">\n",
       "      <th></th>\n",
       "      <th>Pclass</th>\n",
       "      <th>Survived</th>\n",
       "    </tr>\n",
       "  </thead>\n",
       "  <tbody>\n",
       "    <tr>\n",
       "      <th>0</th>\n",
       "      <td>1</td>\n",
       "      <td>0.629630</td>\n",
       "    </tr>\n",
       "    <tr>\n",
       "      <th>1</th>\n",
       "      <td>2</td>\n",
       "      <td>0.472826</td>\n",
       "    </tr>\n",
       "    <tr>\n",
       "      <th>2</th>\n",
       "      <td>3</td>\n",
       "      <td>0.242363</td>\n",
       "    </tr>\n",
       "  </tbody>\n",
       "</table>\n",
       "</div>"
      ],
      "text/plain": [
       "   Pclass  Survived\n",
       "0       1  0.629630\n",
       "1       2  0.472826\n",
       "2       3  0.242363"
      ]
     },
     "execution_count": 19,
     "metadata": {},
     "output_type": "execute_result"
    }
   ],
   "source": [
    "train_df[['Pclass', 'Survived']].groupby(['Pclass'], as_index=False).mean().sort_values(by='Survived', ascending=False)\n"
   ]
  },
  {
   "cell_type": "code",
   "execution_count": 20,
   "metadata": {
    "execution": {
     "iopub.execute_input": "2021-01-08T21:30:13.521091Z",
     "iopub.status.busy": "2021-01-08T21:30:13.519995Z",
     "iopub.status.idle": "2021-01-08T21:30:13.529947Z",
     "shell.execute_reply": "2021-01-08T21:30:13.529365Z"
    },
    "papermill": {
     "duration": 0.123488,
     "end_time": "2021-01-08T21:30:13.530060",
     "exception": false,
     "start_time": "2021-01-08T21:30:13.406572",
     "status": "completed"
    },
    "tags": []
   },
   "outputs": [
    {
     "name": "stdout",
     "output_type": "stream",
     "text": [
      "First class survival rate 62.96296296296296 \n",
      " Second class survival rate 47.28260869565217 \n",
      " Third class survival rate 24.236252545824847\n"
     ]
    }
   ],
   "source": [
    "first_cl = train_df.loc[train_df.Pclass == 1]['Survived']\n",
    "first_cl_sur_rate = sum(first_cl)/len(first_cl)\n",
    "second_cl=train_df.loc[train_df.Pclass == 2]['Survived']\n",
    "second_cl_sur_rate = sum(second_cl)/len(second_cl)\n",
    "third_cl = train_df.loc[train_df.Pclass == 3]['Survived']\n",
    "third_cl_sur_rate = sum(third_cl)/len(third_cl)\n",
    "print(\"First class survival rate\" ,first_cl_sur_rate*100,'\\n',\"Second class survival rate\",second_cl_sur_rate*100,'\\n',\"Third class survival rate\",third_cl_sur_rate*100)"
   ]
  },
  {
   "cell_type": "code",
   "execution_count": 21,
   "metadata": {
    "execution": {
     "iopub.execute_input": "2021-01-08T21:30:13.755119Z",
     "iopub.status.busy": "2021-01-08T21:30:13.753786Z",
     "iopub.status.idle": "2021-01-08T21:30:16.506730Z",
     "shell.execute_reply": "2021-01-08T21:30:16.507482Z"
    },
    "papermill": {
     "duration": 2.872723,
     "end_time": "2021-01-08T21:30:16.507648",
     "exception": false,
     "start_time": "2021-01-08T21:30:13.634925",
     "status": "completed"
    },
    "tags": []
   },
   "outputs": [
    {
     "data": {
      "image/png": "[encoded data removed]",
      "text/plain": [
       "<Figure size 612.8x756 with 6 Axes>"
      ]
     },
     "metadata": {
      "needs_background": "light"
     },
     "output_type": "display_data"
    }
   ],
   "source": [
    "grid = sns.FacetGrid(train_df, col='Survived', row='Pclass',height=3.5, aspect=1.2)\n",
    "grid.map(plt.hist, 'Age', alpha=.5, bins=20)\n",
    "grid.add_legend();"
   ]
  },
  {
   "cell_type": "markdown",
   "metadata": {
    "papermill": {
     "duration": 0.101958,
     "end_time": "2021-01-08T21:30:16.724615",
     "exception": false,
     "start_time": "2021-01-08T21:30:16.622657",
     "status": "completed"
    },
    "tags": []
   },
   "source": [
    "# Class related observations\n",
    "we can see that there is a strong connection between class and survival chances\n",
    "> 1.  **62.9%** of the passengers in first class survived  \n",
    "> 2.  **47.2%** of the passengers in second class survived  \n",
    "> 3.  **24.2%** of the passengers in third class survived  \n",
    "\n",
    "we can see that the richer a person was the better survival chance he had  \n",
    "\n",
    "**Decisions:**  \n",
    "> consider class for modeling "
   ]
  },
  {
   "cell_type": "code",
   "execution_count": 22,
   "metadata": {
    "execution": {
     "iopub.execute_input": "2021-01-08T21:30:16.933119Z",
     "iopub.status.busy": "2021-01-08T21:30:16.932108Z",
     "iopub.status.idle": "2021-01-08T21:30:18.254642Z",
     "shell.execute_reply": "2021-01-08T21:30:18.253896Z"
    },
    "papermill": {
     "duration": 1.427583,
     "end_time": "2021-01-08T21:30:18.254779",
     "exception": false,
     "start_time": "2021-01-08T21:30:16.827196",
     "status": "completed"
    },
    "tags": []
   },
   "outputs": [
    {
     "name": "stderr",
     "output_type": "stream",
     "text": [
      "/opt/conda/lib/python3.7/site-packages/seaborn/axisgrid.py:728: UserWarning: Using the pointplot function without specifying `order` is likely to produce an incorrect plot.\n",
      "  warnings.warn(warning)\n",
      "/opt/conda/lib/python3.7/site-packages/seaborn/axisgrid.py:733: UserWarning: Using the pointplot function without specifying `hue_order` is likely to produce an incorrect plot.\n",
      "  warnings.warn(warning)\n"
     ]
    },
    {
     "data": {
      "text/plain": [
       "<seaborn.axisgrid.FacetGrid at 0x7f6f7d170050>"
      ]
     },
     "execution_count": 22,
     "metadata": {},
     "output_type": "execute_result"
    },
    {
     "data": {
      "image/png": "[encoded data removed]",
      "text/plain": [
       "<Figure size 977.7x252 with 3 Axes>"
      ]
     },
     "metadata": {
      "needs_background": "light"
     },
     "output_type": "display_data"
    }
   ],
   "source": [
    "grid = sns.FacetGrid(train_df, col='Embarked',height=3.5, aspect=1.2)\n",
    "grid.map(sns.pointplot, 'Pclass', 'Survived', 'Sex', palette='deep')\n",
    "grid.add_legend()"
   ]
  },
  {
   "cell_type": "markdown",
   "metadata": {
    "papermill": {
     "duration": 0.11064,
     "end_time": "2021-01-08T21:30:18.472576",
     "exception": false,
     "start_time": "2021-01-08T21:30:18.361936",
     "status": "completed"
    },
    "tags": []
   },
   "source": [
    "# Embarked observations\n",
    "There is an exception in C - females in C had worse survival chance comparing to females embraked from Q and S\n",
    "Generaly speaking,female passengers had better survival chances  \n",
    "\n",
    "**Decisions:**  \n",
    "> add sex feature to training  \n",
    "> complete the missing embraked fields  \n",
    "\n"
   ]
  },
  {
   "cell_type": "code",
   "execution_count": 23,
   "metadata": {
    "execution": {
     "iopub.execute_input": "2021-01-08T21:30:18.697081Z",
     "iopub.status.busy": "2021-01-08T21:30:18.696290Z",
     "iopub.status.idle": "2021-01-08T21:30:20.056297Z",
     "shell.execute_reply": "2021-01-08T21:30:20.055683Z"
    },
    "papermill": {
     "duration": 1.47762,
     "end_time": "2021-01-08T21:30:20.056438",
     "exception": false,
     "start_time": "2021-01-08T21:30:18.578818",
     "status": "completed"
    },
    "tags": []
   },
   "outputs": [
    {
     "name": "stderr",
     "output_type": "stream",
     "text": [
      "/opt/conda/lib/python3.7/site-packages/seaborn/axisgrid.py:728: UserWarning: Using the barplot function without specifying `order` is likely to produce an incorrect plot.\n",
      "  warnings.warn(warning)\n"
     ]
    },
    {
     "data": {
      "text/plain": [
       "<seaborn.axisgrid.FacetGrid at 0x7f6f7d031e50>"
      ]
     },
     "execution_count": 23,
     "metadata": {},
     "output_type": "execute_result"
    },
    {
     "data": {
      "image/png": "[encoded data removed]",
      "text/plain": [
       "<Figure size 612.8x756 with 6 Axes>"
      ]
     },
     "metadata": {
      "needs_background": "light"
     },
     "output_type": "display_data"
    }
   ],
   "source": [
    "grid = sns.FacetGrid(train_df, row='Embarked', col='Survived',height=3.5, aspect=1.2)\n",
    "grid.map(sns.barplot, 'Sex', 'Fare', alpha=.5, ci=None)\n",
    "grid.add_legend()"
   ]
  },
  {
   "cell_type": "markdown",
   "metadata": {
    "papermill": {
     "duration": 0.106343,
     "end_time": "2021-01-08T21:30:20.268139",
     "exception": false,
     "start_time": "2021-01-08T21:30:20.161796",
     "status": "completed"
    },
    "tags": []
   },
   "source": [
    "# Fare related observations\n",
    "In general higher fare costs caused better survival chances  \n",
    "We can see that there is a certain correlation between embarked and survival  \n",
    "\n",
    "**Decisions:**  \n",
    "> consider creating fare groups  \n"
   ]
  },
  {
   "cell_type": "markdown",
   "metadata": {
    "papermill": {
     "duration": 0.108995,
     "end_time": "2021-01-08T21:30:20.483133",
     "exception": false,
     "start_time": "2021-01-08T21:30:20.374138",
     "status": "completed"
    },
    "tags": []
   },
   "source": [
    "# Fixing the data \n"
   ]
  },
  {
   "cell_type": "markdown",
   "metadata": {
    "papermill": {
     "duration": 0.107328,
     "end_time": "2021-01-08T21:30:20.695149",
     "exception": false,
     "start_time": "2021-01-08T21:30:20.587821",
     "status": "completed"
    },
    "tags": []
   },
   "source": [
    " **Dropping Ticket and Cabin**  \n",
    "According to the observations we should drop these columns "
   ]
  },
  {
   "cell_type": "code",
   "execution_count": 24,
   "metadata": {
    "execution": {
     "iopub.execute_input": "2021-01-08T21:30:20.920162Z",
     "iopub.status.busy": "2021-01-08T21:30:20.919139Z",
     "iopub.status.idle": "2021-01-08T21:30:20.922844Z",
     "shell.execute_reply": "2021-01-08T21:30:20.922269Z"
    },
    "papermill": {
     "duration": 0.12156,
     "end_time": "2021-01-08T21:30:20.922963",
     "exception": false,
     "start_time": "2021-01-08T21:30:20.801403",
     "status": "completed"
    },
    "tags": []
   },
   "outputs": [],
   "source": [
    "\n",
    "\n",
    "train_df = train_df.drop(['Ticket', 'Cabin'], axis=1)\n",
    "test_df = test_df.drop(['Ticket', 'Cabin'], axis=1)\n",
    "combine = [train_df, test_df]\n",
    "\n"
   ]
  },
  {
   "cell_type": "markdown",
   "metadata": {
    "papermill": {
     "duration": 0.112153,
     "end_time": "2021-01-08T21:30:21.142673",
     "exception": false,
     "start_time": "2021-01-08T21:30:21.030520",
     "status": "completed"
    },
    "tags": []
   },
   "source": [
    " **Adding Title feature**  \n",
    "We will extract the title of each person using Regex\n",
    "\n"
   ]
  },
  {
   "cell_type": "code",
   "execution_count": 25,
   "metadata": {
    "execution": {
     "iopub.execute_input": "2021-01-08T21:30:21.365009Z",
     "iopub.status.busy": "2021-01-08T21:30:21.364268Z",
     "iopub.status.idle": "2021-01-08T21:30:21.396948Z",
     "shell.execute_reply": "2021-01-08T21:30:21.397532Z"
    },
    "papermill": {
     "duration": 0.148238,
     "end_time": "2021-01-08T21:30:21.397727",
     "exception": false,
     "start_time": "2021-01-08T21:30:21.249489",
     "status": "completed"
    },
    "tags": []
   },
   "outputs": [
    {
     "data": {
      "text/html": [
       "<div>\n",
       "<style scoped>\n",
       "    .dataframe tbody tr th:only-of-type {\n",
       "        vertical-align: middle;\n",
       "    }\n",
       "\n",
       "    .dataframe tbody tr th {\n",
       "        vertical-align: top;\n",
       "    }\n",
       "\n",
       "    .dataframe thead th {\n",
       "        text-align: right;\n",
       "    }\n",
       "</style>\n",
       "<table border=\"1\" class=\"dataframe\">\n",
       "  <thead>\n",
       "    <tr style=\"text-align: right;\">\n",
       "      <th>Sex</th>\n",
       "      <th>female</th>\n",
       "      <th>male</th>\n",
       "    </tr>\n",
       "    <tr>\n",
       "      <th>Title</th>\n",
       "      <th></th>\n",
       "      <th></th>\n",
       "    </tr>\n",
       "  </thead>\n",
       "  <tbody>\n",
       "    <tr>\n",
       "      <th>Capt</th>\n",
       "      <td>0</td>\n",
       "      <td>1</td>\n",
       "    </tr>\n",
       "    <tr>\n",
       "      <th>Col</th>\n",
       "      <td>0</td>\n",
       "      <td>2</td>\n",
       "    </tr>\n",
       "    <tr>\n",
       "      <th>Countess</th>\n",
       "      <td>1</td>\n",
       "      <td>0</td>\n",
       "    </tr>\n",
       "    <tr>\n",
       "      <th>Don</th>\n",
       "      <td>0</td>\n",
       "      <td>1</td>\n",
       "    </tr>\n",
       "    <tr>\n",
       "      <th>Dr</th>\n",
       "      <td>1</td>\n",
       "      <td>6</td>\n",
       "    </tr>\n",
       "    <tr>\n",
       "      <th>Jonkheer</th>\n",
       "      <td>0</td>\n",
       "      <td>1</td>\n",
       "    </tr>\n",
       "    <tr>\n",
       "      <th>Lady</th>\n",
       "      <td>1</td>\n",
       "      <td>0</td>\n",
       "    </tr>\n",
       "    <tr>\n",
       "      <th>Major</th>\n",
       "      <td>0</td>\n",
       "      <td>2</td>\n",
       "    </tr>\n",
       "    <tr>\n",
       "      <th>Master</th>\n",
       "      <td>0</td>\n",
       "      <td>40</td>\n",
       "    </tr>\n",
       "    <tr>\n",
       "      <th>Miss</th>\n",
       "      <td>182</td>\n",
       "      <td>0</td>\n",
       "    </tr>\n",
       "    <tr>\n",
       "      <th>Mlle</th>\n",
       "      <td>2</td>\n",
       "      <td>0</td>\n",
       "    </tr>\n",
       "    <tr>\n",
       "      <th>Mme</th>\n",
       "      <td>1</td>\n",
       "      <td>0</td>\n",
       "    </tr>\n",
       "    <tr>\n",
       "      <th>Mr</th>\n",
       "      <td>0</td>\n",
       "      <td>517</td>\n",
       "    </tr>\n",
       "    <tr>\n",
       "      <th>Mrs</th>\n",
       "      <td>125</td>\n",
       "      <td>0</td>\n",
       "    </tr>\n",
       "    <tr>\n",
       "      <th>Ms</th>\n",
       "      <td>1</td>\n",
       "      <td>0</td>\n",
       "    </tr>\n",
       "    <tr>\n",
       "      <th>Rev</th>\n",
       "      <td>0</td>\n",
       "      <td>6</td>\n",
       "    </tr>\n",
       "    <tr>\n",
       "      <th>Sir</th>\n",
       "      <td>0</td>\n",
       "      <td>1</td>\n",
       "    </tr>\n",
       "  </tbody>\n",
       "</table>\n",
       "</div>"
      ],
      "text/plain": [
       "Sex       female  male\n",
       "Title                 \n",
       "Capt           0     1\n",
       "Col            0     2\n",
       "Countess       1     0\n",
       "Don            0     1\n",
       "Dr             1     6\n",
       "Jonkheer       0     1\n",
       "Lady           1     0\n",
       "Major          0     2\n",
       "Master         0    40\n",
       "Miss         182     0\n",
       "Mlle           2     0\n",
       "Mme            1     0\n",
       "Mr             0   517\n",
       "Mrs          125     0\n",
       "Ms             1     0\n",
       "Rev            0     6\n",
       "Sir            0     1"
      ]
     },
     "execution_count": 25,
     "metadata": {},
     "output_type": "execute_result"
    }
   ],
   "source": [
    "for dataset in combine:\n",
    "    dataset['Title'] = dataset.Name.str.extract(' ([A-Za-z]+)\\.', expand=False)\n",
    "\n",
    "pd.crosstab(train_df['Title'], train_df['Sex'])"
   ]
  },
  {
   "cell_type": "markdown",
   "metadata": {
    "papermill": {
     "duration": 0.107581,
     "end_time": "2021-01-08T21:30:21.617004",
     "exception": false,
     "start_time": "2021-01-08T21:30:21.509423",
     "status": "completed"
    },
    "tags": []
   },
   "source": [
    "certain titles we can unite into one field called Rare"
   ]
  },
  {
   "cell_type": "code",
   "execution_count": 26,
   "metadata": {
    "execution": {
     "iopub.execute_input": "2021-01-08T21:30:21.833637Z",
     "iopub.status.busy": "2021-01-08T21:30:21.832939Z",
     "iopub.status.idle": "2021-01-08T21:30:21.858139Z",
     "shell.execute_reply": "2021-01-08T21:30:21.857329Z"
    },
    "papermill": {
     "duration": 0.134844,
     "end_time": "2021-01-08T21:30:21.858273",
     "exception": false,
     "start_time": "2021-01-08T21:30:21.723429",
     "status": "completed"
    },
    "tags": []
   },
   "outputs": [
    {
     "data": {
      "text/html": [
       "<div>\n",
       "<style scoped>\n",
       "    .dataframe tbody tr th:only-of-type {\n",
       "        vertical-align: middle;\n",
       "    }\n",
       "\n",
       "    .dataframe tbody tr th {\n",
       "        vertical-align: top;\n",
       "    }\n",
       "\n",
       "    .dataframe thead th {\n",
       "        text-align: right;\n",
       "    }\n",
       "</style>\n",
       "<table border=\"1\" class=\"dataframe\">\n",
       "  <thead>\n",
       "    <tr style=\"text-align: right;\">\n",
       "      <th></th>\n",
       "      <th>Title</th>\n",
       "      <th>Survived</th>\n",
       "    </tr>\n",
       "  </thead>\n",
       "  <tbody>\n",
       "    <tr>\n",
       "      <th>0</th>\n",
       "      <td>Master</td>\n",
       "      <td>0.575000</td>\n",
       "    </tr>\n",
       "    <tr>\n",
       "      <th>1</th>\n",
       "      <td>Miss</td>\n",
       "      <td>0.702703</td>\n",
       "    </tr>\n",
       "    <tr>\n",
       "      <th>2</th>\n",
       "      <td>Mr</td>\n",
       "      <td>0.156673</td>\n",
       "    </tr>\n",
       "    <tr>\n",
       "      <th>3</th>\n",
       "      <td>Mrs</td>\n",
       "      <td>0.793651</td>\n",
       "    </tr>\n",
       "    <tr>\n",
       "      <th>4</th>\n",
       "      <td>Rare</td>\n",
       "      <td>0.347826</td>\n",
       "    </tr>\n",
       "  </tbody>\n",
       "</table>\n",
       "</div>"
      ],
      "text/plain": [
       "    Title  Survived\n",
       "0  Master  0.575000\n",
       "1    Miss  0.702703\n",
       "2      Mr  0.156673\n",
       "3     Mrs  0.793651\n",
       "4    Rare  0.347826"
      ]
     },
     "execution_count": 26,
     "metadata": {},
     "output_type": "execute_result"
    }
   ],
   "source": [
    "for dataset in combine:\n",
    "    dataset['Title'] = dataset['Title'].replace(['Lady', 'Countess','Capt', 'Col',\\\n",
    " \t'Don', 'Dr', 'Major', 'Rev', 'Sir', 'Jonkheer', 'Dona'], 'Rare')\n",
    "\n",
    "    dataset['Title'] = dataset['Title'].replace('Mlle', 'Miss')\n",
    "    dataset['Title'] = dataset['Title'].replace('Ms', 'Miss')\n",
    "    dataset['Title'] = dataset['Title'].replace('Mme', 'Mrs')\n",
    "    \n",
    "train_df[['Title', 'Survived']].groupby(['Title'], as_index=False).mean()"
   ]
  },
  {
   "cell_type": "markdown",
   "metadata": {
    "papermill": {
     "duration": 0.109808,
     "end_time": "2021-01-08T21:30:22.075693",
     "exception": false,
     "start_time": "2021-01-08T21:30:21.965885",
     "status": "completed"
    },
    "tags": []
   },
   "source": [
    "# Observations\n",
    "Plotting the title feature shows-\n",
    "* There are some differences between the different titles and the survival chances\n",
    "* Master(nobels children), Miss and Mrs had the best survival chances \n",
    "* Most of Mr titled passenges did not survive"
   ]
  },
  {
   "cell_type": "markdown",
   "metadata": {
    "papermill": {
     "duration": 0.113858,
     "end_time": "2021-01-08T21:30:22.302150",
     "exception": false,
     "start_time": "2021-01-08T21:30:22.188292",
     "status": "completed"
    },
    "tags": []
   },
   "source": [
    "Lets convert the categorial feature Title into ordinal feature  \n",
    "giving each Title a number varies from 1 to 5"
   ]
  },
  {
   "cell_type": "code",
   "execution_count": 27,
   "metadata": {
    "execution": {
     "iopub.execute_input": "2021-01-08T21:30:22.544025Z",
     "iopub.status.busy": "2021-01-08T21:30:22.543271Z",
     "iopub.status.idle": "2021-01-08T21:30:22.547723Z",
     "shell.execute_reply": "2021-01-08T21:30:22.548252Z"
    },
    "papermill": {
     "duration": 0.13523,
     "end_time": "2021-01-08T21:30:22.548418",
     "exception": false,
     "start_time": "2021-01-08T21:30:22.413188",
     "status": "completed"
    },
    "tags": []
   },
   "outputs": [
    {
     "data": {
      "text/html": [
       "<div>\n",
       "<style scoped>\n",
       "    .dataframe tbody tr th:only-of-type {\n",
       "        vertical-align: middle;\n",
       "    }\n",
       "\n",
       "    .dataframe tbody tr th {\n",
       "        vertical-align: top;\n",
       "    }\n",
       "\n",
       "    .dataframe thead th {\n",
       "        text-align: right;\n",
       "    }\n",
       "</style>\n",
       "<table border=\"1\" class=\"dataframe\">\n",
       "  <thead>\n",
       "    <tr style=\"text-align: right;\">\n",
       "      <th></th>\n",
       "      <th>PassengerId</th>\n",
       "      <th>Survived</th>\n",
       "      <th>Pclass</th>\n",
       "      <th>Name</th>\n",
       "      <th>Sex</th>\n",
       "      <th>Age</th>\n",
       "      <th>SibSp</th>\n",
       "      <th>Parch</th>\n",
       "      <th>Fare</th>\n",
       "      <th>Embarked</th>\n",
       "      <th>Title</th>\n",
       "    </tr>\n",
       "  </thead>\n",
       "  <tbody>\n",
       "    <tr>\n",
       "      <th>0</th>\n",
       "      <td>1</td>\n",
       "      <td>0</td>\n",
       "      <td>3</td>\n",
       "      <td>Braund, Mr. Owen Harris</td>\n",
       "      <td>male</td>\n",
       "      <td>22.0</td>\n",
       "      <td>1</td>\n",
       "      <td>0</td>\n",
       "      <td>7.2500</td>\n",
       "      <td>S</td>\n",
       "      <td>1</td>\n",
       "    </tr>\n",
       "    <tr>\n",
       "      <th>1</th>\n",
       "      <td>2</td>\n",
       "      <td>1</td>\n",
       "      <td>1</td>\n",
       "      <td>Cumings, Mrs. John Bradley (Florence Briggs Th...</td>\n",
       "      <td>female</td>\n",
       "      <td>38.0</td>\n",
       "      <td>1</td>\n",
       "      <td>0</td>\n",
       "      <td>71.2833</td>\n",
       "      <td>C</td>\n",
       "      <td>3</td>\n",
       "    </tr>\n",
       "    <tr>\n",
       "      <th>2</th>\n",
       "      <td>3</td>\n",
       "      <td>1</td>\n",
       "      <td>3</td>\n",
       "      <td>Heikkinen, Miss. Laina</td>\n",
       "      <td>female</td>\n",
       "      <td>26.0</td>\n",
       "      <td>0</td>\n",
       "      <td>0</td>\n",
       "      <td>7.9250</td>\n",
       "      <td>S</td>\n",
       "      <td>2</td>\n",
       "    </tr>\n",
       "    <tr>\n",
       "      <th>3</th>\n",
       "      <td>4</td>\n",
       "      <td>1</td>\n",
       "      <td>1</td>\n",
       "      <td>Futrelle, Mrs. Jacques Heath (Lily May Peel)</td>\n",
       "      <td>female</td>\n",
       "      <td>35.0</td>\n",
       "      <td>1</td>\n",
       "      <td>0</td>\n",
       "      <td>53.1000</td>\n",
       "      <td>S</td>\n",
       "      <td>3</td>\n",
       "    </tr>\n",
       "    <tr>\n",
       "      <th>4</th>\n",
       "      <td>5</td>\n",
       "      <td>0</td>\n",
       "      <td>3</td>\n",
       "      <td>Allen, Mr. William Henry</td>\n",
       "      <td>male</td>\n",
       "      <td>35.0</td>\n",
       "      <td>0</td>\n",
       "      <td>0</td>\n",
       "      <td>8.0500</td>\n",
       "      <td>S</td>\n",
       "      <td>1</td>\n",
       "    </tr>\n",
       "  </tbody>\n",
       "</table>\n",
       "</div>"
      ],
      "text/plain": [
       "   PassengerId  Survived  Pclass  \\\n",
       "0            1         0       3   \n",
       "1            2         1       1   \n",
       "2            3         1       3   \n",
       "3            4         1       1   \n",
       "4            5         0       3   \n",
       "\n",
       "                                                Name     Sex   Age  SibSp  \\\n",
       "0                            Braund, Mr. Owen Harris    male  22.0      1   \n",
       "1  Cumings, Mrs. John Bradley (Florence Briggs Th...  female  38.0      1   \n",
       "2                             Heikkinen, Miss. Laina  female  26.0      0   \n",
       "3       Futrelle, Mrs. Jacques Heath (Lily May Peel)  female  35.0      1   \n",
       "4                           Allen, Mr. William Henry    male  35.0      0   \n",
       "\n",
       "   Parch     Fare Embarked  Title  \n",
       "0      0   7.2500        S      1  \n",
       "1      0  71.2833        C      3  \n",
       "2      0   7.9250        S      2  \n",
       "3      0  53.1000        S      3  \n",
       "4      0   8.0500        S      1  "
      ]
     },
     "execution_count": 27,
     "metadata": {},
     "output_type": "execute_result"
    }
   ],
   "source": [
    "title_mapping = {\"Mr\": 1, \"Miss\": 2, \"Mrs\": 3, \"Master\": 4, \"Rare\": 5}\n",
    "for dataset in combine:\n",
    "    dataset['Title'] = dataset['Title'].map(title_mapping)\n",
    "    dataset['Title'] = dataset['Title'].fillna(0)\n",
    "\n",
    "train_df.head()"
   ]
  },
  {
   "cell_type": "markdown",
   "metadata": {
    "papermill": {
     "duration": 0.10691,
     "end_time": "2021-01-08T21:30:22.764523",
     "exception": false,
     "start_time": "2021-01-08T21:30:22.657613",
     "status": "completed"
    },
    "tags": []
   },
   "source": [
    "Now lets drop Name and Passenger ID from both the train data frame and the test data frame"
   ]
  },
  {
   "cell_type": "code",
   "execution_count": 28,
   "metadata": {
    "execution": {
     "iopub.execute_input": "2021-01-08T21:30:22.987695Z",
     "iopub.status.busy": "2021-01-08T21:30:22.986914Z",
     "iopub.status.idle": "2021-01-08T21:30:22.997778Z",
     "shell.execute_reply": "2021-01-08T21:30:22.997217Z"
    },
    "papermill": {
     "duration": 0.122493,
     "end_time": "2021-01-08T21:30:22.997901",
     "exception": false,
     "start_time": "2021-01-08T21:30:22.875408",
     "status": "completed"
    },
    "tags": []
   },
   "outputs": [
    {
     "data": {
      "text/plain": [
       "((891, 9), (418, 9))"
      ]
     },
     "execution_count": 28,
     "metadata": {},
     "output_type": "execute_result"
    }
   ],
   "source": [
    "train_df = train_df.drop(['Name', 'PassengerId'], axis=1)\n",
    "test_df = test_df.drop(['Name'], axis=1)\n",
    "combine = [train_df, test_df]\n",
    "train_df.shape, test_df.shape"
   ]
  },
  {
   "cell_type": "markdown",
   "metadata": {
    "papermill": {
     "duration": 0.108711,
     "end_time": "2021-01-08T21:30:23.216475",
     "exception": false,
     "start_time": "2021-01-08T21:30:23.107764",
     "status": "completed"
    },
    "tags": []
   },
   "source": [
    "**Converting categorial string features**  \n",
    "First we will convert Sex feature into binary feature-  \n",
    ">Male = 0  \n",
    ">Female = 1  "
   ]
  },
  {
   "cell_type": "code",
   "execution_count": 29,
   "metadata": {
    "execution": {
     "iopub.execute_input": "2021-01-08T21:30:23.437153Z",
     "iopub.status.busy": "2021-01-08T21:30:23.436397Z",
     "iopub.status.idle": "2021-01-08T21:30:23.457117Z",
     "shell.execute_reply": "2021-01-08T21:30:23.456319Z"
    },
    "papermill": {
     "duration": 0.132702,
     "end_time": "2021-01-08T21:30:23.457245",
     "exception": false,
     "start_time": "2021-01-08T21:30:23.324543",
     "status": "completed"
    },
    "tags": []
   },
   "outputs": [
    {
     "data": {
      "text/html": [
       "<div>\n",
       "<style scoped>\n",
       "    .dataframe tbody tr th:only-of-type {\n",
       "        vertical-align: middle;\n",
       "    }\n",
       "\n",
       "    .dataframe tbody tr th {\n",
       "        vertical-align: top;\n",
       "    }\n",
       "\n",
       "    .dataframe thead th {\n",
       "        text-align: right;\n",
       "    }\n",
       "</style>\n",
       "<table border=\"1\" class=\"dataframe\">\n",
       "  <thead>\n",
       "    <tr style=\"text-align: right;\">\n",
       "      <th></th>\n",
       "      <th>Survived</th>\n",
       "      <th>Pclass</th>\n",
       "      <th>Sex</th>\n",
       "      <th>Age</th>\n",
       "      <th>SibSp</th>\n",
       "      <th>Parch</th>\n",
       "      <th>Fare</th>\n",
       "      <th>Embarked</th>\n",
       "      <th>Title</th>\n",
       "    </tr>\n",
       "  </thead>\n",
       "  <tbody>\n",
       "    <tr>\n",
       "      <th>0</th>\n",
       "      <td>0</td>\n",
       "      <td>3</td>\n",
       "      <td>0</td>\n",
       "      <td>22.0</td>\n",
       "      <td>1</td>\n",
       "      <td>0</td>\n",
       "      <td>7.2500</td>\n",
       "      <td>S</td>\n",
       "      <td>1</td>\n",
       "    </tr>\n",
       "    <tr>\n",
       "      <th>1</th>\n",
       "      <td>1</td>\n",
       "      <td>1</td>\n",
       "      <td>1</td>\n",
       "      <td>38.0</td>\n",
       "      <td>1</td>\n",
       "      <td>0</td>\n",
       "      <td>71.2833</td>\n",
       "      <td>C</td>\n",
       "      <td>3</td>\n",
       "    </tr>\n",
       "    <tr>\n",
       "      <th>2</th>\n",
       "      <td>1</td>\n",
       "      <td>3</td>\n",
       "      <td>1</td>\n",
       "      <td>26.0</td>\n",
       "      <td>0</td>\n",
       "      <td>0</td>\n",
       "      <td>7.9250</td>\n",
       "      <td>S</td>\n",
       "      <td>2</td>\n",
       "    </tr>\n",
       "    <tr>\n",
       "      <th>3</th>\n",
       "      <td>1</td>\n",
       "      <td>1</td>\n",
       "      <td>1</td>\n",
       "      <td>35.0</td>\n",
       "      <td>1</td>\n",
       "      <td>0</td>\n",
       "      <td>53.1000</td>\n",
       "      <td>S</td>\n",
       "      <td>3</td>\n",
       "    </tr>\n",
       "    <tr>\n",
       "      <th>4</th>\n",
       "      <td>0</td>\n",
       "      <td>3</td>\n",
       "      <td>0</td>\n",
       "      <td>35.0</td>\n",
       "      <td>0</td>\n",
       "      <td>0</td>\n",
       "      <td>8.0500</td>\n",
       "      <td>S</td>\n",
       "      <td>1</td>\n",
       "    </tr>\n",
       "  </tbody>\n",
       "</table>\n",
       "</div>"
      ],
      "text/plain": [
       "   Survived  Pclass  Sex   Age  SibSp  Parch     Fare Embarked  Title\n",
       "0         0       3    0  22.0      1      0   7.2500        S      1\n",
       "1         1       1    1  38.0      1      0  71.2833        C      3\n",
       "2         1       3    1  26.0      0      0   7.9250        S      2\n",
       "3         1       1    1  35.0      1      0  53.1000        S      3\n",
       "4         0       3    0  35.0      0      0   8.0500        S      1"
      ]
     },
     "execution_count": 29,
     "metadata": {},
     "output_type": "execute_result"
    }
   ],
   "source": [
    "for dataset in combine:\n",
    "    dataset['Sex'] = dataset['Sex'].map( {'female': 1, 'male': 0} ).astype(int)\n",
    "\n",
    "train_df.head()"
   ]
  },
  {
   "cell_type": "markdown",
   "metadata": {
    "papermill": {
     "duration": 0.112488,
     "end_time": "2021-01-08T21:30:23.678945",
     "exception": false,
     "start_time": "2021-01-08T21:30:23.566457",
     "status": "completed"
    },
    "tags": []
   },
   "source": [
    "**Filling empty values**    \n",
    "\n",
    "According to our observations we can see there is a correlation between Age, Gender, and Pclass.  \n",
    "Therefore we will guess Age values according to the median values for Age within  \n",
    "Gender and Pclass.  \n"
   ]
  },
  {
   "cell_type": "code",
   "execution_count": 30,
   "metadata": {
    "execution": {
     "iopub.execute_input": "2021-01-08T21:30:23.900691Z",
     "iopub.status.busy": "2021-01-08T21:30:23.899643Z",
     "iopub.status.idle": "2021-01-08T21:30:26.532753Z",
     "shell.execute_reply": "2021-01-08T21:30:26.532144Z"
    },
    "papermill": {
     "duration": 2.745569,
     "end_time": "2021-01-08T21:30:26.532898",
     "exception": false,
     "start_time": "2021-01-08T21:30:23.787329",
     "status": "completed"
    },
    "tags": []
   },
   "outputs": [
    {
     "data": {
      "text/plain": [
       "<seaborn.axisgrid.FacetGrid at 0x7f6fa03adf10>"
      ]
     },
     "execution_count": 30,
     "metadata": {},
     "output_type": "execute_result"
    },
    {
     "data": {
      "image/png": "[encoded data removed]",
      "text/plain": [
       "<Figure size 612.8x756 with 6 Axes>"
      ]
     },
     "metadata": {
      "needs_background": "light"
     },
     "output_type": "display_data"
    }
   ],
   "source": [
    "grid = sns.FacetGrid(train_df, row='Pclass', col='Sex',height=3.5, aspect=1.2)\n",
    "grid.map(plt.hist, 'Age', alpha=.5, bins=20)\n",
    "grid.add_legend()"
   ]
  },
  {
   "cell_type": "markdown",
   "metadata": {
    "papermill": {
     "duration": 0.108673,
     "end_time": "2021-01-08T21:30:26.760148",
     "exception": false,
     "start_time": "2021-01-08T21:30:26.651475",
     "status": "completed"
    },
    "tags": []
   },
   "source": [
    "We will make an empty matrix that will contain the age values according to each category "
   ]
  },
  {
   "cell_type": "code",
   "execution_count": 31,
   "metadata": {
    "execution": {
     "iopub.execute_input": "2021-01-08T21:30:26.990858Z",
     "iopub.status.busy": "2021-01-08T21:30:26.989891Z",
     "iopub.status.idle": "2021-01-08T21:30:26.995251Z",
     "shell.execute_reply": "2021-01-08T21:30:26.994592Z"
    },
    "papermill": {
     "duration": 0.122108,
     "end_time": "2021-01-08T21:30:26.995403",
     "exception": false,
     "start_time": "2021-01-08T21:30:26.873295",
     "status": "completed"
    },
    "tags": []
   },
   "outputs": [
    {
     "data": {
      "text/plain": [
       "array([[0., 0., 0.],\n",
       "       [0., 0., 0.]])"
      ]
     },
     "execution_count": 31,
     "metadata": {},
     "output_type": "execute_result"
    }
   ],
   "source": [
    "med_age_values = np.zeros((2,3))\n",
    "med_age_values"
   ]
  },
  {
   "cell_type": "code",
   "execution_count": 32,
   "metadata": {
    "execution": {
     "iopub.execute_input": "2021-01-08T21:30:27.230937Z",
     "iopub.status.busy": "2021-01-08T21:30:27.230087Z",
     "iopub.status.idle": "2021-01-08T21:30:27.277861Z",
     "shell.execute_reply": "2021-01-08T21:30:27.277306Z"
    },
    "papermill": {
     "duration": 0.169437,
     "end_time": "2021-01-08T21:30:27.277995",
     "exception": false,
     "start_time": "2021-01-08T21:30:27.108558",
     "status": "completed"
    },
    "tags": []
   },
   "outputs": [
    {
     "data": {
      "text/html": [
       "<div>\n",
       "<style scoped>\n",
       "    .dataframe tbody tr th:only-of-type {\n",
       "        vertical-align: middle;\n",
       "    }\n",
       "\n",
       "    .dataframe tbody tr th {\n",
       "        vertical-align: top;\n",
       "    }\n",
       "\n",
       "    .dataframe thead th {\n",
       "        text-align: right;\n",
       "    }\n",
       "</style>\n",
       "<table border=\"1\" class=\"dataframe\">\n",
       "  <thead>\n",
       "    <tr style=\"text-align: right;\">\n",
       "      <th></th>\n",
       "      <th>Survived</th>\n",
       "      <th>Pclass</th>\n",
       "      <th>Sex</th>\n",
       "      <th>Age</th>\n",
       "      <th>SibSp</th>\n",
       "      <th>Parch</th>\n",
       "      <th>Fare</th>\n",
       "      <th>Embarked</th>\n",
       "      <th>Title</th>\n",
       "    </tr>\n",
       "  </thead>\n",
       "  <tbody>\n",
       "    <tr>\n",
       "      <th>0</th>\n",
       "      <td>0</td>\n",
       "      <td>3</td>\n",
       "      <td>0</td>\n",
       "      <td>22</td>\n",
       "      <td>1</td>\n",
       "      <td>0</td>\n",
       "      <td>7.2500</td>\n",
       "      <td>S</td>\n",
       "      <td>1</td>\n",
       "    </tr>\n",
       "    <tr>\n",
       "      <th>1</th>\n",
       "      <td>1</td>\n",
       "      <td>1</td>\n",
       "      <td>1</td>\n",
       "      <td>38</td>\n",
       "      <td>1</td>\n",
       "      <td>0</td>\n",
       "      <td>71.2833</td>\n",
       "      <td>C</td>\n",
       "      <td>3</td>\n",
       "    </tr>\n",
       "    <tr>\n",
       "      <th>2</th>\n",
       "      <td>1</td>\n",
       "      <td>3</td>\n",
       "      <td>1</td>\n",
       "      <td>26</td>\n",
       "      <td>0</td>\n",
       "      <td>0</td>\n",
       "      <td>7.9250</td>\n",
       "      <td>S</td>\n",
       "      <td>2</td>\n",
       "    </tr>\n",
       "    <tr>\n",
       "      <th>3</th>\n",
       "      <td>1</td>\n",
       "      <td>1</td>\n",
       "      <td>1</td>\n",
       "      <td>35</td>\n",
       "      <td>1</td>\n",
       "      <td>0</td>\n",
       "      <td>53.1000</td>\n",
       "      <td>S</td>\n",
       "      <td>3</td>\n",
       "    </tr>\n",
       "    <tr>\n",
       "      <th>4</th>\n",
       "      <td>0</td>\n",
       "      <td>3</td>\n",
       "      <td>0</td>\n",
       "      <td>35</td>\n",
       "      <td>0</td>\n",
       "      <td>0</td>\n",
       "      <td>8.0500</td>\n",
       "      <td>S</td>\n",
       "      <td>1</td>\n",
       "    </tr>\n",
       "  </tbody>\n",
       "</table>\n",
       "</div>"
      ],
      "text/plain": [
       "   Survived  Pclass  Sex  Age  SibSp  Parch     Fare Embarked  Title\n",
       "0         0       3    0   22      1      0   7.2500        S      1\n",
       "1         1       1    1   38      1      0  71.2833        C      3\n",
       "2         1       3    1   26      0      0   7.9250        S      2\n",
       "3         1       1    1   35      1      0  53.1000        S      3\n",
       "4         0       3    0   35      0      0   8.0500        S      1"
      ]
     },
     "execution_count": 32,
     "metadata": {},
     "output_type": "execute_result"
    }
   ],
   "source": [
    "for data_set in combine:\n",
    "    for i in range(0, 2):\n",
    "        for j in range(0, 3):\n",
    "            guess_df = data_set[(data_set['Sex'] == i) & \\\n",
    "                                  (data_set['Pclass'] == j+1)]['Age'].dropna()\n",
    "            age_guess = guess_df.median()\n",
    "\n",
    "            # normalizing random age values to the closest 0.5 value\n",
    "            med_age_values[i,j] = int( age_guess/0.5 + 0.5 ) * 0.5\n",
    "            \n",
    "    for i in range(0, 2):\n",
    "        for j in range(0, 3):\n",
    "            data_set.loc[ (data_set.Age.isnull()) & (data_set.Sex == i) & (data_set.Pclass == j+1),\\\n",
    "                    'Age'] = med_age_values[i,j]\n",
    "\n",
    "    data_set['Age'] = data_set['Age'].astype(int)\n",
    "\n",
    "train_df.head()"
   ]
  },
  {
   "cell_type": "markdown",
   "metadata": {
    "papermill": {
     "duration": 0.112607,
     "end_time": "2021-01-08T21:30:27.503303",
     "exception": false,
     "start_time": "2021-01-08T21:30:27.390696",
     "status": "completed"
    },
    "tags": []
   },
   "source": [
    "Now lets combine age values into groups and insert them into Age_group column"
   ]
  },
  {
   "cell_type": "code",
   "execution_count": 33,
   "metadata": {
    "execution": {
     "iopub.execute_input": "2021-01-08T21:30:27.743933Z",
     "iopub.status.busy": "2021-01-08T21:30:27.743168Z",
     "iopub.status.idle": "2021-01-08T21:30:27.760829Z",
     "shell.execute_reply": "2021-01-08T21:30:27.761417Z"
    },
    "papermill": {
     "duration": 0.144002,
     "end_time": "2021-01-08T21:30:27.761574",
     "exception": false,
     "start_time": "2021-01-08T21:30:27.617572",
     "status": "completed"
    },
    "tags": []
   },
   "outputs": [
    {
     "data": {
      "text/html": [
       "<div>\n",
       "<style scoped>\n",
       "    .dataframe tbody tr th:only-of-type {\n",
       "        vertical-align: middle;\n",
       "    }\n",
       "\n",
       "    .dataframe tbody tr th {\n",
       "        vertical-align: top;\n",
       "    }\n",
       "\n",
       "    .dataframe thead th {\n",
       "        text-align: right;\n",
       "    }\n",
       "</style>\n",
       "<table border=\"1\" class=\"dataframe\">\n",
       "  <thead>\n",
       "    <tr style=\"text-align: right;\">\n",
       "      <th></th>\n",
       "      <th>Age_group</th>\n",
       "      <th>Survived</th>\n",
       "    </tr>\n",
       "  </thead>\n",
       "  <tbody>\n",
       "    <tr>\n",
       "      <th>0</th>\n",
       "      <td>(-0.08, 16.0]</td>\n",
       "      <td>0.550000</td>\n",
       "    </tr>\n",
       "    <tr>\n",
       "      <th>1</th>\n",
       "      <td>(16.0, 32.0]</td>\n",
       "      <td>0.337374</td>\n",
       "    </tr>\n",
       "    <tr>\n",
       "      <th>2</th>\n",
       "      <td>(32.0, 48.0]</td>\n",
       "      <td>0.412037</td>\n",
       "    </tr>\n",
       "    <tr>\n",
       "      <th>3</th>\n",
       "      <td>(48.0, 64.0]</td>\n",
       "      <td>0.434783</td>\n",
       "    </tr>\n",
       "    <tr>\n",
       "      <th>4</th>\n",
       "      <td>(64.0, 80.0]</td>\n",
       "      <td>0.090909</td>\n",
       "    </tr>\n",
       "  </tbody>\n",
       "</table>\n",
       "</div>"
      ],
      "text/plain": [
       "       Age_group  Survived\n",
       "0  (-0.08, 16.0]  0.550000\n",
       "1   (16.0, 32.0]  0.337374\n",
       "2   (32.0, 48.0]  0.412037\n",
       "3   (48.0, 64.0]  0.434783\n",
       "4   (64.0, 80.0]  0.090909"
      ]
     },
     "execution_count": 33,
     "metadata": {},
     "output_type": "execute_result"
    }
   ],
   "source": [
    "train_df['Age_group'] = pd.cut(train_df['Age'], 5)\n",
    "train_df[['Age_group', 'Survived']].groupby(['Age_group'], as_index=False).mean().sort_values(by='Age_group', ascending=True)"
   ]
  },
  {
   "cell_type": "markdown",
   "metadata": {
    "papermill": {
     "duration": 0.117315,
     "end_time": "2021-01-08T21:30:27.992450",
     "exception": false,
     "start_time": "2021-01-08T21:30:27.875135",
     "status": "completed"
    },
    "tags": []
   },
   "source": [
    "Now we will change the age values in our data frame with the our new age groups"
   ]
  },
  {
   "cell_type": "code",
   "execution_count": 34,
   "metadata": {
    "execution": {
     "iopub.execute_input": "2021-01-08T21:30:28.227937Z",
     "iopub.status.busy": "2021-01-08T21:30:28.227289Z",
     "iopub.status.idle": "2021-01-08T21:30:28.258030Z",
     "shell.execute_reply": "2021-01-08T21:30:28.257306Z"
    },
    "papermill": {
     "duration": 0.146305,
     "end_time": "2021-01-08T21:30:28.258163",
     "exception": false,
     "start_time": "2021-01-08T21:30:28.111858",
     "status": "completed"
    },
    "tags": []
   },
   "outputs": [
    {
     "data": {
      "text/html": [
       "<div>\n",
       "<style scoped>\n",
       "    .dataframe tbody tr th:only-of-type {\n",
       "        vertical-align: middle;\n",
       "    }\n",
       "\n",
       "    .dataframe tbody tr th {\n",
       "        vertical-align: top;\n",
       "    }\n",
       "\n",
       "    .dataframe thead th {\n",
       "        text-align: right;\n",
       "    }\n",
       "</style>\n",
       "<table border=\"1\" class=\"dataframe\">\n",
       "  <thead>\n",
       "    <tr style=\"text-align: right;\">\n",
       "      <th></th>\n",
       "      <th>Survived</th>\n",
       "      <th>Pclass</th>\n",
       "      <th>Sex</th>\n",
       "      <th>Age</th>\n",
       "      <th>SibSp</th>\n",
       "      <th>Parch</th>\n",
       "      <th>Fare</th>\n",
       "      <th>Embarked</th>\n",
       "      <th>Title</th>\n",
       "      <th>Age_group</th>\n",
       "    </tr>\n",
       "  </thead>\n",
       "  <tbody>\n",
       "    <tr>\n",
       "      <th>0</th>\n",
       "      <td>0</td>\n",
       "      <td>3</td>\n",
       "      <td>0</td>\n",
       "      <td>1</td>\n",
       "      <td>1</td>\n",
       "      <td>0</td>\n",
       "      <td>7.2500</td>\n",
       "      <td>S</td>\n",
       "      <td>1</td>\n",
       "      <td>(16.0, 32.0]</td>\n",
       "    </tr>\n",
       "    <tr>\n",
       "      <th>1</th>\n",
       "      <td>1</td>\n",
       "      <td>1</td>\n",
       "      <td>1</td>\n",
       "      <td>2</td>\n",
       "      <td>1</td>\n",
       "      <td>0</td>\n",
       "      <td>71.2833</td>\n",
       "      <td>C</td>\n",
       "      <td>3</td>\n",
       "      <td>(32.0, 48.0]</td>\n",
       "    </tr>\n",
       "    <tr>\n",
       "      <th>2</th>\n",
       "      <td>1</td>\n",
       "      <td>3</td>\n",
       "      <td>1</td>\n",
       "      <td>1</td>\n",
       "      <td>0</td>\n",
       "      <td>0</td>\n",
       "      <td>7.9250</td>\n",
       "      <td>S</td>\n",
       "      <td>2</td>\n",
       "      <td>(16.0, 32.0]</td>\n",
       "    </tr>\n",
       "    <tr>\n",
       "      <th>3</th>\n",
       "      <td>1</td>\n",
       "      <td>1</td>\n",
       "      <td>1</td>\n",
       "      <td>2</td>\n",
       "      <td>1</td>\n",
       "      <td>0</td>\n",
       "      <td>53.1000</td>\n",
       "      <td>S</td>\n",
       "      <td>3</td>\n",
       "      <td>(32.0, 48.0]</td>\n",
       "    </tr>\n",
       "    <tr>\n",
       "      <th>4</th>\n",
       "      <td>0</td>\n",
       "      <td>3</td>\n",
       "      <td>0</td>\n",
       "      <td>2</td>\n",
       "      <td>0</td>\n",
       "      <td>0</td>\n",
       "      <td>8.0500</td>\n",
       "      <td>S</td>\n",
       "      <td>1</td>\n",
       "      <td>(32.0, 48.0]</td>\n",
       "    </tr>\n",
       "  </tbody>\n",
       "</table>\n",
       "</div>"
      ],
      "text/plain": [
       "   Survived  Pclass  Sex  Age  SibSp  Parch     Fare Embarked  Title  \\\n",
       "0         0       3    0    1      1      0   7.2500        S      1   \n",
       "1         1       1    1    2      1      0  71.2833        C      3   \n",
       "2         1       3    1    1      0      0   7.9250        S      2   \n",
       "3         1       1    1    2      1      0  53.1000        S      3   \n",
       "4         0       3    0    2      0      0   8.0500        S      1   \n",
       "\n",
       "      Age_group  \n",
       "0  (16.0, 32.0]  \n",
       "1  (32.0, 48.0]  \n",
       "2  (16.0, 32.0]  \n",
       "3  (32.0, 48.0]  \n",
       "4  (32.0, 48.0]  "
      ]
     },
     "execution_count": 34,
     "metadata": {},
     "output_type": "execute_result"
    }
   ],
   "source": [
    "for dataset in combine:    \n",
    "    dataset.loc[ dataset['Age'] <= 16, 'Age'] = 0\n",
    "    dataset.loc[(dataset['Age'] > 16) & (dataset['Age'] <= 32), 'Age'] = 1\n",
    "    dataset.loc[(dataset['Age'] > 32) & (dataset['Age'] <= 48), 'Age'] = 2\n",
    "    dataset.loc[(dataset['Age'] > 48) & (dataset['Age'] <= 64), 'Age'] = 3\n",
    "    dataset.loc[ dataset['Age'] > 64, 'Age']\n",
    "train_df.head()"
   ]
  },
  {
   "cell_type": "markdown",
   "metadata": {
    "papermill": {
     "duration": 0.116571,
     "end_time": "2021-01-08T21:30:28.489299",
     "exception": false,
     "start_time": "2021-01-08T21:30:28.372728",
     "status": "completed"
    },
    "tags": []
   },
   "source": [
    "Now lets remove the Age_group field"
   ]
  },
  {
   "cell_type": "code",
   "execution_count": 35,
   "metadata": {
    "execution": {
     "iopub.execute_input": "2021-01-08T21:30:28.768483Z",
     "iopub.status.busy": "2021-01-08T21:30:28.767777Z",
     "iopub.status.idle": "2021-01-08T21:30:28.777251Z",
     "shell.execute_reply": "2021-01-08T21:30:28.776624Z"
    },
    "papermill": {
     "duration": 0.145165,
     "end_time": "2021-01-08T21:30:28.777363",
     "exception": false,
     "start_time": "2021-01-08T21:30:28.632198",
     "status": "completed"
    },
    "tags": []
   },
   "outputs": [
    {
     "data": {
      "text/html": [
       "<div>\n",
       "<style scoped>\n",
       "    .dataframe tbody tr th:only-of-type {\n",
       "        vertical-align: middle;\n",
       "    }\n",
       "\n",
       "    .dataframe tbody tr th {\n",
       "        vertical-align: top;\n",
       "    }\n",
       "\n",
       "    .dataframe thead th {\n",
       "        text-align: right;\n",
       "    }\n",
       "</style>\n",
       "<table border=\"1\" class=\"dataframe\">\n",
       "  <thead>\n",
       "    <tr style=\"text-align: right;\">\n",
       "      <th></th>\n",
       "      <th>Survived</th>\n",
       "      <th>Pclass</th>\n",
       "      <th>Sex</th>\n",
       "      <th>Age</th>\n",
       "      <th>SibSp</th>\n",
       "      <th>Parch</th>\n",
       "      <th>Fare</th>\n",
       "      <th>Embarked</th>\n",
       "      <th>Title</th>\n",
       "    </tr>\n",
       "  </thead>\n",
       "  <tbody>\n",
       "    <tr>\n",
       "      <th>0</th>\n",
       "      <td>0</td>\n",
       "      <td>3</td>\n",
       "      <td>0</td>\n",
       "      <td>1</td>\n",
       "      <td>1</td>\n",
       "      <td>0</td>\n",
       "      <td>7.2500</td>\n",
       "      <td>S</td>\n",
       "      <td>1</td>\n",
       "    </tr>\n",
       "    <tr>\n",
       "      <th>1</th>\n",
       "      <td>1</td>\n",
       "      <td>1</td>\n",
       "      <td>1</td>\n",
       "      <td>2</td>\n",
       "      <td>1</td>\n",
       "      <td>0</td>\n",
       "      <td>71.2833</td>\n",
       "      <td>C</td>\n",
       "      <td>3</td>\n",
       "    </tr>\n",
       "    <tr>\n",
       "      <th>2</th>\n",
       "      <td>1</td>\n",
       "      <td>3</td>\n",
       "      <td>1</td>\n",
       "      <td>1</td>\n",
       "      <td>0</td>\n",
       "      <td>0</td>\n",
       "      <td>7.9250</td>\n",
       "      <td>S</td>\n",
       "      <td>2</td>\n",
       "    </tr>\n",
       "    <tr>\n",
       "      <th>3</th>\n",
       "      <td>1</td>\n",
       "      <td>1</td>\n",
       "      <td>1</td>\n",
       "      <td>2</td>\n",
       "      <td>1</td>\n",
       "      <td>0</td>\n",
       "      <td>53.1000</td>\n",
       "      <td>S</td>\n",
       "      <td>3</td>\n",
       "    </tr>\n",
       "    <tr>\n",
       "      <th>4</th>\n",
       "      <td>0</td>\n",
       "      <td>3</td>\n",
       "      <td>0</td>\n",
       "      <td>2</td>\n",
       "      <td>0</td>\n",
       "      <td>0</td>\n",
       "      <td>8.0500</td>\n",
       "      <td>S</td>\n",
       "      <td>1</td>\n",
       "    </tr>\n",
       "  </tbody>\n",
       "</table>\n",
       "</div>"
      ],
      "text/plain": [
       "   Survived  Pclass  Sex  Age  SibSp  Parch     Fare Embarked  Title\n",
       "0         0       3    0    1      1      0   7.2500        S      1\n",
       "1         1       1    1    2      1      0  71.2833        C      3\n",
       "2         1       3    1    1      0      0   7.9250        S      2\n",
       "3         1       1    1    2      1      0  53.1000        S      3\n",
       "4         0       3    0    2      0      0   8.0500        S      1"
      ]
     },
     "execution_count": 35,
     "metadata": {},
     "output_type": "execute_result"
    }
   ],
   "source": [
    "train_df = train_df.drop(['Age_group'], axis=1)\n",
    "combine = [train_df, test_df]\n",
    "train_df.head()"
   ]
  },
  {
   "cell_type": "markdown",
   "metadata": {
    "papermill": {
     "duration": 0.111534,
     "end_time": "2021-01-08T21:30:29.002388",
     "exception": false,
     "start_time": "2021-01-08T21:30:28.890854",
     "status": "completed"
    },
    "tags": []
   },
   "source": [
    "**Combining family features**  \n",
    "\n",
    "We will create a new feature which will be consisted of the SibSp and Parch features, the new feautre will be named Family_Size  \n",
    "and after we will drop the Family_Size, SibSp and Parch in order to create a new feature that will say if the passenger is  \n",
    "traveling alone or not, the feature name will be Is_Alone"
   ]
  },
  {
   "cell_type": "code",
   "execution_count": 36,
   "metadata": {
    "execution": {
     "iopub.execute_input": "2021-01-08T21:30:29.250190Z",
     "iopub.status.busy": "2021-01-08T21:30:29.240072Z",
     "iopub.status.idle": "2021-01-08T21:30:29.264637Z",
     "shell.execute_reply": "2021-01-08T21:30:29.263885Z"
    },
    "papermill": {
     "duration": 0.146132,
     "end_time": "2021-01-08T21:30:29.264775",
     "exception": false,
     "start_time": "2021-01-08T21:30:29.118643",
     "status": "completed"
    },
    "tags": []
   },
   "outputs": [
    {
     "data": {
      "text/html": [
       "<div>\n",
       "<style scoped>\n",
       "    .dataframe tbody tr th:only-of-type {\n",
       "        vertical-align: middle;\n",
       "    }\n",
       "\n",
       "    .dataframe tbody tr th {\n",
       "        vertical-align: top;\n",
       "    }\n",
       "\n",
       "    .dataframe thead th {\n",
       "        text-align: right;\n",
       "    }\n",
       "</style>\n",
       "<table border=\"1\" class=\"dataframe\">\n",
       "  <thead>\n",
       "    <tr style=\"text-align: right;\">\n",
       "      <th></th>\n",
       "      <th>Family_Size</th>\n",
       "      <th>Survived</th>\n",
       "    </tr>\n",
       "  </thead>\n",
       "  <tbody>\n",
       "    <tr>\n",
       "      <th>3</th>\n",
       "      <td>4</td>\n",
       "      <td>0.724138</td>\n",
       "    </tr>\n",
       "    <tr>\n",
       "      <th>2</th>\n",
       "      <td>3</td>\n",
       "      <td>0.578431</td>\n",
       "    </tr>\n",
       "    <tr>\n",
       "      <th>1</th>\n",
       "      <td>2</td>\n",
       "      <td>0.552795</td>\n",
       "    </tr>\n",
       "    <tr>\n",
       "      <th>6</th>\n",
       "      <td>7</td>\n",
       "      <td>0.333333</td>\n",
       "    </tr>\n",
       "    <tr>\n",
       "      <th>0</th>\n",
       "      <td>1</td>\n",
       "      <td>0.303538</td>\n",
       "    </tr>\n",
       "    <tr>\n",
       "      <th>4</th>\n",
       "      <td>5</td>\n",
       "      <td>0.200000</td>\n",
       "    </tr>\n",
       "    <tr>\n",
       "      <th>5</th>\n",
       "      <td>6</td>\n",
       "      <td>0.136364</td>\n",
       "    </tr>\n",
       "    <tr>\n",
       "      <th>7</th>\n",
       "      <td>8</td>\n",
       "      <td>0.000000</td>\n",
       "    </tr>\n",
       "    <tr>\n",
       "      <th>8</th>\n",
       "      <td>11</td>\n",
       "      <td>0.000000</td>\n",
       "    </tr>\n",
       "  </tbody>\n",
       "</table>\n",
       "</div>"
      ],
      "text/plain": [
       "   Family_Size  Survived\n",
       "3            4  0.724138\n",
       "2            3  0.578431\n",
       "1            2  0.552795\n",
       "6            7  0.333333\n",
       "0            1  0.303538\n",
       "4            5  0.200000\n",
       "5            6  0.136364\n",
       "7            8  0.000000\n",
       "8           11  0.000000"
      ]
     },
     "execution_count": 36,
     "metadata": {},
     "output_type": "execute_result"
    }
   ],
   "source": [
    "for dataset in combine:\n",
    "    dataset['Family_Size'] = dataset['SibSp'] + dataset['Parch'] + 1\n",
    "\n",
    "train_df[['Family_Size', 'Survived']].groupby(['Family_Size'], as_index=False).mean().sort_values(by='Survived', ascending=False)"
   ]
  },
  {
   "cell_type": "markdown",
   "metadata": {
    "papermill": {
     "duration": 0.126187,
     "end_time": "2021-01-08T21:30:29.507927",
     "exception": false,
     "start_time": "2021-01-08T21:30:29.381740",
     "status": "completed"
    },
    "tags": []
   },
   "source": [
    "Is_Alone creation "
   ]
  },
  {
   "cell_type": "code",
   "execution_count": 37,
   "metadata": {
    "execution": {
     "iopub.execute_input": "2021-01-08T21:30:29.752963Z",
     "iopub.status.busy": "2021-01-08T21:30:29.751828Z",
     "iopub.status.idle": "2021-01-08T21:30:29.767191Z",
     "shell.execute_reply": "2021-01-08T21:30:29.767783Z"
    },
    "papermill": {
     "duration": 0.143253,
     "end_time": "2021-01-08T21:30:29.767938",
     "exception": false,
     "start_time": "2021-01-08T21:30:29.624685",
     "status": "completed"
    },
    "tags": []
   },
   "outputs": [
    {
     "data": {
      "text/html": [
       "<div>\n",
       "<style scoped>\n",
       "    .dataframe tbody tr th:only-of-type {\n",
       "        vertical-align: middle;\n",
       "    }\n",
       "\n",
       "    .dataframe tbody tr th {\n",
       "        vertical-align: top;\n",
       "    }\n",
       "\n",
       "    .dataframe thead th {\n",
       "        text-align: right;\n",
       "    }\n",
       "</style>\n",
       "<table border=\"1\" class=\"dataframe\">\n",
       "  <thead>\n",
       "    <tr style=\"text-align: right;\">\n",
       "      <th></th>\n",
       "      <th>Is_Alone</th>\n",
       "      <th>Survived</th>\n",
       "    </tr>\n",
       "  </thead>\n",
       "  <tbody>\n",
       "    <tr>\n",
       "      <th>0</th>\n",
       "      <td>0</td>\n",
       "      <td>0.505650</td>\n",
       "    </tr>\n",
       "    <tr>\n",
       "      <th>1</th>\n",
       "      <td>1</td>\n",
       "      <td>0.303538</td>\n",
       "    </tr>\n",
       "  </tbody>\n",
       "</table>\n",
       "</div>"
      ],
      "text/plain": [
       "   Is_Alone  Survived\n",
       "0         0  0.505650\n",
       "1         1  0.303538"
      ]
     },
     "execution_count": 37,
     "metadata": {},
     "output_type": "execute_result"
    }
   ],
   "source": [
    "for dataset in combine:\n",
    "    dataset['Is_Alone'] = 0\n",
    "    dataset.loc[dataset['Family_Size'] == 1, 'Is_Alone'] = 1\n",
    "\n",
    "train_df[['Is_Alone', 'Survived']].groupby(['Is_Alone'], as_index=False).mean()"
   ]
  },
  {
   "cell_type": "markdown",
   "metadata": {
    "papermill": {
     "duration": 0.113986,
     "end_time": "2021-01-08T21:30:29.998527",
     "exception": false,
     "start_time": "2021-01-08T21:30:29.884541",
     "status": "completed"
    },
    "tags": []
   },
   "source": [
    "let's drop Family_Size, SipSp and Parch from both our train data frame and our test data frame"
   ]
  },
  {
   "cell_type": "code",
   "execution_count": 38,
   "metadata": {
    "execution": {
     "iopub.execute_input": "2021-01-08T21:30:30.237047Z",
     "iopub.status.busy": "2021-01-08T21:30:30.236008Z",
     "iopub.status.idle": "2021-01-08T21:30:30.255102Z",
     "shell.execute_reply": "2021-01-08T21:30:30.254529Z"
    },
    "papermill": {
     "duration": 0.138977,
     "end_time": "2021-01-08T21:30:30.255240",
     "exception": false,
     "start_time": "2021-01-08T21:30:30.116263",
     "status": "completed"
    },
    "tags": []
   },
   "outputs": [
    {
     "data": {
      "text/html": [
       "<div>\n",
       "<style scoped>\n",
       "    .dataframe tbody tr th:only-of-type {\n",
       "        vertical-align: middle;\n",
       "    }\n",
       "\n",
       "    .dataframe tbody tr th {\n",
       "        vertical-align: top;\n",
       "    }\n",
       "\n",
       "    .dataframe thead th {\n",
       "        text-align: right;\n",
       "    }\n",
       "</style>\n",
       "<table border=\"1\" class=\"dataframe\">\n",
       "  <thead>\n",
       "    <tr style=\"text-align: right;\">\n",
       "      <th></th>\n",
       "      <th>Survived</th>\n",
       "      <th>Pclass</th>\n",
       "      <th>Sex</th>\n",
       "      <th>Age</th>\n",
       "      <th>Fare</th>\n",
       "      <th>Embarked</th>\n",
       "      <th>Title</th>\n",
       "      <th>Is_Alone</th>\n",
       "    </tr>\n",
       "  </thead>\n",
       "  <tbody>\n",
       "    <tr>\n",
       "      <th>0</th>\n",
       "      <td>0</td>\n",
       "      <td>3</td>\n",
       "      <td>0</td>\n",
       "      <td>1</td>\n",
       "      <td>7.2500</td>\n",
       "      <td>S</td>\n",
       "      <td>1</td>\n",
       "      <td>0</td>\n",
       "    </tr>\n",
       "    <tr>\n",
       "      <th>1</th>\n",
       "      <td>1</td>\n",
       "      <td>1</td>\n",
       "      <td>1</td>\n",
       "      <td>2</td>\n",
       "      <td>71.2833</td>\n",
       "      <td>C</td>\n",
       "      <td>3</td>\n",
       "      <td>0</td>\n",
       "    </tr>\n",
       "    <tr>\n",
       "      <th>2</th>\n",
       "      <td>1</td>\n",
       "      <td>3</td>\n",
       "      <td>1</td>\n",
       "      <td>1</td>\n",
       "      <td>7.9250</td>\n",
       "      <td>S</td>\n",
       "      <td>2</td>\n",
       "      <td>1</td>\n",
       "    </tr>\n",
       "    <tr>\n",
       "      <th>3</th>\n",
       "      <td>1</td>\n",
       "      <td>1</td>\n",
       "      <td>1</td>\n",
       "      <td>2</td>\n",
       "      <td>53.1000</td>\n",
       "      <td>S</td>\n",
       "      <td>3</td>\n",
       "      <td>0</td>\n",
       "    </tr>\n",
       "    <tr>\n",
       "      <th>4</th>\n",
       "      <td>0</td>\n",
       "      <td>3</td>\n",
       "      <td>0</td>\n",
       "      <td>2</td>\n",
       "      <td>8.0500</td>\n",
       "      <td>S</td>\n",
       "      <td>1</td>\n",
       "      <td>1</td>\n",
       "    </tr>\n",
       "  </tbody>\n",
       "</table>\n",
       "</div>"
      ],
      "text/plain": [
       "   Survived  Pclass  Sex  Age     Fare Embarked  Title  Is_Alone\n",
       "0         0       3    0    1   7.2500        S      1         0\n",
       "1         1       1    1    2  71.2833        C      3         0\n",
       "2         1       3    1    1   7.9250        S      2         1\n",
       "3         1       1    1    2  53.1000        S      3         0\n",
       "4         0       3    0    2   8.0500        S      1         1"
      ]
     },
     "execution_count": 38,
     "metadata": {},
     "output_type": "execute_result"
    }
   ],
   "source": [
    "train_df = train_df.drop(['Parch', 'SibSp', 'Family_Size'], axis=1)\n",
    "test_df = test_df.drop(['Parch', 'SibSp', 'Family_Size'], axis=1)\n",
    "combine = [train_df, test_df]\n",
    "\n",
    "train_df.head()"
   ]
  },
  {
   "cell_type": "markdown",
   "metadata": {
    "papermill": {
     "duration": 0.122209,
     "end_time": "2021-01-08T21:30:30.493162",
     "exception": false,
     "start_time": "2021-01-08T21:30:30.370953",
     "status": "completed"
    },
    "tags": []
   },
   "source": [
    "Now lets create an artificial feature that will combine Pclass and Age, names Age_X_class"
   ]
  },
  {
   "cell_type": "code",
   "execution_count": 39,
   "metadata": {
    "execution": {
     "iopub.execute_input": "2021-01-08T21:30:30.739937Z",
     "iopub.status.busy": "2021-01-08T21:30:30.738903Z",
     "iopub.status.idle": "2021-01-08T21:30:30.742923Z",
     "shell.execute_reply": "2021-01-08T21:30:30.743409Z"
    },
    "papermill": {
     "duration": 0.134463,
     "end_time": "2021-01-08T21:30:30.743560",
     "exception": false,
     "start_time": "2021-01-08T21:30:30.609097",
     "status": "completed"
    },
    "tags": []
   },
   "outputs": [
    {
     "data": {
      "text/html": [
       "<div>\n",
       "<style scoped>\n",
       "    .dataframe tbody tr th:only-of-type {\n",
       "        vertical-align: middle;\n",
       "    }\n",
       "\n",
       "    .dataframe tbody tr th {\n",
       "        vertical-align: top;\n",
       "    }\n",
       "\n",
       "    .dataframe thead th {\n",
       "        text-align: right;\n",
       "    }\n",
       "</style>\n",
       "<table border=\"1\" class=\"dataframe\">\n",
       "  <thead>\n",
       "    <tr style=\"text-align: right;\">\n",
       "      <th></th>\n",
       "      <th>Age_X_class</th>\n",
       "      <th>Age</th>\n",
       "      <th>Pclass</th>\n",
       "    </tr>\n",
       "  </thead>\n",
       "  <tbody>\n",
       "    <tr>\n",
       "      <th>0</th>\n",
       "      <td>3</td>\n",
       "      <td>1</td>\n",
       "      <td>3</td>\n",
       "    </tr>\n",
       "    <tr>\n",
       "      <th>1</th>\n",
       "      <td>2</td>\n",
       "      <td>2</td>\n",
       "      <td>1</td>\n",
       "    </tr>\n",
       "    <tr>\n",
       "      <th>2</th>\n",
       "      <td>3</td>\n",
       "      <td>1</td>\n",
       "      <td>3</td>\n",
       "    </tr>\n",
       "    <tr>\n",
       "      <th>3</th>\n",
       "      <td>2</td>\n",
       "      <td>2</td>\n",
       "      <td>1</td>\n",
       "    </tr>\n",
       "    <tr>\n",
       "      <th>4</th>\n",
       "      <td>6</td>\n",
       "      <td>2</td>\n",
       "      <td>3</td>\n",
       "    </tr>\n",
       "    <tr>\n",
       "      <th>5</th>\n",
       "      <td>3</td>\n",
       "      <td>1</td>\n",
       "      <td>3</td>\n",
       "    </tr>\n",
       "    <tr>\n",
       "      <th>6</th>\n",
       "      <td>3</td>\n",
       "      <td>3</td>\n",
       "      <td>1</td>\n",
       "    </tr>\n",
       "    <tr>\n",
       "      <th>7</th>\n",
       "      <td>0</td>\n",
       "      <td>0</td>\n",
       "      <td>3</td>\n",
       "    </tr>\n",
       "    <tr>\n",
       "      <th>8</th>\n",
       "      <td>3</td>\n",
       "      <td>1</td>\n",
       "      <td>3</td>\n",
       "    </tr>\n",
       "    <tr>\n",
       "      <th>9</th>\n",
       "      <td>0</td>\n",
       "      <td>0</td>\n",
       "      <td>2</td>\n",
       "    </tr>\n",
       "  </tbody>\n",
       "</table>\n",
       "</div>"
      ],
      "text/plain": [
       "   Age_X_class  Age  Pclass\n",
       "0            3    1       3\n",
       "1            2    2       1\n",
       "2            3    1       3\n",
       "3            2    2       1\n",
       "4            6    2       3\n",
       "5            3    1       3\n",
       "6            3    3       1\n",
       "7            0    0       3\n",
       "8            3    1       3\n",
       "9            0    0       2"
      ]
     },
     "execution_count": 39,
     "metadata": {},
     "output_type": "execute_result"
    }
   ],
   "source": [
    "for dataset in combine:\n",
    "    dataset['Age_X_class'] = dataset.Age * dataset.Pclass\n",
    "\n",
    "train_df.loc[:, ['Age_X_class', 'Age', 'Pclass']].head(10)"
   ]
  },
  {
   "cell_type": "markdown",
   "metadata": {
    "papermill": {
     "duration": 0.116363,
     "end_time": "2021-01-08T21:30:30.975837",
     "exception": false,
     "start_time": "2021-01-08T21:30:30.859474",
     "status": "completed"
    },
    "tags": []
   },
   "source": [
    "**Completing Embarked feature**  \n",
    "As we saw before Embarkd value has two missing values,  \n",
    "we will complete them by finding the most common Embraked value"
   ]
  },
  {
   "cell_type": "code",
   "execution_count": 40,
   "metadata": {
    "execution": {
     "iopub.execute_input": "2021-01-08T21:30:31.215696Z",
     "iopub.status.busy": "2021-01-08T21:30:31.214655Z",
     "iopub.status.idle": "2021-01-08T21:30:31.221967Z",
     "shell.execute_reply": "2021-01-08T21:30:31.222523Z"
    },
    "papermill": {
     "duration": 0.129617,
     "end_time": "2021-01-08T21:30:31.222677",
     "exception": false,
     "start_time": "2021-01-08T21:30:31.093060",
     "status": "completed"
    },
    "tags": []
   },
   "outputs": [
    {
     "data": {
      "text/plain": [
       "'S'"
      ]
     },
     "execution_count": 40,
     "metadata": {},
     "output_type": "execute_result"
    }
   ],
   "source": [
    "most_common_port = train_df.Embarked.dropna().mode()[0]\n",
    "most_common_port"
   ]
  },
  {
   "cell_type": "code",
   "execution_count": 41,
   "metadata": {
    "execution": {
     "iopub.execute_input": "2021-01-08T21:30:31.466014Z",
     "iopub.status.busy": "2021-01-08T21:30:31.464888Z",
     "iopub.status.idle": "2021-01-08T21:30:31.483496Z",
     "shell.execute_reply": "2021-01-08T21:30:31.484076Z"
    },
    "papermill": {
     "duration": 0.14337,
     "end_time": "2021-01-08T21:30:31.484243",
     "exception": false,
     "start_time": "2021-01-08T21:30:31.340873",
     "status": "completed"
    },
    "tags": []
   },
   "outputs": [
    {
     "data": {
      "text/html": [
       "<div>\n",
       "<style scoped>\n",
       "    .dataframe tbody tr th:only-of-type {\n",
       "        vertical-align: middle;\n",
       "    }\n",
       "\n",
       "    .dataframe tbody tr th {\n",
       "        vertical-align: top;\n",
       "    }\n",
       "\n",
       "    .dataframe thead th {\n",
       "        text-align: right;\n",
       "    }\n",
       "</style>\n",
       "<table border=\"1\" class=\"dataframe\">\n",
       "  <thead>\n",
       "    <tr style=\"text-align: right;\">\n",
       "      <th></th>\n",
       "      <th>Embarked</th>\n",
       "      <th>Survived</th>\n",
       "    </tr>\n",
       "  </thead>\n",
       "  <tbody>\n",
       "    <tr>\n",
       "      <th>0</th>\n",
       "      <td>C</td>\n",
       "      <td>0.553571</td>\n",
       "    </tr>\n",
       "    <tr>\n",
       "      <th>1</th>\n",
       "      <td>Q</td>\n",
       "      <td>0.389610</td>\n",
       "    </tr>\n",
       "    <tr>\n",
       "      <th>2</th>\n",
       "      <td>S</td>\n",
       "      <td>0.339009</td>\n",
       "    </tr>\n",
       "  </tbody>\n",
       "</table>\n",
       "</div>"
      ],
      "text/plain": [
       "  Embarked  Survived\n",
       "0        C  0.553571\n",
       "1        Q  0.389610\n",
       "2        S  0.339009"
      ]
     },
     "execution_count": 41,
     "metadata": {},
     "output_type": "execute_result"
    }
   ],
   "source": [
    "for dataset in combine:\n",
    "    dataset['Embarked'] = dataset['Embarked'].fillna(most_common_port)\n",
    "    \n",
    "train_df[['Embarked', 'Survived']].groupby(['Embarked'], as_index=False).mean().sort_values(by='Survived', ascending=False)\n"
   ]
  },
  {
   "cell_type": "markdown",
   "metadata": {
    "papermill": {
     "duration": 0.116592,
     "end_time": "2021-01-08T21:30:31.730569",
     "exception": false,
     "start_time": "2021-01-08T21:30:31.613977",
     "status": "completed"
    },
    "tags": []
   },
   "source": [
    "**Converting Embarked to numerical**  \n",
    "Now lets convert Embarked into numeral values:  \n",
    "S = 0  \n",
    "C = 1  \n",
    "Q = 2  "
   ]
  },
  {
   "cell_type": "code",
   "execution_count": 42,
   "metadata": {
    "execution": {
     "iopub.execute_input": "2021-01-08T21:30:31.972177Z",
     "iopub.status.busy": "2021-01-08T21:30:31.970996Z",
     "iopub.status.idle": "2021-01-08T21:30:31.988541Z",
     "shell.execute_reply": "2021-01-08T21:30:31.989050Z"
    },
    "papermill": {
     "duration": 0.140874,
     "end_time": "2021-01-08T21:30:31.989208",
     "exception": false,
     "start_time": "2021-01-08T21:30:31.848334",
     "status": "completed"
    },
    "tags": []
   },
   "outputs": [
    {
     "data": {
      "text/html": [
       "<div>\n",
       "<style scoped>\n",
       "    .dataframe tbody tr th:only-of-type {\n",
       "        vertical-align: middle;\n",
       "    }\n",
       "\n",
       "    .dataframe tbody tr th {\n",
       "        vertical-align: top;\n",
       "    }\n",
       "\n",
       "    .dataframe thead th {\n",
       "        text-align: right;\n",
       "    }\n",
       "</style>\n",
       "<table border=\"1\" class=\"dataframe\">\n",
       "  <thead>\n",
       "    <tr style=\"text-align: right;\">\n",
       "      <th></th>\n",
       "      <th>Survived</th>\n",
       "      <th>Pclass</th>\n",
       "      <th>Sex</th>\n",
       "      <th>Age</th>\n",
       "      <th>Fare</th>\n",
       "      <th>Embarked</th>\n",
       "      <th>Title</th>\n",
       "      <th>Is_Alone</th>\n",
       "      <th>Age_X_class</th>\n",
       "    </tr>\n",
       "  </thead>\n",
       "  <tbody>\n",
       "    <tr>\n",
       "      <th>0</th>\n",
       "      <td>0</td>\n",
       "      <td>3</td>\n",
       "      <td>0</td>\n",
       "      <td>1</td>\n",
       "      <td>7.2500</td>\n",
       "      <td>0</td>\n",
       "      <td>1</td>\n",
       "      <td>0</td>\n",
       "      <td>3</td>\n",
       "    </tr>\n",
       "    <tr>\n",
       "      <th>1</th>\n",
       "      <td>1</td>\n",
       "      <td>1</td>\n",
       "      <td>1</td>\n",
       "      <td>2</td>\n",
       "      <td>71.2833</td>\n",
       "      <td>1</td>\n",
       "      <td>3</td>\n",
       "      <td>0</td>\n",
       "      <td>2</td>\n",
       "    </tr>\n",
       "    <tr>\n",
       "      <th>2</th>\n",
       "      <td>1</td>\n",
       "      <td>3</td>\n",
       "      <td>1</td>\n",
       "      <td>1</td>\n",
       "      <td>7.9250</td>\n",
       "      <td>0</td>\n",
       "      <td>2</td>\n",
       "      <td>1</td>\n",
       "      <td>3</td>\n",
       "    </tr>\n",
       "    <tr>\n",
       "      <th>3</th>\n",
       "      <td>1</td>\n",
       "      <td>1</td>\n",
       "      <td>1</td>\n",
       "      <td>2</td>\n",
       "      <td>53.1000</td>\n",
       "      <td>0</td>\n",
       "      <td>3</td>\n",
       "      <td>0</td>\n",
       "      <td>2</td>\n",
       "    </tr>\n",
       "    <tr>\n",
       "      <th>4</th>\n",
       "      <td>0</td>\n",
       "      <td>3</td>\n",
       "      <td>0</td>\n",
       "      <td>2</td>\n",
       "      <td>8.0500</td>\n",
       "      <td>0</td>\n",
       "      <td>1</td>\n",
       "      <td>1</td>\n",
       "      <td>6</td>\n",
       "    </tr>\n",
       "  </tbody>\n",
       "</table>\n",
       "</div>"
      ],
      "text/plain": [
       "   Survived  Pclass  Sex  Age     Fare  Embarked  Title  Is_Alone  Age_X_class\n",
       "0         0       3    0    1   7.2500         0      1         0            3\n",
       "1         1       1    1    2  71.2833         1      3         0            2\n",
       "2         1       3    1    1   7.9250         0      2         1            3\n",
       "3         1       1    1    2  53.1000         0      3         0            2\n",
       "4         0       3    0    2   8.0500         0      1         1            6"
      ]
     },
     "execution_count": 42,
     "metadata": {},
     "output_type": "execute_result"
    }
   ],
   "source": [
    "for dataset in combine:\n",
    "    dataset['Embarked'] = dataset['Embarked'].map( {'S': 0, 'C': 1, 'Q': 2} ).astype(int)\n",
    "\n",
    "train_df.head()"
   ]
  },
  {
   "cell_type": "markdown",
   "metadata": {
    "papermill": {
     "duration": 0.11687,
     "end_time": "2021-01-08T21:30:32.233670",
     "exception": false,
     "start_time": "2021-01-08T21:30:32.116800",
     "status": "completed"
    },
    "tags": []
   },
   "source": [
    "**Completing and converting Fare**  \n",
    "As we saw before Fare has one missing value,  \n",
    "we will complete this value by doing the as we treated Embarked   \n",
    "by making the missing value equal to the most common Fare value"
   ]
  },
  {
   "cell_type": "code",
   "execution_count": 43,
   "metadata": {
    "execution": {
     "iopub.execute_input": "2021-01-08T21:30:32.476431Z",
     "iopub.status.busy": "2021-01-08T21:30:32.475393Z",
     "iopub.status.idle": "2021-01-08T21:30:32.491198Z",
     "shell.execute_reply": "2021-01-08T21:30:32.491813Z"
    },
    "papermill": {
     "duration": 0.138176,
     "end_time": "2021-01-08T21:30:32.492000",
     "exception": false,
     "start_time": "2021-01-08T21:30:32.353824",
     "status": "completed"
    },
    "tags": []
   },
   "outputs": [
    {
     "data": {
      "text/html": [
       "<div>\n",
       "<style scoped>\n",
       "    .dataframe tbody tr th:only-of-type {\n",
       "        vertical-align: middle;\n",
       "    }\n",
       "\n",
       "    .dataframe tbody tr th {\n",
       "        vertical-align: top;\n",
       "    }\n",
       "\n",
       "    .dataframe thead th {\n",
       "        text-align: right;\n",
       "    }\n",
       "</style>\n",
       "<table border=\"1\" class=\"dataframe\">\n",
       "  <thead>\n",
       "    <tr style=\"text-align: right;\">\n",
       "      <th></th>\n",
       "      <th>PassengerId</th>\n",
       "      <th>Pclass</th>\n",
       "      <th>Sex</th>\n",
       "      <th>Age</th>\n",
       "      <th>Fare</th>\n",
       "      <th>Embarked</th>\n",
       "      <th>Title</th>\n",
       "      <th>Is_Alone</th>\n",
       "      <th>Age_X_class</th>\n",
       "    </tr>\n",
       "  </thead>\n",
       "  <tbody>\n",
       "    <tr>\n",
       "      <th>0</th>\n",
       "      <td>892</td>\n",
       "      <td>3</td>\n",
       "      <td>0</td>\n",
       "      <td>2</td>\n",
       "      <td>7.8292</td>\n",
       "      <td>2</td>\n",
       "      <td>1</td>\n",
       "      <td>1</td>\n",
       "      <td>6</td>\n",
       "    </tr>\n",
       "    <tr>\n",
       "      <th>1</th>\n",
       "      <td>893</td>\n",
       "      <td>3</td>\n",
       "      <td>1</td>\n",
       "      <td>2</td>\n",
       "      <td>7.0000</td>\n",
       "      <td>0</td>\n",
       "      <td>3</td>\n",
       "      <td>0</td>\n",
       "      <td>6</td>\n",
       "    </tr>\n",
       "    <tr>\n",
       "      <th>2</th>\n",
       "      <td>894</td>\n",
       "      <td>2</td>\n",
       "      <td>0</td>\n",
       "      <td>3</td>\n",
       "      <td>9.6875</td>\n",
       "      <td>2</td>\n",
       "      <td>1</td>\n",
       "      <td>1</td>\n",
       "      <td>6</td>\n",
       "    </tr>\n",
       "    <tr>\n",
       "      <th>3</th>\n",
       "      <td>895</td>\n",
       "      <td>3</td>\n",
       "      <td>0</td>\n",
       "      <td>1</td>\n",
       "      <td>8.6625</td>\n",
       "      <td>0</td>\n",
       "      <td>1</td>\n",
       "      <td>1</td>\n",
       "      <td>3</td>\n",
       "    </tr>\n",
       "    <tr>\n",
       "      <th>4</th>\n",
       "      <td>896</td>\n",
       "      <td>3</td>\n",
       "      <td>1</td>\n",
       "      <td>1</td>\n",
       "      <td>12.2875</td>\n",
       "      <td>0</td>\n",
       "      <td>3</td>\n",
       "      <td>0</td>\n",
       "      <td>3</td>\n",
       "    </tr>\n",
       "  </tbody>\n",
       "</table>\n",
       "</div>"
      ],
      "text/plain": [
       "   PassengerId  Pclass  Sex  Age     Fare  Embarked  Title  Is_Alone  \\\n",
       "0          892       3    0    2   7.8292         2      1         1   \n",
       "1          893       3    1    2   7.0000         0      3         0   \n",
       "2          894       2    0    3   9.6875         2      1         1   \n",
       "3          895       3    0    1   8.6625         0      1         1   \n",
       "4          896       3    1    1  12.2875         0      3         0   \n",
       "\n",
       "   Age_X_class  \n",
       "0            6  \n",
       "1            6  \n",
       "2            6  \n",
       "3            3  \n",
       "4            3  "
      ]
     },
     "execution_count": 43,
     "metadata": {},
     "output_type": "execute_result"
    }
   ],
   "source": [
    "test_df['Fare'].fillna(test_df['Fare'].dropna().median(), inplace=True)\n",
    "test_df.head()"
   ]
  },
  {
   "cell_type": "code",
   "execution_count": 44,
   "metadata": {
    "execution": {
     "iopub.execute_input": "2021-01-08T21:30:32.742272Z",
     "iopub.status.busy": "2021-01-08T21:30:32.741199Z",
     "iopub.status.idle": "2021-01-08T21:30:32.763811Z",
     "shell.execute_reply": "2021-01-08T21:30:32.764296Z"
    },
    "papermill": {
     "duration": 0.145406,
     "end_time": "2021-01-08T21:30:32.764474",
     "exception": false,
     "start_time": "2021-01-08T21:30:32.619068",
     "status": "completed"
    },
    "tags": []
   },
   "outputs": [
    {
     "data": {
      "text/html": [
       "<div>\n",
       "<style scoped>\n",
       "    .dataframe tbody tr th:only-of-type {\n",
       "        vertical-align: middle;\n",
       "    }\n",
       "\n",
       "    .dataframe tbody tr th {\n",
       "        vertical-align: top;\n",
       "    }\n",
       "\n",
       "    .dataframe thead th {\n",
       "        text-align: right;\n",
       "    }\n",
       "</style>\n",
       "<table border=\"1\" class=\"dataframe\">\n",
       "  <thead>\n",
       "    <tr style=\"text-align: right;\">\n",
       "      <th></th>\n",
       "      <th>Fare_Groups</th>\n",
       "      <th>Survived</th>\n",
       "    </tr>\n",
       "  </thead>\n",
       "  <tbody>\n",
       "    <tr>\n",
       "      <th>0</th>\n",
       "      <td>(-0.001, 7.91]</td>\n",
       "      <td>0.197309</td>\n",
       "    </tr>\n",
       "    <tr>\n",
       "      <th>1</th>\n",
       "      <td>(7.91, 14.454]</td>\n",
       "      <td>0.303571</td>\n",
       "    </tr>\n",
       "    <tr>\n",
       "      <th>2</th>\n",
       "      <td>(14.454, 31.0]</td>\n",
       "      <td>0.454955</td>\n",
       "    </tr>\n",
       "    <tr>\n",
       "      <th>3</th>\n",
       "      <td>(31.0, 512.329]</td>\n",
       "      <td>0.581081</td>\n",
       "    </tr>\n",
       "  </tbody>\n",
       "</table>\n",
       "</div>"
      ],
      "text/plain": [
       "       Fare_Groups  Survived\n",
       "0   (-0.001, 7.91]  0.197309\n",
       "1   (7.91, 14.454]  0.303571\n",
       "2   (14.454, 31.0]  0.454955\n",
       "3  (31.0, 512.329]  0.581081"
      ]
     },
     "execution_count": 44,
     "metadata": {},
     "output_type": "execute_result"
    }
   ],
   "source": [
    "train_df['Fare_Groups'] = pd.qcut(train_df['Fare'], 4)\n",
    "train_df[['Fare_Groups', 'Survived']].groupby(['Fare_Groups'], as_index=False).mean().sort_values(by='Fare_Groups', ascending=True)"
   ]
  },
  {
   "cell_type": "markdown",
   "metadata": {
    "papermill": {
     "duration": 0.120432,
     "end_time": "2021-01-08T21:30:33.005095",
     "exception": false,
     "start_time": "2021-01-08T21:30:32.884663",
     "status": "completed"
    },
    "tags": []
   },
   "source": [
    "Converting Fare values into the grouped values  \n",
    "and dropping Fare_Groups feature"
   ]
  },
  {
   "cell_type": "code",
   "execution_count": 45,
   "metadata": {
    "execution": {
     "iopub.execute_input": "2021-01-08T21:30:33.250863Z",
     "iopub.status.busy": "2021-01-08T21:30:33.249870Z",
     "iopub.status.idle": "2021-01-08T21:30:33.278161Z",
     "shell.execute_reply": "2021-01-08T21:30:33.277627Z"
    },
    "papermill": {
     "duration": 0.150097,
     "end_time": "2021-01-08T21:30:33.278295",
     "exception": false,
     "start_time": "2021-01-08T21:30:33.128198",
     "status": "completed"
    },
    "tags": []
   },
   "outputs": [
    {
     "data": {
      "text/html": [
       "<div>\n",
       "<style scoped>\n",
       "    .dataframe tbody tr th:only-of-type {\n",
       "        vertical-align: middle;\n",
       "    }\n",
       "\n",
       "    .dataframe tbody tr th {\n",
       "        vertical-align: top;\n",
       "    }\n",
       "\n",
       "    .dataframe thead th {\n",
       "        text-align: right;\n",
       "    }\n",
       "</style>\n",
       "<table border=\"1\" class=\"dataframe\">\n",
       "  <thead>\n",
       "    <tr style=\"text-align: right;\">\n",
       "      <th></th>\n",
       "      <th>Survived</th>\n",
       "      <th>Pclass</th>\n",
       "      <th>Sex</th>\n",
       "      <th>Age</th>\n",
       "      <th>Fare</th>\n",
       "      <th>Embarked</th>\n",
       "      <th>Title</th>\n",
       "      <th>Is_Alone</th>\n",
       "      <th>Age_X_class</th>\n",
       "    </tr>\n",
       "  </thead>\n",
       "  <tbody>\n",
       "    <tr>\n",
       "      <th>0</th>\n",
       "      <td>0</td>\n",
       "      <td>3</td>\n",
       "      <td>0</td>\n",
       "      <td>1</td>\n",
       "      <td>0</td>\n",
       "      <td>0</td>\n",
       "      <td>1</td>\n",
       "      <td>0</td>\n",
       "      <td>3</td>\n",
       "    </tr>\n",
       "    <tr>\n",
       "      <th>1</th>\n",
       "      <td>1</td>\n",
       "      <td>1</td>\n",
       "      <td>1</td>\n",
       "      <td>2</td>\n",
       "      <td>3</td>\n",
       "      <td>1</td>\n",
       "      <td>3</td>\n",
       "      <td>0</td>\n",
       "      <td>2</td>\n",
       "    </tr>\n",
       "    <tr>\n",
       "      <th>2</th>\n",
       "      <td>1</td>\n",
       "      <td>3</td>\n",
       "      <td>1</td>\n",
       "      <td>1</td>\n",
       "      <td>1</td>\n",
       "      <td>0</td>\n",
       "      <td>2</td>\n",
       "      <td>1</td>\n",
       "      <td>3</td>\n",
       "    </tr>\n",
       "    <tr>\n",
       "      <th>3</th>\n",
       "      <td>1</td>\n",
       "      <td>1</td>\n",
       "      <td>1</td>\n",
       "      <td>2</td>\n",
       "      <td>3</td>\n",
       "      <td>0</td>\n",
       "      <td>3</td>\n",
       "      <td>0</td>\n",
       "      <td>2</td>\n",
       "    </tr>\n",
       "    <tr>\n",
       "      <th>4</th>\n",
       "      <td>0</td>\n",
       "      <td>3</td>\n",
       "      <td>0</td>\n",
       "      <td>2</td>\n",
       "      <td>1</td>\n",
       "      <td>0</td>\n",
       "      <td>1</td>\n",
       "      <td>1</td>\n",
       "      <td>6</td>\n",
       "    </tr>\n",
       "    <tr>\n",
       "      <th>5</th>\n",
       "      <td>0</td>\n",
       "      <td>3</td>\n",
       "      <td>0</td>\n",
       "      <td>1</td>\n",
       "      <td>1</td>\n",
       "      <td>2</td>\n",
       "      <td>1</td>\n",
       "      <td>1</td>\n",
       "      <td>3</td>\n",
       "    </tr>\n",
       "    <tr>\n",
       "      <th>6</th>\n",
       "      <td>0</td>\n",
       "      <td>1</td>\n",
       "      <td>0</td>\n",
       "      <td>3</td>\n",
       "      <td>3</td>\n",
       "      <td>0</td>\n",
       "      <td>1</td>\n",
       "      <td>1</td>\n",
       "      <td>3</td>\n",
       "    </tr>\n",
       "    <tr>\n",
       "      <th>7</th>\n",
       "      <td>0</td>\n",
       "      <td>3</td>\n",
       "      <td>0</td>\n",
       "      <td>0</td>\n",
       "      <td>2</td>\n",
       "      <td>0</td>\n",
       "      <td>4</td>\n",
       "      <td>0</td>\n",
       "      <td>0</td>\n",
       "    </tr>\n",
       "    <tr>\n",
       "      <th>8</th>\n",
       "      <td>1</td>\n",
       "      <td>3</td>\n",
       "      <td>1</td>\n",
       "      <td>1</td>\n",
       "      <td>1</td>\n",
       "      <td>0</td>\n",
       "      <td>3</td>\n",
       "      <td>0</td>\n",
       "      <td>3</td>\n",
       "    </tr>\n",
       "    <tr>\n",
       "      <th>9</th>\n",
       "      <td>1</td>\n",
       "      <td>2</td>\n",
       "      <td>1</td>\n",
       "      <td>0</td>\n",
       "      <td>2</td>\n",
       "      <td>1</td>\n",
       "      <td>3</td>\n",
       "      <td>0</td>\n",
       "      <td>0</td>\n",
       "    </tr>\n",
       "  </tbody>\n",
       "</table>\n",
       "</div>"
      ],
      "text/plain": [
       "   Survived  Pclass  Sex  Age  Fare  Embarked  Title  Is_Alone  Age_X_class\n",
       "0         0       3    0    1     0         0      1         0            3\n",
       "1         1       1    1    2     3         1      3         0            2\n",
       "2         1       3    1    1     1         0      2         1            3\n",
       "3         1       1    1    2     3         0      3         0            2\n",
       "4         0       3    0    2     1         0      1         1            6\n",
       "5         0       3    0    1     1         2      1         1            3\n",
       "6         0       1    0    3     3         0      1         1            3\n",
       "7         0       3    0    0     2         0      4         0            0\n",
       "8         1       3    1    1     1         0      3         0            3\n",
       "9         1       2    1    0     2         1      3         0            0"
      ]
     },
     "execution_count": 45,
     "metadata": {},
     "output_type": "execute_result"
    }
   ],
   "source": [
    "for dataset in combine:\n",
    "    dataset.loc[ dataset['Fare'] <= 7.91, 'Fare'] = 0\n",
    "    dataset.loc[(dataset['Fare'] > 7.91) & (dataset['Fare'] <= 14.454), 'Fare'] = 1\n",
    "    dataset.loc[(dataset['Fare'] > 14.454) & (dataset['Fare'] <= 31), 'Fare']   = 2\n",
    "    dataset.loc[ dataset['Fare'] > 31, 'Fare'] = 3\n",
    "    dataset['Fare'] = dataset['Fare'].astype(int)\n",
    "\n",
    "train_df = train_df.drop(['Fare_Groups'], axis=1)\n",
    "combine = [train_df, test_df]\n",
    "    \n",
    "train_df.head(10)"
   ]
  },
  {
   "cell_type": "markdown",
   "metadata": {
    "papermill": {
     "duration": 0.121003,
     "end_time": "2021-01-08T21:30:33.520163",
     "exception": false,
     "start_time": "2021-01-08T21:30:33.399160",
     "status": "completed"
    },
    "tags": []
   },
   "source": [
    "Lets present the test data frame"
   ]
  },
  {
   "cell_type": "code",
   "execution_count": 46,
   "metadata": {
    "execution": {
     "iopub.execute_input": "2021-01-08T21:30:33.783452Z",
     "iopub.status.busy": "2021-01-08T21:30:33.782359Z",
     "iopub.status.idle": "2021-01-08T21:30:33.787266Z",
     "shell.execute_reply": "2021-01-08T21:30:33.786753Z"
    },
    "papermill": {
     "duration": 0.140838,
     "end_time": "2021-01-08T21:30:33.787408",
     "exception": false,
     "start_time": "2021-01-08T21:30:33.646570",
     "status": "completed"
    },
    "tags": []
   },
   "outputs": [
    {
     "data": {
      "text/html": [
       "<div>\n",
       "<style scoped>\n",
       "    .dataframe tbody tr th:only-of-type {\n",
       "        vertical-align: middle;\n",
       "    }\n",
       "\n",
       "    .dataframe tbody tr th {\n",
       "        vertical-align: top;\n",
       "    }\n",
       "\n",
       "    .dataframe thead th {\n",
       "        text-align: right;\n",
       "    }\n",
       "</style>\n",
       "<table border=\"1\" class=\"dataframe\">\n",
       "  <thead>\n",
       "    <tr style=\"text-align: right;\">\n",
       "      <th></th>\n",
       "      <th>PassengerId</th>\n",
       "      <th>Pclass</th>\n",
       "      <th>Sex</th>\n",
       "      <th>Age</th>\n",
       "      <th>Fare</th>\n",
       "      <th>Embarked</th>\n",
       "      <th>Title</th>\n",
       "      <th>Is_Alone</th>\n",
       "      <th>Age_X_class</th>\n",
       "    </tr>\n",
       "  </thead>\n",
       "  <tbody>\n",
       "    <tr>\n",
       "      <th>0</th>\n",
       "      <td>892</td>\n",
       "      <td>3</td>\n",
       "      <td>0</td>\n",
       "      <td>2</td>\n",
       "      <td>0</td>\n",
       "      <td>2</td>\n",
       "      <td>1</td>\n",
       "      <td>1</td>\n",
       "      <td>6</td>\n",
       "    </tr>\n",
       "    <tr>\n",
       "      <th>1</th>\n",
       "      <td>893</td>\n",
       "      <td>3</td>\n",
       "      <td>1</td>\n",
       "      <td>2</td>\n",
       "      <td>0</td>\n",
       "      <td>0</td>\n",
       "      <td>3</td>\n",
       "      <td>0</td>\n",
       "      <td>6</td>\n",
       "    </tr>\n",
       "    <tr>\n",
       "      <th>2</th>\n",
       "      <td>894</td>\n",
       "      <td>2</td>\n",
       "      <td>0</td>\n",
       "      <td>3</td>\n",
       "      <td>1</td>\n",
       "      <td>2</td>\n",
       "      <td>1</td>\n",
       "      <td>1</td>\n",
       "      <td>6</td>\n",
       "    </tr>\n",
       "    <tr>\n",
       "      <th>3</th>\n",
       "      <td>895</td>\n",
       "      <td>3</td>\n",
       "      <td>0</td>\n",
       "      <td>1</td>\n",
       "      <td>1</td>\n",
       "      <td>0</td>\n",
       "      <td>1</td>\n",
       "      <td>1</td>\n",
       "      <td>3</td>\n",
       "    </tr>\n",
       "    <tr>\n",
       "      <th>4</th>\n",
       "      <td>896</td>\n",
       "      <td>3</td>\n",
       "      <td>1</td>\n",
       "      <td>1</td>\n",
       "      <td>1</td>\n",
       "      <td>0</td>\n",
       "      <td>3</td>\n",
       "      <td>0</td>\n",
       "      <td>3</td>\n",
       "    </tr>\n",
       "    <tr>\n",
       "      <th>5</th>\n",
       "      <td>897</td>\n",
       "      <td>3</td>\n",
       "      <td>0</td>\n",
       "      <td>0</td>\n",
       "      <td>1</td>\n",
       "      <td>0</td>\n",
       "      <td>1</td>\n",
       "      <td>1</td>\n",
       "      <td>0</td>\n",
       "    </tr>\n",
       "    <tr>\n",
       "      <th>6</th>\n",
       "      <td>898</td>\n",
       "      <td>3</td>\n",
       "      <td>1</td>\n",
       "      <td>1</td>\n",
       "      <td>0</td>\n",
       "      <td>2</td>\n",
       "      <td>2</td>\n",
       "      <td>1</td>\n",
       "      <td>3</td>\n",
       "    </tr>\n",
       "    <tr>\n",
       "      <th>7</th>\n",
       "      <td>899</td>\n",
       "      <td>2</td>\n",
       "      <td>0</td>\n",
       "      <td>1</td>\n",
       "      <td>2</td>\n",
       "      <td>0</td>\n",
       "      <td>1</td>\n",
       "      <td>0</td>\n",
       "      <td>2</td>\n",
       "    </tr>\n",
       "    <tr>\n",
       "      <th>8</th>\n",
       "      <td>900</td>\n",
       "      <td>3</td>\n",
       "      <td>1</td>\n",
       "      <td>1</td>\n",
       "      <td>0</td>\n",
       "      <td>1</td>\n",
       "      <td>3</td>\n",
       "      <td>1</td>\n",
       "      <td>3</td>\n",
       "    </tr>\n",
       "    <tr>\n",
       "      <th>9</th>\n",
       "      <td>901</td>\n",
       "      <td>3</td>\n",
       "      <td>0</td>\n",
       "      <td>1</td>\n",
       "      <td>2</td>\n",
       "      <td>0</td>\n",
       "      <td>1</td>\n",
       "      <td>0</td>\n",
       "      <td>3</td>\n",
       "    </tr>\n",
       "  </tbody>\n",
       "</table>\n",
       "</div>"
      ],
      "text/plain": [
       "   PassengerId  Pclass  Sex  Age  Fare  Embarked  Title  Is_Alone  Age_X_class\n",
       "0          892       3    0    2     0         2      1         1            6\n",
       "1          893       3    1    2     0         0      3         0            6\n",
       "2          894       2    0    3     1         2      1         1            6\n",
       "3          895       3    0    1     1         0      1         1            3\n",
       "4          896       3    1    1     1         0      3         0            3\n",
       "5          897       3    0    0     1         0      1         1            0\n",
       "6          898       3    1    1     0         2      2         1            3\n",
       "7          899       2    0    1     2         0      1         0            2\n",
       "8          900       3    1    1     0         1      3         1            3\n",
       "9          901       3    0    1     2         0      1         0            3"
      ]
     },
     "execution_count": 46,
     "metadata": {},
     "output_type": "execute_result"
    }
   ],
   "source": [
    "test_df.head(10)\n"
   ]
  },
  {
   "cell_type": "code",
   "execution_count": 47,
   "metadata": {
    "execution": {
     "iopub.execute_input": "2021-01-08T21:30:34.038516Z",
     "iopub.status.busy": "2021-01-08T21:30:34.037800Z",
     "iopub.status.idle": "2021-01-08T21:30:34.701359Z",
     "shell.execute_reply": "2021-01-08T21:30:34.701904Z"
    },
    "papermill": {
     "duration": 0.792482,
     "end_time": "2021-01-08T21:30:34.702060",
     "exception": false,
     "start_time": "2021-01-08T21:30:33.909578",
     "status": "completed"
    },
    "tags": []
   },
   "outputs": [
    {
     "data": {
      "image/png": "[encoded data removed]",
      "text/plain": [
       "<Figure size 864x720 with 2 Axes>"
      ]
     },
     "metadata": {
      "needs_background": "light"
     },
     "output_type": "display_data"
    }
   ],
   "source": [
    "plt.figure(figsize=(12,10))\n",
    "cor = np.abs(train_df.corr())\n",
    "sns.heatmap(cor, annot=True, cmap=plt.cm.Reds)\n",
    "plt.show()"
   ]
  },
  {
   "cell_type": "markdown",
   "metadata": {
    "papermill": {
     "duration": 0.123267,
     "end_time": "2021-01-08T21:30:34.949569",
     "exception": false,
     "start_time": "2021-01-08T21:30:34.826302",
     "status": "completed"
    },
    "tags": []
   },
   "source": [
    "**Second correlation**  \n",
    "Now after fixing our data we can look at the heat map  \n",
    "and see the correlation between the different features"
   ]
  },
  {
   "cell_type": "markdown",
   "metadata": {
    "papermill": {
     "duration": 0.123592,
     "end_time": "2021-01-08T21:30:35.195758",
     "exception": false,
     "start_time": "2021-01-08T21:30:35.072166",
     "status": "completed"
    },
    "tags": []
   },
   "source": [
    "# Making predictions\n",
    "We will split the data to 80% train and 20% test"
   ]
  },
  {
   "cell_type": "markdown",
   "metadata": {
    "papermill": {
     "duration": 0.124463,
     "end_time": "2021-01-08T21:30:35.442947",
     "exception": false,
     "start_time": "2021-01-08T21:30:35.318484",
     "status": "completed"
    },
    "tags": []
   },
   "source": [
    "# Neural Network"
   ]
  },
  {
   "cell_type": "code",
   "execution_count": 48,
   "metadata": {
    "execution": {
     "iopub.execute_input": "2021-01-08T21:30:35.697173Z",
     "iopub.status.busy": "2021-01-08T21:30:35.695905Z",
     "iopub.status.idle": "2021-01-08T21:30:35.699088Z",
     "shell.execute_reply": "2021-01-08T21:30:35.699707Z"
    },
    "papermill": {
     "duration": 0.131933,
     "end_time": "2021-01-08T21:30:35.699877",
     "exception": false,
     "start_time": "2021-01-08T21:30:35.567944",
     "status": "completed"
    },
    "tags": []
   },
   "outputs": [],
   "source": [
    "train_df_cp = train_df.copy()\n"
   ]
  },
  {
   "cell_type": "code",
   "execution_count": 49,
   "metadata": {
    "execution": {
     "iopub.execute_input": "2021-01-08T21:30:35.953905Z",
     "iopub.status.busy": "2021-01-08T21:30:35.953037Z",
     "iopub.status.idle": "2021-01-08T21:30:35.966837Z",
     "shell.execute_reply": "2021-01-08T21:30:35.967418Z"
    },
    "papermill": {
     "duration": 0.142597,
     "end_time": "2021-01-08T21:30:35.967597",
     "exception": false,
     "start_time": "2021-01-08T21:30:35.825000",
     "status": "completed"
    },
    "tags": []
   },
   "outputs": [],
   "source": [
    " \n",
    "t = train_df['Survived']\n",
    "X = train_df.drop('Survived', axis=1)\n",
    "X_test  = test_df.drop(\"PassengerId\", axis=1).copy()\n",
    "X_train, X_test, t_train, t_test = sklearn.model_selection.train_test_split(X, t, test_size=0.2, random_state=2)\n",
    "\n",
    "\n",
    "\n",
    "t_cp = train_df_cp['Survived']\n",
    "X_cp = train_df_cp.drop('Survived', axis=1)\n",
    "X_train_cp, X_test_cp, t_train_cp, t_test_cp = sklearn.model_selection.train_test_split(X_cp, t_cp, test_size=0.2, random_state=2)\n",
    "\n",
    "\n"
   ]
  },
  {
   "cell_type": "code",
   "execution_count": 50,
   "metadata": {
    "execution": {
     "iopub.execute_input": "2021-01-08T21:30:36.220885Z",
     "iopub.status.busy": "2021-01-08T21:30:36.220138Z",
     "iopub.status.idle": "2021-01-08T21:30:40.205884Z",
     "shell.execute_reply": "2021-01-08T21:30:40.206440Z"
    },
    "papermill": {
     "duration": 4.114809,
     "end_time": "2021-01-08T21:30:40.206621",
     "exception": false,
     "start_time": "2021-01-08T21:30:36.091812",
     "status": "completed"
    },
    "tags": []
   },
   "outputs": [
    {
     "name": "stdout",
     "output_type": "stream",
     "text": [
      "Accuracy score on train 78.08988764044943\n",
      "Accuracy score on test 72.62569832402235\n",
      "\n",
      "CE on train 0.4853920115667626\n",
      "CE on test 0.5671633697145103\n"
     ]
    }
   ],
   "source": [
    "MLP_cls = neural_network.MLPClassifier(activation='logistic', solver='sgd', alpha=0, max_iter=10000).fit(X_train, t_train)\n",
    "y_train_prob = MLP_cls.predict_proba(X_train)\n",
    "y_test_prob = MLP_cls.predict_proba(X_test)\n",
    "print('Accuracy score on train', MLP_cls.score(X_train, t_train)*100)\n",
    "print('Accuracy score on test', MLP_cls.score(X_test, t_test)*100)\n",
    "print()\n",
    "print('CE on train', metrics.log_loss(t_train, y_train_prob))\n",
    "print('CE on test', metrics.log_loss(t_test, y_test_prob))"
   ]
  },
  {
   "cell_type": "markdown",
   "metadata": {
    "papermill": {
     "duration": 0.124747,
     "end_time": "2021-01-08T21:30:40.461058",
     "exception": false,
     "start_time": "2021-01-08T21:30:40.336311",
     "status": "completed"
    },
    "tags": []
   },
   "source": [
    "Now let's check the results of the data frame with the additional feature\n",
    "\n"
   ]
  },
  {
   "cell_type": "code",
   "execution_count": 51,
   "metadata": {
    "execution": {
     "iopub.execute_input": "2021-01-08T21:30:40.723496Z",
     "iopub.status.busy": "2021-01-08T21:30:40.722422Z",
     "iopub.status.idle": "2021-01-08T21:30:44.532452Z",
     "shell.execute_reply": "2021-01-08T21:30:44.531393Z"
    },
    "papermill": {
     "duration": 3.945923,
     "end_time": "2021-01-08T21:30:44.532670",
     "exception": false,
     "start_time": "2021-01-08T21:30:40.586747",
     "status": "completed"
    },
    "tags": []
   },
   "outputs": [
    {
     "name": "stdout",
     "output_type": "stream",
     "text": [
      "Accuracy score on train 77.52808988764045\n",
      "Accuracy score on test 72.62569832402235\n",
      "\n",
      "CE on train 0.4856568576115891\n",
      "CE on test 0.5636266642352\n"
     ]
    }
   ],
   "source": [
    "MLP_cls_cp = neural_network.MLPClassifier(activation='logistic', solver='sgd', alpha=0, max_iter=10000).fit(X_train_cp, t_train_cp)\n",
    "y_train_prob_cp = MLP_cls_cp.predict_proba(X_train_cp)\n",
    "y_test_prob_cp = MLP_cls_cp.predict_proba(X_test_cp)\n",
    "print('Accuracy score on train', MLP_cls_cp.score(X_train_cp, t_train_cp)*100)\n",
    "print('Accuracy score on test', MLP_cls_cp.score(X_test_cp, t_test_cp)*100)\n",
    "print()\n",
    "print('CE on train', metrics.log_loss(t_train_cp, y_train_prob_cp))\n",
    "print('CE on test', metrics.log_loss(t_test_cp, y_test_prob_cp))"
   ]
  },
  {
   "cell_type": "markdown",
   "metadata": {
    "papermill": {
     "duration": 0.124839,
     "end_time": "2021-01-08T21:30:44.787604",
     "exception": false,
     "start_time": "2021-01-08T21:30:44.662765",
     "status": "completed"
    },
    "tags": []
   },
   "source": [
    "# SGD algorithm"
   ]
  },
  {
   "cell_type": "code",
   "execution_count": 52,
   "metadata": {
    "execution": {
     "iopub.execute_input": "2021-01-08T21:30:45.057670Z",
     "iopub.status.busy": "2021-01-08T21:30:45.056713Z",
     "iopub.status.idle": "2021-01-08T21:30:45.080169Z",
     "shell.execute_reply": "2021-01-08T21:30:45.079177Z"
    },
    "papermill": {
     "duration": 0.165385,
     "end_time": "2021-01-08T21:30:45.080335",
     "exception": false,
     "start_time": "2021-01-08T21:30:44.914950",
     "status": "completed"
    },
    "tags": []
   },
   "outputs": [
    {
     "name": "stdout",
     "output_type": "stream",
     "text": [
      "first 5 probabilities of y_train_prob:\n",
      "[[0.20460605 0.79539395]\n",
      " [0.47203757 0.52796243]\n",
      " [0.94767646 0.05232354]\n",
      " [0.78535708 0.21464292]\n",
      " [0.93534538 0.06465462]]\n",
      "\n",
      "first 5 predictions of y_train:\n",
      "[1 1 0 0 0]\n",
      "\n",
      "first 5 probabilities of y_test_prob:\n",
      "[[0.64717847 0.35282153]\n",
      " [0.93534538 0.06465462]\n",
      " [0.28117088 0.71882912]\n",
      " [0.94463446 0.05536554]\n",
      " [0.50756238 0.49243762]]\n",
      "\n",
      "first 5 predictions of y_test:\n",
      "[0 0 1 0 0]\n"
     ]
    }
   ],
   "source": [
    "# create the SGDClassifier and predict the probabilities of the train and test data\n",
    "SGD_cls = pipeline.make_pipeline(preprocessing.StandardScaler(), linear_model.SGDClassifier(loss='log', alpha=0, learning_rate='constant', eta0=0.01)).fit(X_train, t_train)\n",
    "y_train_prob = SGD_cls.predict_proba(X_train)\n",
    "y_test_prob = SGD_cls.predict_proba(X_test)\n",
    "y_train = SGD_cls.predict(X_train)\n",
    "y_test = SGD_cls.predict(X_test)\n",
    "print('first 5 probabilities of y_train_prob:')\n",
    "print(y_train_prob[:5])\n",
    "print()\n",
    "print('first 5 predictions of y_train:')\n",
    "print(y_train[:5])\n",
    "print()\n",
    "print('first 5 probabilities of y_test_prob:')\n",
    "print(y_test_prob[:5])\n",
    "print()\n",
    "print('first 5 predictions of y_test:')\n",
    "print(y_test[:5])"
   ]
  },
  {
   "cell_type": "code",
   "execution_count": 53,
   "metadata": {
    "execution": {
     "iopub.execute_input": "2021-01-08T21:30:45.347730Z",
     "iopub.status.busy": "2021-01-08T21:30:45.343282Z",
     "iopub.status.idle": "2021-01-08T21:30:45.356819Z",
     "shell.execute_reply": "2021-01-08T21:30:45.355739Z"
    },
    "papermill": {
     "duration": 0.149756,
     "end_time": "2021-01-08T21:30:45.356996",
     "exception": false,
     "start_time": "2021-01-08T21:30:45.207240",
     "status": "completed"
    },
    "tags": []
   },
   "outputs": [
    {
     "name": "stdout",
     "output_type": "stream",
     "text": [
      "Accuracy score on train 80.75842696629213\n",
      "Accuracy score on test 77.6536312849162\n",
      "\n",
      "CE on train 0.4283465952826703\n",
      "CE on test 0.5473273055572829\n"
     ]
    }
   ],
   "source": [
    "# print the accuracy score and CE loss of the train and test\n",
    "Accuracy_score_on_train = SGD_cls.score(X_train, t_train)*100\n",
    "Accuracy_score_on_test = SGD_cls.score(X_test, t_test)*100\n",
    "print('Accuracy score on train', Accuracy_score_on_train)\n",
    "print('Accuracy score on test', Accuracy_score_on_test)\n",
    "print()\n",
    "print('CE on train', metrics.log_loss(t_train, y_train_prob))\n",
    "print('CE on test', metrics.log_loss(t_test, y_test_prob))"
   ]
  },
  {
   "cell_type": "code",
   "execution_count": 54,
   "metadata": {
    "execution": {
     "iopub.execute_input": "2021-01-08T21:30:45.614886Z",
     "iopub.status.busy": "2021-01-08T21:30:45.614102Z",
     "iopub.status.idle": "2021-01-08T21:30:45.620613Z",
     "shell.execute_reply": "2021-01-08T21:30:45.621195Z"
    },
    "papermill": {
     "duration": 0.135946,
     "end_time": "2021-01-08T21:30:45.621357",
     "exception": false,
     "start_time": "2021-01-08T21:30:45.485411",
     "status": "completed"
    },
    "tags": []
   },
   "outputs": [
    {
     "name": "stdout",
     "output_type": "stream",
     "text": [
      "77.6536312849162\n"
     ]
    }
   ],
   "source": [
    "print(Accuracy_score_on_test)"
   ]
  },
  {
   "cell_type": "code",
   "execution_count": 55,
   "metadata": {
    "execution": {
     "iopub.execute_input": "2021-01-08T21:30:45.885177Z",
     "iopub.status.busy": "2021-01-08T21:30:45.884108Z",
     "iopub.status.idle": "2021-01-08T21:30:45.887489Z",
     "shell.execute_reply": "2021-01-08T21:30:45.886931Z"
    },
    "papermill": {
     "duration": 0.137458,
     "end_time": "2021-01-08T21:30:45.887610",
     "exception": false,
     "start_time": "2021-01-08T21:30:45.750152",
     "status": "completed"
    },
    "tags": []
   },
   "outputs": [],
   "source": [
    "X_train = train_df.drop('Survived', axis=1)\n",
    "X_test  = test_df.drop(\"PassengerId\", axis=1).copy()"
   ]
  },
  {
   "cell_type": "code",
   "execution_count": 56,
   "metadata": {
    "execution": {
     "iopub.execute_input": "2021-01-08T21:30:46.151949Z",
     "iopub.status.busy": "2021-01-08T21:30:46.151040Z",
     "iopub.status.idle": "2021-01-08T21:30:46.175718Z",
     "shell.execute_reply": "2021-01-08T21:30:46.176634Z"
    },
    "papermill": {
     "duration": 0.164435,
     "end_time": "2021-01-08T21:30:46.176855",
     "exception": false,
     "start_time": "2021-01-08T21:30:46.012420",
     "status": "completed"
    },
    "tags": []
   },
   "outputs": [
    {
     "name": "stdout",
     "output_type": "stream",
     "text": [
      "Accuracy score on train 80.47752808988764\n",
      "Accuracy score on test 77.6536312849162\n",
      "\n",
      "CE on train 0.4856568576115891\n",
      "CE on test 0.5636266642352\n"
     ]
    }
   ],
   "source": [
    "# calculate accuracy and CE loss of the new dataframe (with the additional feature) train and test \n",
    "SGD_cls_cp = pipeline.make_pipeline(preprocessing.StandardScaler(), linear_model.SGDClassifier(loss='log', alpha=0, learning_rate='constant', eta0=0.01)).fit(X_train_cp, t_train_cp)\n",
    "y_train_cp = SGD_cls_cp.predict(X_train)\n",
    "y_test_cp = SGD_cls_cp.predict(X_test)\n",
    "print('Accuracy score on train', SGD_cls_cp.score(X_train_cp, t_train_cp)*100)\n",
    "print('Accuracy score on test', SGD_cls_cp.score(X_test_cp, t_test_cp)*100)\n",
    "print()\n",
    "print('CE on train', metrics.log_loss(t_train_cp, y_train_prob_cp))\n",
    "print('CE on test', metrics.log_loss(t_test_cp, y_test_prob_cp))"
   ]
  },
  {
   "cell_type": "markdown",
   "metadata": {
    "papermill": {
     "duration": 0.150971,
     "end_time": "2021-01-08T21:30:46.460423",
     "exception": false,
     "start_time": "2021-01-08T21:30:46.309452",
     "status": "completed"
    },
    "tags": []
   },
   "source": [
    "**conclutions**  \n",
    "we used two methods in order to make data predictions,  \n",
    "we can see the SGD provides better results than NN does.  \n"
   ]
  },
  {
   "cell_type": "code",
   "execution_count": 57,
   "metadata": {
    "execution": {
     "iopub.execute_input": "2021-01-08T21:30:46.741358Z",
     "iopub.status.busy": "2021-01-08T21:30:46.740606Z",
     "iopub.status.idle": "2021-01-08T21:30:46.744953Z",
     "shell.execute_reply": "2021-01-08T21:30:46.744276Z"
    },
    "papermill": {
     "duration": 0.137871,
     "end_time": "2021-01-08T21:30:46.745070",
     "exception": false,
     "start_time": "2021-01-08T21:30:46.607199",
     "status": "completed"
    },
    "tags": []
   },
   "outputs": [],
   "source": [
    "# submission = pd.DataFrame({'PassengerId':  test_df[\"PassengerId\"], \"Survived\": y_test_cp})\n",
    "# submission.to_csv('submission.csv', index=False)\n",
    "# print(\"Your submission was successfully saved!\")"
   ]
  },
  {
   "cell_type": "markdown",
   "metadata": {
    "papermill": {
     "duration": 0.12784,
     "end_time": "2021-01-08T21:30:47.000570",
     "exception": false,
     "start_time": "2021-01-08T21:30:46.872730",
     "status": "completed"
    },
    "tags": []
   },
   "source": [
    "# Sources \n",
    "\n",
    "> https://www.kaggle.com/startupsci/titanic-data-science-solutions experienced kaggler  \n",
    "> Wikipedia  \n",
    "> Moodle  \n"
   ]
  },
  {
   "cell_type": "markdown",
   "metadata": {
    "papermill": {
     "duration": 0.129303,
     "end_time": "2021-01-08T21:30:47.260781",
     "exception": false,
     "start_time": "2021-01-08T21:30:47.131478",
     "status": "completed"
    },
    "tags": []
   },
   "source": [
    "# Exercise 3"
   ]
  },
  {
   "cell_type": "code",
   "execution_count": 58,
   "metadata": {
    "execution": {
     "iopub.execute_input": "2021-01-08T21:30:47.530036Z",
     "iopub.status.busy": "2021-01-08T21:30:47.529316Z",
     "iopub.status.idle": "2021-01-08T21:30:48.731341Z",
     "shell.execute_reply": "2021-01-08T21:30:48.730713Z"
    },
    "papermill": {
     "duration": 1.343311,
     "end_time": "2021-01-08T21:30:48.731500",
     "exception": false,
     "start_time": "2021-01-08T21:30:47.388189",
     "status": "completed"
    },
    "tags": []
   },
   "outputs": [],
   "source": [
    "# import numpy, matplotlib, etc.\n",
    "import numpy as np\n",
    "import pandas as pd\n",
    "import seaborn as sns\n",
    "import plotly.express as px\n",
    "import matplotlib.pyplot as plt\n",
    "import plotly.graph_objects as go\n",
    "from tqdm.auto import tqdm\n",
    "\n",
    "# sklearn imports\n",
    "from sklearn import metrics\n",
    "from sklearn import pipeline\n",
    "from sklearn import linear_model\n",
    "from sklearn import preprocessing\n",
    "from sklearn import neural_network\n",
    "from sklearn import model_selection\n",
    "from sklearn.pipeline import Pipeline\n",
    "from sklearn.pipeline import make_pipeline\n",
    "from sklearn.linear_model import SGDRegressor\n",
    "from sklearn.metrics import mean_squared_error\n",
    "from sklearn.preprocessing import OneHotEncoder\n",
    "from sklearn.preprocessing import OrdinalEncoder\n",
    "from sklearn.preprocessing import StandardScaler\n",
    "from sklearn.linear_model import LinearRegression\n",
    "from sklearn.preprocessing import PolynomialFeatures\n",
    "from sklearn.model_selection import train_test_split\n",
    "from sklearn.model_selection import KFold\n",
    "from sklearn.model_selection import cross_val_score\n",
    "from sklearn.feature_selection import RFECV\n",
    "from sklearn.model_selection import RepeatedKFold\n",
    "from sklearn.decomposition import PCA\n",
    "from sklearn.neighbors import KNeighborsClassifier\n",
    "from sklearn.model_selection import GridSearchCV\n",
    "from sklearn.ensemble import BaggingClassifier\n",
    "from sklearn.ensemble import AdaBoostClassifier\n",
    "from sklearn.naive_bayes import MultinomialNB\n",
    "from sklearn.naive_bayes import GaussianNB \n",
    "from sklearn.discriminant_analysis import LinearDiscriminantAnalysis\n",
    "from sklearn.neighbors import KNeighborsRegressor\n",
    "from sklearn.metrics import confusion_matrix\n"
   ]
  },
  {
   "cell_type": "markdown",
   "metadata": {
    "papermill": {
     "duration": 0.12697,
     "end_time": "2021-01-08T21:30:48.985257",
     "exception": false,
     "start_time": "2021-01-08T21:30:48.858287",
     "status": "completed"
    },
    "tags": []
   },
   "source": [
    "Now we will try to improve our score by using advanced tools"
   ]
  },
  {
   "cell_type": "code",
   "execution_count": 59,
   "metadata": {
    "execution": {
     "iopub.execute_input": "2021-01-08T21:30:49.256808Z",
     "iopub.status.busy": "2021-01-08T21:30:49.256119Z",
     "iopub.status.idle": "2021-01-08T21:30:49.276017Z",
     "shell.execute_reply": "2021-01-08T21:30:49.275308Z"
    },
    "papermill": {
     "duration": 0.160384,
     "end_time": "2021-01-08T21:30:49.276138",
     "exception": false,
     "start_time": "2021-01-08T21:30:49.115754",
     "status": "completed"
    },
    "tags": []
   },
   "outputs": [
    {
     "name": "stdout",
     "output_type": "stream",
     "text": [
      "------------------------- t -------------------------\n"
     ]
    },
    {
     "data": {
      "text/plain": [
       "0      0\n",
       "1      1\n",
       "2      1\n",
       "3      1\n",
       "4      0\n",
       "      ..\n",
       "886    0\n",
       "887    1\n",
       "888    0\n",
       "889    1\n",
       "890    0\n",
       "Name: Survived, Length: 891, dtype: int64"
      ]
     },
     "metadata": {},
     "output_type": "display_data"
    },
    {
     "name": "stdout",
     "output_type": "stream",
     "text": [
      "------------------------- X -------------------------\n"
     ]
    },
    {
     "data": {
      "text/html": [
       "<div>\n",
       "<style scoped>\n",
       "    .dataframe tbody tr th:only-of-type {\n",
       "        vertical-align: middle;\n",
       "    }\n",
       "\n",
       "    .dataframe tbody tr th {\n",
       "        vertical-align: top;\n",
       "    }\n",
       "\n",
       "    .dataframe thead th {\n",
       "        text-align: right;\n",
       "    }\n",
       "</style>\n",
       "<table border=\"1\" class=\"dataframe\">\n",
       "  <thead>\n",
       "    <tr style=\"text-align: right;\">\n",
       "      <th></th>\n",
       "      <th>Pclass</th>\n",
       "      <th>Sex</th>\n",
       "      <th>Age</th>\n",
       "      <th>Fare</th>\n",
       "      <th>Embarked</th>\n",
       "      <th>Title</th>\n",
       "      <th>Is_Alone</th>\n",
       "      <th>Age_X_class</th>\n",
       "    </tr>\n",
       "  </thead>\n",
       "  <tbody>\n",
       "    <tr>\n",
       "      <th>0</th>\n",
       "      <td>3</td>\n",
       "      <td>0</td>\n",
       "      <td>1</td>\n",
       "      <td>0</td>\n",
       "      <td>0</td>\n",
       "      <td>1</td>\n",
       "      <td>0</td>\n",
       "      <td>3</td>\n",
       "    </tr>\n",
       "    <tr>\n",
       "      <th>1</th>\n",
       "      <td>1</td>\n",
       "      <td>1</td>\n",
       "      <td>2</td>\n",
       "      <td>3</td>\n",
       "      <td>1</td>\n",
       "      <td>3</td>\n",
       "      <td>0</td>\n",
       "      <td>2</td>\n",
       "    </tr>\n",
       "    <tr>\n",
       "      <th>2</th>\n",
       "      <td>3</td>\n",
       "      <td>1</td>\n",
       "      <td>1</td>\n",
       "      <td>1</td>\n",
       "      <td>0</td>\n",
       "      <td>2</td>\n",
       "      <td>1</td>\n",
       "      <td>3</td>\n",
       "    </tr>\n",
       "    <tr>\n",
       "      <th>3</th>\n",
       "      <td>1</td>\n",
       "      <td>1</td>\n",
       "      <td>2</td>\n",
       "      <td>3</td>\n",
       "      <td>0</td>\n",
       "      <td>3</td>\n",
       "      <td>0</td>\n",
       "      <td>2</td>\n",
       "    </tr>\n",
       "    <tr>\n",
       "      <th>4</th>\n",
       "      <td>3</td>\n",
       "      <td>0</td>\n",
       "      <td>2</td>\n",
       "      <td>1</td>\n",
       "      <td>0</td>\n",
       "      <td>1</td>\n",
       "      <td>1</td>\n",
       "      <td>6</td>\n",
       "    </tr>\n",
       "    <tr>\n",
       "      <th>...</th>\n",
       "      <td>...</td>\n",
       "      <td>...</td>\n",
       "      <td>...</td>\n",
       "      <td>...</td>\n",
       "      <td>...</td>\n",
       "      <td>...</td>\n",
       "      <td>...</td>\n",
       "      <td>...</td>\n",
       "    </tr>\n",
       "    <tr>\n",
       "      <th>886</th>\n",
       "      <td>2</td>\n",
       "      <td>0</td>\n",
       "      <td>1</td>\n",
       "      <td>1</td>\n",
       "      <td>0</td>\n",
       "      <td>5</td>\n",
       "      <td>1</td>\n",
       "      <td>2</td>\n",
       "    </tr>\n",
       "    <tr>\n",
       "      <th>887</th>\n",
       "      <td>1</td>\n",
       "      <td>1</td>\n",
       "      <td>1</td>\n",
       "      <td>2</td>\n",
       "      <td>0</td>\n",
       "      <td>2</td>\n",
       "      <td>1</td>\n",
       "      <td>1</td>\n",
       "    </tr>\n",
       "    <tr>\n",
       "      <th>888</th>\n",
       "      <td>3</td>\n",
       "      <td>1</td>\n",
       "      <td>1</td>\n",
       "      <td>2</td>\n",
       "      <td>0</td>\n",
       "      <td>2</td>\n",
       "      <td>0</td>\n",
       "      <td>3</td>\n",
       "    </tr>\n",
       "    <tr>\n",
       "      <th>889</th>\n",
       "      <td>1</td>\n",
       "      <td>0</td>\n",
       "      <td>1</td>\n",
       "      <td>2</td>\n",
       "      <td>1</td>\n",
       "      <td>1</td>\n",
       "      <td>1</td>\n",
       "      <td>1</td>\n",
       "    </tr>\n",
       "    <tr>\n",
       "      <th>890</th>\n",
       "      <td>3</td>\n",
       "      <td>0</td>\n",
       "      <td>1</td>\n",
       "      <td>0</td>\n",
       "      <td>2</td>\n",
       "      <td>1</td>\n",
       "      <td>1</td>\n",
       "      <td>3</td>\n",
       "    </tr>\n",
       "  </tbody>\n",
       "</table>\n",
       "<p>891 rows × 8 columns</p>\n",
       "</div>"
      ],
      "text/plain": [
       "     Pclass  Sex  Age  Fare  Embarked  Title  Is_Alone  Age_X_class\n",
       "0         3    0    1     0         0      1         0            3\n",
       "1         1    1    2     3         1      3         0            2\n",
       "2         3    1    1     1         0      2         1            3\n",
       "3         1    1    2     3         0      3         0            2\n",
       "4         3    0    2     1         0      1         1            6\n",
       "..      ...  ...  ...   ...       ...    ...       ...          ...\n",
       "886       2    0    1     1         0      5         1            2\n",
       "887       1    1    1     2         0      2         1            1\n",
       "888       3    1    1     2         0      2         0            3\n",
       "889       1    0    1     2         1      1         1            1\n",
       "890       3    0    1     0         2      1         1            3\n",
       "\n",
       "[891 rows x 8 columns]"
      ]
     },
     "metadata": {},
     "output_type": "display_data"
    }
   ],
   "source": [
    "#the target\n",
    "t = train_df['Survived'].copy()\n",
    "X = train_df.drop(['Survived'], axis=1)\n",
    "X_train, X_test, t_train, t_test = sklearn.model_selection.train_test_split(X, t, test_size=0.2, random_state=2)\n",
    "\n",
    "train_df_cp = train_df\n",
    "print('-'*25,'t','-'*25)\n",
    "display(t)\n",
    "print('-'*25,'X','-'*25)\n",
    "display(X)"
   ]
  },
  {
   "cell_type": "markdown",
   "metadata": {
    "papermill": {
     "duration": 0.131459,
     "end_time": "2021-01-08T21:30:49.537298",
     "exception": false,
     "start_time": "2021-01-08T21:30:49.405839",
     "status": "completed"
    },
    "tags": []
   },
   "source": [
    "# Cross-validation"
   ]
  },
  {
   "cell_type": "code",
   "execution_count": 60,
   "metadata": {
    "execution": {
     "iopub.execute_input": "2021-01-08T21:30:49.804913Z",
     "iopub.status.busy": "2021-01-08T21:30:49.804050Z",
     "iopub.status.idle": "2021-01-08T21:30:49.808258Z",
     "shell.execute_reply": "2021-01-08T21:30:49.807602Z"
    },
    "papermill": {
     "duration": 0.141665,
     "end_time": "2021-01-08T21:30:49.808387",
     "exception": false,
     "start_time": "2021-01-08T21:30:49.666722",
     "status": "completed"
    },
    "tags": []
   },
   "outputs": [],
   "source": [
    "from tqdm.auto import tqdm\n",
    "\n",
    "def find_generator_len(generator, use_pbar=True):\n",
    "    i = 0\n",
    "    \n",
    "    if use_pbar:\n",
    "        pbar = tqdm(desc='Calculating Length', ncols=1000, bar_format='{desc}{bar:10}{r_bar}')\n",
    "\n",
    "    for a in generator:\n",
    "        i += 1\n",
    "\n",
    "        if use_pbar:\n",
    "            pbar.update()\n",
    "\n",
    "    if use_pbar:\n",
    "        pbar.close()\n",
    "\n",
    "    return i"
   ]
  },
  {
   "cell_type": "code",
   "execution_count": 61,
   "metadata": {
    "execution": {
     "iopub.execute_input": "2021-01-08T21:30:50.083135Z",
     "iopub.status.busy": "2021-01-08T21:30:50.077582Z",
     "iopub.status.idle": "2021-01-08T21:30:50.094026Z",
     "shell.execute_reply": "2021-01-08T21:30:50.093300Z"
    },
    "papermill": {
     "duration": 0.157844,
     "end_time": "2021-01-08T21:30:50.094154",
     "exception": false,
     "start_time": "2021-01-08T21:30:49.936310",
     "status": "completed"
    },
    "tags": []
   },
   "outputs": [],
   "source": [
    "def get_cv_score_and_loss(X, t, model, transformer=None, k=None, p=None, show_score_loss_graphs=False, use_pbar=True):\n",
    "    scores_losses_df = pd.DataFrame(columns=['fold_id', 'split', 'score', 'loss'])\n",
    "\n",
    "    if k is not None:\n",
    "        cv = KFold(n_splits=k, shuffle=True, random_state=1)\n",
    "    elif p is not None:\n",
    "        cv = LeavePOut(p)\n",
    "    else:\n",
    "        raise ValueError('you need to specify k or p in order for the cv to work')\n",
    "\n",
    "    if use_pbar:\n",
    "        pbar = tqdm(desc='Computing Models', total=find_generator_len(cv.split(X)))\n",
    "\n",
    "    for i, (train_ids, val_ids) in enumerate(cv.split(X)):\n",
    "        X_train = X.loc[X.index.intersection(train_ids)]\n",
    "        t_train = t.loc[t.index.intersection(train_ids)]\n",
    "        X_val = X.loc[X.index.intersection(val_ids)]\n",
    "        t_val = t.loc[t.index.intersection(val_ids)]\n",
    "\n",
    "        model.fit(X_train, t_train)\n",
    "\n",
    "        y_train = model.predict(X_train)\n",
    "        y_val = model.predict(X_val)\n",
    "        scores_losses_df.loc[len(scores_losses_df)] = [i, 'train', model.score(X_train, t_train), mean_squared_error(t_train, y_train)]\n",
    "        scores_losses_df.loc[len(scores_losses_df)] = [i, 'val', model.score(X_val, t_val), mean_squared_error(t_val, y_val)]\n",
    "\n",
    "        if use_pbar:\n",
    "            pbar.update()\n",
    "\n",
    "    if use_pbar:\n",
    "        pbar.close()\n",
    "\n",
    "    val_scores_losses_df = scores_losses_df[scores_losses_df['split']=='val']\n",
    "    train_scores_losses_df = scores_losses_df[scores_losses_df['split']=='train']\n",
    "\n",
    "    mean_val_score = val_scores_losses_df['score'].mean()\n",
    "    mean_val_loss = val_scores_losses_df['loss'].mean()\n",
    "    mean_train_score = train_scores_losses_df['score'].mean()\n",
    "    mean_train_loss = train_scores_losses_df['loss'].mean()\n",
    "\n",
    "    if show_score_loss_graphs:\n",
    "        fig = px.line(scores_losses_df, x='fold_id', y='score', color='split', title=f'Mean Val Score: {mean_val_score:.2f}, Mean Train Score: {mean_train_score:.2f}')\n",
    "        fig.show()\n",
    "        fig = px.line(scores_losses_df, x='fold_id', y='loss', color='split', title=f'Mean Val Loss: {mean_val_loss:.2f}, Mean Train Loss: {mean_train_loss:.2f}')\n",
    "        fig.show()\n",
    "\n",
    "    return mean_val_score, mean_val_loss, mean_train_score, mean_train_loss"
   ]
  },
  {
   "cell_type": "code",
   "execution_count": 62,
   "metadata": {
    "execution": {
     "iopub.execute_input": "2021-01-08T21:30:50.370776Z",
     "iopub.status.busy": "2021-01-08T21:30:50.369893Z",
     "iopub.status.idle": "2021-01-08T21:30:50.373867Z",
     "shell.execute_reply": "2021-01-08T21:30:50.373013Z"
    },
    "papermill": {
     "duration": 0.151784,
     "end_time": "2021-01-08T21:30:50.374005",
     "exception": false,
     "start_time": "2021-01-08T21:30:50.222221",
     "status": "completed"
    },
    "tags": []
   },
   "outputs": [],
   "source": [
    "X_normalized = StandardScaler().fit_transform(X_train)\n",
    "# X_test_normalized = StandardScaler().fit_transform(X_test)\n",
    "arr_X_normalized = np.asarray(X_normalized)\n",
    "\n"
   ]
  },
  {
   "cell_type": "markdown",
   "metadata": {
    "papermill": {
     "duration": 0.175932,
     "end_time": "2021-01-08T21:30:50.682352",
     "exception": false,
     "start_time": "2021-01-08T21:30:50.506420",
     "status": "completed"
    },
    "tags": []
   },
   "source": [
    "# Ensembles"
   ]
  },
  {
   "cell_type": "markdown",
   "metadata": {
    "papermill": {
     "duration": 0.130341,
     "end_time": "2021-01-08T21:30:50.945486",
     "exception": false,
     "start_time": "2021-01-08T21:30:50.815145",
     "status": "completed"
    },
    "tags": []
   },
   "source": [
    "We will use two types of ensembles:   \n",
    "* Bagging - We will use both NFold and Bootstrap in order to compare   \n",
    "* Boosting - We will use AdaBoosting \n",
    "\n",
    "After getting the results we will know which ensemble produced the best score \n"
   ]
  },
  {
   "cell_type": "markdown",
   "metadata": {
    "papermill": {
     "duration": 0.1287,
     "end_time": "2021-01-08T21:30:51.204608",
     "exception": false,
     "start_time": "2021-01-08T21:30:51.075908",
     "status": "completed"
    },
    "tags": []
   },
   "source": [
    "When bootstrap is false we choose to work with **NFolds**"
   ]
  },
  {
   "cell_type": "code",
   "execution_count": 63,
   "metadata": {
    "execution": {
     "iopub.execute_input": "2021-01-08T21:30:51.472663Z",
     "iopub.status.busy": "2021-01-08T21:30:51.469923Z",
     "iopub.status.idle": "2021-01-08T21:30:51.622303Z",
     "shell.execute_reply": "2021-01-08T21:30:51.621754Z"
    },
    "papermill": {
     "duration": 0.289128,
     "end_time": "2021-01-08T21:30:51.622447",
     "exception": false,
     "start_time": "2021-01-08T21:30:51.333319",
     "status": "completed"
    },
    "tags": []
   },
   "outputs": [
    {
     "name": "stdout",
     "output_type": "stream",
     "text": [
      "bag_fold_model 80.19662921348315\n"
     ]
    }
   ],
   "source": [
    "\n",
    "bag_fold_model = BaggingClassifier(base_estimator=SGDClassifier(), n_estimators=20, random_state=1, bootstrap=False).fit(X_normalized, t_train)\n",
    "print('bag_fold_model', bag_fold_model.score(X_normalized, t_train).mean()*100)"
   ]
  },
  {
   "cell_type": "markdown",
   "metadata": {
    "papermill": {
     "duration": 0.13114,
     "end_time": "2021-01-08T21:30:51.884166",
     "exception": false,
     "start_time": "2021-01-08T21:30:51.753026",
     "status": "completed"
    },
    "tags": []
   },
   "source": [
    "When bootstrap is true we choose to work with **Bootstrap bagging** "
   ]
  },
  {
   "cell_type": "code",
   "execution_count": 64,
   "metadata": {
    "execution": {
     "iopub.execute_input": "2021-01-08T21:30:52.156001Z",
     "iopub.status.busy": "2021-01-08T21:30:52.152658Z",
     "iopub.status.idle": "2021-01-08T21:30:52.300227Z",
     "shell.execute_reply": "2021-01-08T21:30:52.299489Z"
    },
    "papermill": {
     "duration": 0.285143,
     "end_time": "2021-01-08T21:30:52.300362",
     "exception": false,
     "start_time": "2021-01-08T21:30:52.015219",
     "status": "completed"
    },
    "tags": []
   },
   "outputs": [
    {
     "name": "stdout",
     "output_type": "stream",
     "text": [
      "bag_boot_model 81.03932584269663\n"
     ]
    }
   ],
   "source": [
    "bag_boot_model = BaggingClassifier(base_estimator=SGDClassifier(), n_estimators=20, random_state=1, bootstrap=True).fit(X_normalized, t_train)\n",
    "print('bag_boot_model', bag_boot_model.score(X_normalized, t_train).mean()*100)"
   ]
  },
  {
   "cell_type": "code",
   "execution_count": 65,
   "metadata": {
    "execution": {
     "iopub.execute_input": "2021-01-08T21:30:52.582623Z",
     "iopub.status.busy": "2021-01-08T21:30:52.580637Z",
     "iopub.status.idle": "2021-01-08T21:30:52.817514Z",
     "shell.execute_reply": "2021-01-08T21:30:52.818000Z"
    },
    "papermill": {
     "duration": 0.380391,
     "end_time": "2021-01-08T21:30:52.818156",
     "exception": false,
     "start_time": "2021-01-08T21:30:52.437765",
     "status": "completed"
    },
    "tags": []
   },
   "outputs": [
    {
     "name": "stdout",
     "output_type": "stream",
     "text": [
      "ada_boost_model 82.30337078651685\n"
     ]
    }
   ],
   "source": [
    "\n",
    "ada_boost_model = AdaBoostClassifier(n_estimators=100, random_state=1).fit(X_normalized, t_train)\n",
    "print('ada_boost_model', ada_boost_model.score(X_normalized, t_train).mean()*100)"
   ]
  },
  {
   "cell_type": "markdown",
   "metadata": {
    "papermill": {
     "duration": 0.132075,
     "end_time": "2021-01-08T21:30:53.082231",
     "exception": false,
     "start_time": "2021-01-08T21:30:52.950156",
     "status": "completed"
    },
    "tags": []
   },
   "source": [
    "In our case we can see that **AdaBoosting** performed the best and produced the best score  \n",
    "Now let's present the CV score and loss graphs for AdaBoostClassifier  "
   ]
  },
  {
   "cell_type": "code",
   "execution_count": 66,
   "metadata": {
    "execution": {
     "iopub.execute_input": "2021-01-08T21:30:53.355634Z",
     "iopub.status.busy": "2021-01-08T21:30:53.354874Z",
     "iopub.status.idle": "2021-01-08T21:30:57.759179Z",
     "shell.execute_reply": "2021-01-08T21:30:57.757228Z"
    },
    "papermill": {
     "duration": 4.545734,
     "end_time": "2021-01-08T21:30:57.759420",
     "exception": false,
     "start_time": "2021-01-08T21:30:53.213686",
     "status": "completed"
    },
    "tags": []
   },
   "outputs": [
    {
     "data": {
      "application/vnd.jupyter.widget-view+json": {
       "model_id": "792d39463ec04292b5a269e77e954616",
       "version_major": 2,
       "version_minor": 0
      },
      "text/plain": [
       "HBox(children=(FloatProgress(value=1.0, bar_style='info', description='Calculating Length', layout=Layout(flex…"
      ]
     },
     "metadata": {},
     "output_type": "display_data"
    },
    {
     "name": "stdout",
     "output_type": "stream",
     "text": [
      "\n"
     ]
    },
    {
     "data": {
      "application/vnd.jupyter.widget-view+json": {
       "model_id": "238f4ce22fec41adae66bddb18c341ed",
       "version_major": 2,
       "version_minor": 0
      },
      "text/plain": [
       "HBox(children=(FloatProgress(value=0.0, description='Computing Models', max=10.0, style=ProgressStyle(descript…"
      ]
     },
     "metadata": {},
     "output_type": "display_data"
    },
    {
     "name": "stdout",
     "output_type": "stream",
     "text": [
      "\n"
     ]
    },
    {
     "data": {
      "text/html": [
       "        <script type=\"text/javascript\">\n",
       "        window.PlotlyConfig = {MathJaxConfig: 'local'};\n",
       "        if (window.MathJax) {MathJax.Hub.Config({SVG: {font: \"STIX-Web\"}});}\n",
       "        if (typeof require !== 'undefined') {\n",
       "        require.undef(\"plotly\");\n",
       "        requirejs.config({\n",
       "            paths: {\n",
       "                'plotly': ['https://cdn.plot.ly/plotly-latest.min']\n",
       "            }\n",
       "        });\n",
       "        require(['plotly'], function(Plotly) {\n",
       "            window._Plotly = Plotly;\n",
       "        });\n",
       "        }\n",
       "        </script>\n",
       "        "
      ]
     },
     "metadata": {},
     "output_type": "display_data"
    },
    {
     "data": {
      "text/html": [
       "<div>                            <div id=\"9843bfb2-a88b-4934-b765-2f0c2cab1dfb\" class=\"plotly-graph-div\" style=\"height:525px; width:100%;\"></div>            <script type=\"text/javascript\">                require([\"plotly\"], function(Plotly) {                    window.PLOTLYENV=window.PLOTLYENV || {};                                    if (document.getElementById(\"9843bfb2-a88b-4934-b765-2f0c2cab1dfb\")) {                    Plotly.newPlot(                        \"9843bfb2-a88b-4934-b765-2f0c2cab1dfb\",                        [{\"hovertemplate\": \"split=train<br>fold_id=%{x}<br>score=%{y}<extra></extra>\", \"legendgroup\": \"train\", \"line\": {\"color\": \"#636efa\", \"dash\": \"solid\"}, \"mode\": \"lines\", \"name\": \"train\", \"orientation\": \"v\", \"showlegend\": true, \"type\": \"scatter\", \"x\": [0, 1, 2, 3, 4, 5, 6, 7, 8, 9], \"xaxis\": \"x\", \"y\": [0.812133072407045, 0.83203125, 0.812992125984252, 0.8127413127413128, 0.8027079303675049, 0.825, 0.8178294573643411, 0.8123791102514507, 0.8213592233009709, 0.8073929961089494], \"yaxis\": \"y\"}, {\"hovertemplate\": \"split=val<br>fold_id=%{x}<br>score=%{y}<extra></extra>\", \"legendgroup\": \"val\", \"line\": {\"color\": \"#EF553B\", \"dash\": \"solid\"}, \"mode\": \"lines\", \"name\": \"val\", \"orientation\": \"v\", \"showlegend\": true, \"type\": \"scatter\", \"x\": [0, 1, 2, 3, 4, 5, 6, 7, 8, 9], \"xaxis\": \"x\", \"y\": [0.819672131147541, 0.7, 0.828125, 0.8333333333333334, 0.9090909090909091, 0.7307692307692307, 0.8214285714285714, 0.8363636363636363, 0.8070175438596491, 0.7586206896551724], \"yaxis\": \"y\"}],                        {\"legend\": {\"title\": {\"text\": \"split\"}, \"tracegroupgap\": 0}, \"template\": {\"data\": {\"bar\": [{\"error_x\": {\"color\": \"#2a3f5f\"}, \"error_y\": {\"color\": \"#2a3f5f\"}, \"marker\": {\"line\": {\"color\": \"#E5ECF6\", \"width\": 0.5}}, \"type\": \"bar\"}], \"barpolar\": [{\"marker\": {\"line\": {\"color\": \"#E5ECF6\", \"width\": 0.5}}, \"type\": \"barpolar\"}], \"carpet\": [{\"aaxis\": {\"endlinecolor\": \"#2a3f5f\", \"gridcolor\": \"white\", \"linecolor\": \"white\", \"minorgridcolor\": \"white\", \"startlinecolor\": \"#2a3f5f\"}, \"baxis\": {\"endlinecolor\": \"#2a3f5f\", \"gridcolor\": \"white\", \"linecolor\": \"white\", \"minorgridcolor\": \"white\", \"startlinecolor\": \"#2a3f5f\"}, \"type\": \"carpet\"}], \"choropleth\": [{\"colorbar\": {\"outlinewidth\": 0, \"ticks\": \"\"}, \"type\": \"choropleth\"}], \"contour\": [{\"colorbar\": {\"outlinewidth\": 0, \"ticks\": \"\"}, \"colorscale\": [[0.0, \"#0d0887\"], [0.1111111111111111, \"#46039f\"], [0.2222222222222222, \"#7201a8\"], [0.3333333333333333, \"#9c179e\"], [0.4444444444444444, \"#bd3786\"], [0.5555555555555556, \"#d8576b\"], [0.6666666666666666, \"#ed7953\"], [0.7777777777777778, \"#fb9f3a\"], [0.8888888888888888, \"#fdca26\"], [1.0, \"#f0f921\"]], \"type\": \"contour\"}], \"contourcarpet\": [{\"colorbar\": {\"outlinewidth\": 0, \"ticks\": \"\"}, \"type\": \"contourcarpet\"}], \"heatmap\": [{\"colorbar\": {\"outlinewidth\": 0, \"ticks\": \"\"}, \"colorscale\": [[0.0, \"#0d0887\"], [0.1111111111111111, \"#46039f\"], [0.2222222222222222, \"#7201a8\"], [0.3333333333333333, \"#9c179e\"], [0.4444444444444444, \"#bd3786\"], [0.5555555555555556, \"#d8576b\"], [0.6666666666666666, \"#ed7953\"], [0.7777777777777778, \"#fb9f3a\"], [0.8888888888888888, \"#fdca26\"], [1.0, \"#f0f921\"]], \"type\": \"heatmap\"}], \"heatmapgl\": [{\"colorbar\": {\"outlinewidth\": 0, \"ticks\": \"\"}, \"colorscale\": [[0.0, \"#0d0887\"], [0.1111111111111111, \"#46039f\"], [0.2222222222222222, \"#7201a8\"], [0.3333333333333333, \"#9c179e\"], [0.4444444444444444, \"#bd3786\"], [0.5555555555555556, \"#d8576b\"], [0.6666666666666666, \"#ed7953\"], [0.7777777777777778, \"#fb9f3a\"], [0.8888888888888888, \"#fdca26\"], [1.0, \"#f0f921\"]], \"type\": \"heatmapgl\"}], \"histogram\": [{\"marker\": {\"colorbar\": {\"outlinewidth\": 0, \"ticks\": \"\"}}, \"type\": \"histogram\"}], \"histogram2d\": [{\"colorbar\": {\"outlinewidth\": 0, \"ticks\": \"\"}, \"colorscale\": [[0.0, \"#0d0887\"], [0.1111111111111111, \"#46039f\"], [0.2222222222222222, \"#7201a8\"], [0.3333333333333333, \"#9c179e\"], [0.4444444444444444, \"#bd3786\"], [0.5555555555555556, \"#d8576b\"], [0.6666666666666666, \"#ed7953\"], [0.7777777777777778, \"#fb9f3a\"], [0.8888888888888888, \"#fdca26\"], [1.0, \"#f0f921\"]], \"type\": \"histogram2d\"}], \"histogram2dcontour\": [{\"colorbar\": {\"outlinewidth\": 0, \"ticks\": \"\"}, \"colorscale\": [[0.0, \"#0d0887\"], [0.1111111111111111, \"#46039f\"], [0.2222222222222222, \"#7201a8\"], [0.3333333333333333, \"#9c179e\"], [0.4444444444444444, \"#bd3786\"], [0.5555555555555556, \"#d8576b\"], [0.6666666666666666, \"#ed7953\"], [0.7777777777777778, \"#fb9f3a\"], [0.8888888888888888, \"#fdca26\"], [1.0, \"#f0f921\"]], \"type\": \"histogram2dcontour\"}], \"mesh3d\": [{\"colorbar\": {\"outlinewidth\": 0, \"ticks\": \"\"}, \"type\": \"mesh3d\"}], \"parcoords\": [{\"line\": {\"colorbar\": {\"outlinewidth\": 0, \"ticks\": \"\"}}, \"type\": \"parcoords\"}], \"pie\": [{\"automargin\": true, \"type\": \"pie\"}], \"scatter\": [{\"marker\": {\"colorbar\": {\"outlinewidth\": 0, \"ticks\": \"\"}}, \"type\": \"scatter\"}], \"scatter3d\": [{\"line\": {\"colorbar\": {\"outlinewidth\": 0, \"ticks\": \"\"}}, \"marker\": {\"colorbar\": {\"outlinewidth\": 0, \"ticks\": \"\"}}, \"type\": \"scatter3d\"}], \"scattercarpet\": [{\"marker\": {\"colorbar\": {\"outlinewidth\": 0, \"ticks\": \"\"}}, \"type\": \"scattercarpet\"}], \"scattergeo\": [{\"marker\": {\"colorbar\": {\"outlinewidth\": 0, \"ticks\": \"\"}}, \"type\": \"scattergeo\"}], \"scattergl\": [{\"marker\": {\"colorbar\": {\"outlinewidth\": 0, \"ticks\": \"\"}}, \"type\": \"scattergl\"}], \"scattermapbox\": [{\"marker\": {\"colorbar\": {\"outlinewidth\": 0, \"ticks\": \"\"}}, \"type\": \"scattermapbox\"}], \"scatterpolar\": [{\"marker\": {\"colorbar\": {\"outlinewidth\": 0, \"ticks\": \"\"}}, \"type\": \"scatterpolar\"}], \"scatterpolargl\": [{\"marker\": {\"colorbar\": {\"outlinewidth\": 0, \"ticks\": \"\"}}, \"type\": \"scatterpolargl\"}], \"scatterternary\": [{\"marker\": {\"colorbar\": {\"outlinewidth\": 0, \"ticks\": \"\"}}, \"type\": \"scatterternary\"}], \"surface\": [{\"colorbar\": {\"outlinewidth\": 0, \"ticks\": \"\"}, \"colorscale\": [[0.0, \"#0d0887\"], [0.1111111111111111, \"#46039f\"], [0.2222222222222222, \"#7201a8\"], [0.3333333333333333, \"#9c179e\"], [0.4444444444444444, \"#bd3786\"], [0.5555555555555556, \"#d8576b\"], [0.6666666666666666, \"#ed7953\"], [0.7777777777777778, \"#fb9f3a\"], [0.8888888888888888, \"#fdca26\"], [1.0, \"#f0f921\"]], \"type\": \"surface\"}], \"table\": [{\"cells\": {\"fill\": {\"color\": \"#EBF0F8\"}, \"line\": {\"color\": \"white\"}}, \"header\": {\"fill\": {\"color\": \"#C8D4E3\"}, \"line\": {\"color\": \"white\"}}, \"type\": \"table\"}]}, \"layout\": {\"annotationdefaults\": {\"arrowcolor\": \"#2a3f5f\", \"arrowhead\": 0, \"arrowwidth\": 1}, \"coloraxis\": {\"colorbar\": {\"outlinewidth\": 0, \"ticks\": \"\"}}, \"colorscale\": {\"diverging\": [[0, \"#8e0152\"], [0.1, \"#c51b7d\"], [0.2, \"#de77ae\"], [0.3, \"#f1b6da\"], [0.4, \"#fde0ef\"], [0.5, \"#f7f7f7\"], [0.6, \"#e6f5d0\"], [0.7, \"#b8e186\"], [0.8, \"#7fbc41\"], [0.9, \"#4d9221\"], [1, \"#276419\"]], \"sequential\": [[0.0, \"#0d0887\"], [0.1111111111111111, \"#46039f\"], [0.2222222222222222, \"#7201a8\"], [0.3333333333333333, \"#9c179e\"], [0.4444444444444444, \"#bd3786\"], [0.5555555555555556, \"#d8576b\"], [0.6666666666666666, \"#ed7953\"], [0.7777777777777778, \"#fb9f3a\"], [0.8888888888888888, \"#fdca26\"], [1.0, \"#f0f921\"]], \"sequentialminus\": [[0.0, \"#0d0887\"], [0.1111111111111111, \"#46039f\"], [0.2222222222222222, \"#7201a8\"], [0.3333333333333333, \"#9c179e\"], [0.4444444444444444, \"#bd3786\"], [0.5555555555555556, \"#d8576b\"], [0.6666666666666666, \"#ed7953\"], [0.7777777777777778, \"#fb9f3a\"], [0.8888888888888888, \"#fdca26\"], [1.0, \"#f0f921\"]]}, \"colorway\": [\"#636efa\", \"#EF553B\", \"#00cc96\", \"#ab63fa\", \"#FFA15A\", \"#19d3f3\", \"#FF6692\", \"#B6E880\", \"#FF97FF\", \"#FECB52\"], \"font\": {\"color\": \"#2a3f5f\"}, \"geo\": {\"bgcolor\": \"white\", \"lakecolor\": \"white\", \"landcolor\": \"#E5ECF6\", \"showlakes\": true, \"showland\": true, \"subunitcolor\": \"white\"}, \"hoverlabel\": {\"align\": \"left\"}, \"hovermode\": \"closest\", \"mapbox\": {\"style\": \"light\"}, \"paper_bgcolor\": \"white\", \"plot_bgcolor\": \"#E5ECF6\", \"polar\": {\"angularaxis\": {\"gridcolor\": \"white\", \"linecolor\": \"white\", \"ticks\": \"\"}, \"bgcolor\": \"#E5ECF6\", \"radialaxis\": {\"gridcolor\": \"white\", \"linecolor\": \"white\", \"ticks\": \"\"}}, \"scene\": {\"xaxis\": {\"backgroundcolor\": \"#E5ECF6\", \"gridcolor\": \"white\", \"gridwidth\": 2, \"linecolor\": \"white\", \"showbackground\": true, \"ticks\": \"\", \"zerolinecolor\": \"white\"}, \"yaxis\": {\"backgroundcolor\": \"#E5ECF6\", \"gridcolor\": \"white\", \"gridwidth\": 2, \"linecolor\": \"white\", \"showbackground\": true, \"ticks\": \"\", \"zerolinecolor\": \"white\"}, \"zaxis\": {\"backgroundcolor\": \"#E5ECF6\", \"gridcolor\": \"white\", \"gridwidth\": 2, \"linecolor\": \"white\", \"showbackground\": true, \"ticks\": \"\", \"zerolinecolor\": \"white\"}}, \"shapedefaults\": {\"line\": {\"color\": \"#2a3f5f\"}}, \"ternary\": {\"aaxis\": {\"gridcolor\": \"white\", \"linecolor\": \"white\", \"ticks\": \"\"}, \"baxis\": {\"gridcolor\": \"white\", \"linecolor\": \"white\", \"ticks\": \"\"}, \"bgcolor\": \"#E5ECF6\", \"caxis\": {\"gridcolor\": \"white\", \"linecolor\": \"white\", \"ticks\": \"\"}}, \"title\": {\"x\": 0.05}, \"xaxis\": {\"automargin\": true, \"gridcolor\": \"white\", \"linecolor\": \"white\", \"ticks\": \"\", \"title\": {\"standoff\": 15}, \"zerolinecolor\": \"white\", \"zerolinewidth\": 2}, \"yaxis\": {\"automargin\": true, \"gridcolor\": \"white\", \"linecolor\": \"white\", \"ticks\": \"\", \"title\": {\"standoff\": 15}, \"zerolinecolor\": \"white\", \"zerolinewidth\": 2}}}, \"title\": {\"text\": \"Mean Val Score: 0.80, Mean Train Score: 0.82\"}, \"xaxis\": {\"anchor\": \"y\", \"domain\": [0.0, 1.0], \"title\": {\"text\": \"fold_id\"}}, \"yaxis\": {\"anchor\": \"x\", \"domain\": [0.0, 1.0], \"title\": {\"text\": \"score\"}}},                        {\"responsive\": true}                    ).then(function(){\n",
       "                            \n",
       "var gd = document.getElementById('9843bfb2-a88b-4934-b765-2f0c2cab1dfb');\n",
       "var x = new MutationObserver(function (mutations, observer) {{\n",
       "        var display = window.getComputedStyle(gd).display;\n",
       "        if (!display || display === 'none') {{\n",
       "            console.log([gd, 'removed!']);\n",
       "            Plotly.purge(gd);\n",
       "            observer.disconnect();\n",
       "        }}\n",
       "}});\n",
       "\n",
       "// Listen for the removal of the full notebook cells\n",
       "var notebookContainer = gd.closest('#notebook-container');\n",
       "if (notebookContainer) {{\n",
       "    x.observe(notebookContainer, {childList: true});\n",
       "}}\n",
       "\n",
       "// Listen for the clearing of the current output cell\n",
       "var outputEl = gd.closest('.output');\n",
       "if (outputEl) {{\n",
       "    x.observe(outputEl, {childList: true});\n",
       "}}\n",
       "\n",
       "                        })                };                });            </script>        </div>"
      ]
     },
     "metadata": {},
     "output_type": "display_data"
    },
    {
     "data": {
      "text/html": [
       "<div>                            <div id=\"f8f0b89e-0db8-4007-bc45-7923563ce186\" class=\"plotly-graph-div\" style=\"height:525px; width:100%;\"></div>            <script type=\"text/javascript\">                require([\"plotly\"], function(Plotly) {                    window.PLOTLYENV=window.PLOTLYENV || {};                                    if (document.getElementById(\"f8f0b89e-0db8-4007-bc45-7923563ce186\")) {                    Plotly.newPlot(                        \"f8f0b89e-0db8-4007-bc45-7923563ce186\",                        [{\"hovertemplate\": \"split=train<br>fold_id=%{x}<br>loss=%{y}<extra></extra>\", \"legendgroup\": \"train\", \"line\": {\"color\": \"#636efa\", \"dash\": \"solid\"}, \"mode\": \"lines\", \"name\": \"train\", \"orientation\": \"v\", \"showlegend\": true, \"type\": \"scatter\", \"x\": [0, 1, 2, 3, 4, 5, 6, 7, 8, 9], \"xaxis\": \"x\", \"y\": [0.18786692759295498, 0.16796875, 0.18700787401574803, 0.18725868725868725, 0.19729206963249515, 0.175, 0.1821705426356589, 0.18762088974854932, 0.1786407766990291, 0.1926070038910506], \"yaxis\": \"y\"}, {\"hovertemplate\": \"split=val<br>fold_id=%{x}<br>loss=%{y}<extra></extra>\", \"legendgroup\": \"val\", \"line\": {\"color\": \"#EF553B\", \"dash\": \"solid\"}, \"mode\": \"lines\", \"name\": \"val\", \"orientation\": \"v\", \"showlegend\": true, \"type\": \"scatter\", \"x\": [0, 1, 2, 3, 4, 5, 6, 7, 8, 9], \"xaxis\": \"x\", \"y\": [0.18032786885245902, 0.3, 0.171875, 0.16666666666666666, 0.09090909090909091, 0.2692307692307692, 0.17857142857142858, 0.16363636363636364, 0.19298245614035087, 0.2413793103448276], \"yaxis\": \"y\"}],                        {\"legend\": {\"title\": {\"text\": \"split\"}, \"tracegroupgap\": 0}, \"template\": {\"data\": {\"bar\": [{\"error_x\": {\"color\": \"#2a3f5f\"}, \"error_y\": {\"color\": \"#2a3f5f\"}, \"marker\": {\"line\": {\"color\": \"#E5ECF6\", \"width\": 0.5}}, \"type\": \"bar\"}], \"barpolar\": [{\"marker\": {\"line\": {\"color\": \"#E5ECF6\", \"width\": 0.5}}, \"type\": \"barpolar\"}], \"carpet\": [{\"aaxis\": {\"endlinecolor\": \"#2a3f5f\", \"gridcolor\": \"white\", \"linecolor\": \"white\", \"minorgridcolor\": \"white\", \"startlinecolor\": \"#2a3f5f\"}, \"baxis\": {\"endlinecolor\": \"#2a3f5f\", \"gridcolor\": \"white\", \"linecolor\": \"white\", \"minorgridcolor\": \"white\", \"startlinecolor\": \"#2a3f5f\"}, \"type\": \"carpet\"}], \"choropleth\": [{\"colorbar\": {\"outlinewidth\": 0, \"ticks\": \"\"}, \"type\": \"choropleth\"}], \"contour\": [{\"colorbar\": {\"outlinewidth\": 0, \"ticks\": \"\"}, \"colorscale\": [[0.0, \"#0d0887\"], [0.1111111111111111, \"#46039f\"], [0.2222222222222222, \"#7201a8\"], [0.3333333333333333, \"#9c179e\"], [0.4444444444444444, \"#bd3786\"], [0.5555555555555556, \"#d8576b\"], [0.6666666666666666, \"#ed7953\"], [0.7777777777777778, \"#fb9f3a\"], [0.8888888888888888, \"#fdca26\"], [1.0, \"#f0f921\"]], \"type\": \"contour\"}], \"contourcarpet\": [{\"colorbar\": {\"outlinewidth\": 0, \"ticks\": \"\"}, \"type\": \"contourcarpet\"}], \"heatmap\": [{\"colorbar\": {\"outlinewidth\": 0, \"ticks\": \"\"}, \"colorscale\": [[0.0, \"#0d0887\"], [0.1111111111111111, \"#46039f\"], [0.2222222222222222, \"#7201a8\"], [0.3333333333333333, \"#9c179e\"], [0.4444444444444444, \"#bd3786\"], [0.5555555555555556, \"#d8576b\"], [0.6666666666666666, \"#ed7953\"], [0.7777777777777778, \"#fb9f3a\"], [0.8888888888888888, \"#fdca26\"], [1.0, \"#f0f921\"]], \"type\": \"heatmap\"}], \"heatmapgl\": [{\"colorbar\": {\"outlinewidth\": 0, \"ticks\": \"\"}, \"colorscale\": [[0.0, \"#0d0887\"], [0.1111111111111111, \"#46039f\"], [0.2222222222222222, \"#7201a8\"], [0.3333333333333333, \"#9c179e\"], [0.4444444444444444, \"#bd3786\"], [0.5555555555555556, \"#d8576b\"], [0.6666666666666666, \"#ed7953\"], [0.7777777777777778, \"#fb9f3a\"], [0.8888888888888888, \"#fdca26\"], [1.0, \"#f0f921\"]], \"type\": \"heatmapgl\"}], \"histogram\": [{\"marker\": {\"colorbar\": {\"outlinewidth\": 0, \"ticks\": \"\"}}, \"type\": \"histogram\"}], \"histogram2d\": [{\"colorbar\": {\"outlinewidth\": 0, \"ticks\": \"\"}, \"colorscale\": [[0.0, \"#0d0887\"], [0.1111111111111111, \"#46039f\"], [0.2222222222222222, \"#7201a8\"], [0.3333333333333333, \"#9c179e\"], [0.4444444444444444, \"#bd3786\"], [0.5555555555555556, \"#d8576b\"], [0.6666666666666666, \"#ed7953\"], [0.7777777777777778, \"#fb9f3a\"], [0.8888888888888888, \"#fdca26\"], [1.0, \"#f0f921\"]], \"type\": \"histogram2d\"}], \"histogram2dcontour\": [{\"colorbar\": {\"outlinewidth\": 0, \"ticks\": \"\"}, \"colorscale\": [[0.0, \"#0d0887\"], [0.1111111111111111, \"#46039f\"], [0.2222222222222222, \"#7201a8\"], [0.3333333333333333, \"#9c179e\"], [0.4444444444444444, \"#bd3786\"], [0.5555555555555556, \"#d8576b\"], [0.6666666666666666, \"#ed7953\"], [0.7777777777777778, \"#fb9f3a\"], [0.8888888888888888, \"#fdca26\"], [1.0, \"#f0f921\"]], \"type\": \"histogram2dcontour\"}], \"mesh3d\": [{\"colorbar\": {\"outlinewidth\": 0, \"ticks\": \"\"}, \"type\": \"mesh3d\"}], \"parcoords\": [{\"line\": {\"colorbar\": {\"outlinewidth\": 0, \"ticks\": \"\"}}, \"type\": \"parcoords\"}], \"pie\": [{\"automargin\": true, \"type\": \"pie\"}], \"scatter\": [{\"marker\": {\"colorbar\": {\"outlinewidth\": 0, \"ticks\": \"\"}}, \"type\": \"scatter\"}], \"scatter3d\": [{\"line\": {\"colorbar\": {\"outlinewidth\": 0, \"ticks\": \"\"}}, \"marker\": {\"colorbar\": {\"outlinewidth\": 0, \"ticks\": \"\"}}, \"type\": \"scatter3d\"}], \"scattercarpet\": [{\"marker\": {\"colorbar\": {\"outlinewidth\": 0, \"ticks\": \"\"}}, \"type\": \"scattercarpet\"}], \"scattergeo\": [{\"marker\": {\"colorbar\": {\"outlinewidth\": 0, \"ticks\": \"\"}}, \"type\": \"scattergeo\"}], \"scattergl\": [{\"marker\": {\"colorbar\": {\"outlinewidth\": 0, \"ticks\": \"\"}}, \"type\": \"scattergl\"}], \"scattermapbox\": [{\"marker\": {\"colorbar\": {\"outlinewidth\": 0, \"ticks\": \"\"}}, \"type\": \"scattermapbox\"}], \"scatterpolar\": [{\"marker\": {\"colorbar\": {\"outlinewidth\": 0, \"ticks\": \"\"}}, \"type\": \"scatterpolar\"}], \"scatterpolargl\": [{\"marker\": {\"colorbar\": {\"outlinewidth\": 0, \"ticks\": \"\"}}, \"type\": \"scatterpolargl\"}], \"scatterternary\": [{\"marker\": {\"colorbar\": {\"outlinewidth\": 0, \"ticks\": \"\"}}, \"type\": \"scatterternary\"}], \"surface\": [{\"colorbar\": {\"outlinewidth\": 0, \"ticks\": \"\"}, \"colorscale\": [[0.0, \"#0d0887\"], [0.1111111111111111, \"#46039f\"], [0.2222222222222222, \"#7201a8\"], [0.3333333333333333, \"#9c179e\"], [0.4444444444444444, \"#bd3786\"], [0.5555555555555556, \"#d8576b\"], [0.6666666666666666, \"#ed7953\"], [0.7777777777777778, \"#fb9f3a\"], [0.8888888888888888, \"#fdca26\"], [1.0, \"#f0f921\"]], \"type\": \"surface\"}], \"table\": [{\"cells\": {\"fill\": {\"color\": \"#EBF0F8\"}, \"line\": {\"color\": \"white\"}}, \"header\": {\"fill\": {\"color\": \"#C8D4E3\"}, \"line\": {\"color\": \"white\"}}, \"type\": \"table\"}]}, \"layout\": {\"annotationdefaults\": {\"arrowcolor\": \"#2a3f5f\", \"arrowhead\": 0, \"arrowwidth\": 1}, \"coloraxis\": {\"colorbar\": {\"outlinewidth\": 0, \"ticks\": \"\"}}, \"colorscale\": {\"diverging\": [[0, \"#8e0152\"], [0.1, \"#c51b7d\"], [0.2, \"#de77ae\"], [0.3, \"#f1b6da\"], [0.4, \"#fde0ef\"], [0.5, \"#f7f7f7\"], [0.6, \"#e6f5d0\"], [0.7, \"#b8e186\"], [0.8, \"#7fbc41\"], [0.9, \"#4d9221\"], [1, \"#276419\"]], \"sequential\": [[0.0, \"#0d0887\"], [0.1111111111111111, \"#46039f\"], [0.2222222222222222, \"#7201a8\"], [0.3333333333333333, \"#9c179e\"], [0.4444444444444444, \"#bd3786\"], [0.5555555555555556, \"#d8576b\"], [0.6666666666666666, \"#ed7953\"], [0.7777777777777778, \"#fb9f3a\"], [0.8888888888888888, \"#fdca26\"], [1.0, \"#f0f921\"]], \"sequentialminus\": [[0.0, \"#0d0887\"], [0.1111111111111111, \"#46039f\"], [0.2222222222222222, \"#7201a8\"], [0.3333333333333333, \"#9c179e\"], [0.4444444444444444, \"#bd3786\"], [0.5555555555555556, \"#d8576b\"], [0.6666666666666666, \"#ed7953\"], [0.7777777777777778, \"#fb9f3a\"], [0.8888888888888888, \"#fdca26\"], [1.0, \"#f0f921\"]]}, \"colorway\": [\"#636efa\", \"#EF553B\", \"#00cc96\", \"#ab63fa\", \"#FFA15A\", \"#19d3f3\", \"#FF6692\", \"#B6E880\", \"#FF97FF\", \"#FECB52\"], \"font\": {\"color\": \"#2a3f5f\"}, \"geo\": {\"bgcolor\": \"white\", \"lakecolor\": \"white\", \"landcolor\": \"#E5ECF6\", \"showlakes\": true, \"showland\": true, \"subunitcolor\": \"white\"}, \"hoverlabel\": {\"align\": \"left\"}, \"hovermode\": \"closest\", \"mapbox\": {\"style\": \"light\"}, \"paper_bgcolor\": \"white\", \"plot_bgcolor\": \"#E5ECF6\", \"polar\": {\"angularaxis\": {\"gridcolor\": \"white\", \"linecolor\": \"white\", \"ticks\": \"\"}, \"bgcolor\": \"#E5ECF6\", \"radialaxis\": {\"gridcolor\": \"white\", \"linecolor\": \"white\", \"ticks\": \"\"}}, \"scene\": {\"xaxis\": {\"backgroundcolor\": \"#E5ECF6\", \"gridcolor\": \"white\", \"gridwidth\": 2, \"linecolor\": \"white\", \"showbackground\": true, \"ticks\": \"\", \"zerolinecolor\": \"white\"}, \"yaxis\": {\"backgroundcolor\": \"#E5ECF6\", \"gridcolor\": \"white\", \"gridwidth\": 2, \"linecolor\": \"white\", \"showbackground\": true, \"ticks\": \"\", \"zerolinecolor\": \"white\"}, \"zaxis\": {\"backgroundcolor\": \"#E5ECF6\", \"gridcolor\": \"white\", \"gridwidth\": 2, \"linecolor\": \"white\", \"showbackground\": true, \"ticks\": \"\", \"zerolinecolor\": \"white\"}}, \"shapedefaults\": {\"line\": {\"color\": \"#2a3f5f\"}}, \"ternary\": {\"aaxis\": {\"gridcolor\": \"white\", \"linecolor\": \"white\", \"ticks\": \"\"}, \"baxis\": {\"gridcolor\": \"white\", \"linecolor\": \"white\", \"ticks\": \"\"}, \"bgcolor\": \"#E5ECF6\", \"caxis\": {\"gridcolor\": \"white\", \"linecolor\": \"white\", \"ticks\": \"\"}}, \"title\": {\"x\": 0.05}, \"xaxis\": {\"automargin\": true, \"gridcolor\": \"white\", \"linecolor\": \"white\", \"ticks\": \"\", \"title\": {\"standoff\": 15}, \"zerolinecolor\": \"white\", \"zerolinewidth\": 2}, \"yaxis\": {\"automargin\": true, \"gridcolor\": \"white\", \"linecolor\": \"white\", \"ticks\": \"\", \"title\": {\"standoff\": 15}, \"zerolinecolor\": \"white\", \"zerolinewidth\": 2}}}, \"title\": {\"text\": \"Mean Val Loss: 0.20, Mean Train Loss: 0.18\"}, \"xaxis\": {\"anchor\": \"y\", \"domain\": [0.0, 1.0], \"title\": {\"text\": \"fold_id\"}}, \"yaxis\": {\"anchor\": \"x\", \"domain\": [0.0, 1.0], \"title\": {\"text\": \"loss\"}}},                        {\"responsive\": true}                    ).then(function(){\n",
       "                            \n",
       "var gd = document.getElementById('f8f0b89e-0db8-4007-bc45-7923563ce186');\n",
       "var x = new MutationObserver(function (mutations, observer) {{\n",
       "        var display = window.getComputedStyle(gd).display;\n",
       "        if (!display || display === 'none') {{\n",
       "            console.log([gd, 'removed!']);\n",
       "            Plotly.purge(gd);\n",
       "            observer.disconnect();\n",
       "        }}\n",
       "}});\n",
       "\n",
       "// Listen for the removal of the full notebook cells\n",
       "var notebookContainer = gd.closest('#notebook-container');\n",
       "if (notebookContainer) {{\n",
       "    x.observe(notebookContainer, {childList: true});\n",
       "}}\n",
       "\n",
       "// Listen for the clearing of the current output cell\n",
       "var outputEl = gd.closest('.output');\n",
       "if (outputEl) {{\n",
       "    x.observe(outputEl, {childList: true});\n",
       "}}\n",
       "\n",
       "                        })                };                });            </script>        </div>"
      ]
     },
     "metadata": {},
     "output_type": "display_data"
    },
    {
     "name": "stdout",
     "output_type": "stream",
     "text": [
      "mean cv val score: 0.80\n",
      "mean cv val loss 0.20\n",
      "mean cv val score: 0.82\n",
      "mean cv val loss 0.18\n"
     ]
    }
   ],
   "source": [
    "val_score, val_loss, train_score, train_loss = get_cv_score_and_loss(X_train, t_train, ada_boost_model, k=10, show_score_loss_graphs=True)\n",
    "print(f'mean cv val score: {val_score:.2f}\\nmean cv val loss {val_loss:.2f}')\n",
    "print(f'mean cv val score: {train_score:.2f}\\nmean cv val loss {train_loss:.2f}')"
   ]
  },
  {
   "cell_type": "markdown",
   "metadata": {
    "papermill": {
     "duration": 0.137903,
     "end_time": "2021-01-08T21:30:58.036112",
     "exception": false,
     "start_time": "2021-01-08T21:30:57.898209",
     "status": "completed"
    },
    "tags": []
   },
   "source": [
    "**PCA**"
   ]
  },
  {
   "cell_type": "code",
   "execution_count": 67,
   "metadata": {
    "execution": {
     "iopub.execute_input": "2021-01-08T21:30:58.334754Z",
     "iopub.status.busy": "2021-01-08T21:30:58.324463Z",
     "iopub.status.idle": "2021-01-08T21:30:58.405416Z",
     "shell.execute_reply": "2021-01-08T21:30:58.406052Z"
    },
    "papermill": {
     "duration": 0.230046,
     "end_time": "2021-01-08T21:30:58.406247",
     "exception": false,
     "start_time": "2021-01-08T21:30:58.176201",
     "status": "completed"
    },
    "tags": []
   },
   "outputs": [
    {
     "data": {
      "text/html": [
       "<div>\n",
       "<style scoped>\n",
       "    .dataframe tbody tr th:only-of-type {\n",
       "        vertical-align: middle;\n",
       "    }\n",
       "\n",
       "    .dataframe tbody tr th {\n",
       "        vertical-align: top;\n",
       "    }\n",
       "\n",
       "    .dataframe thead th {\n",
       "        text-align: right;\n",
       "    }\n",
       "</style>\n",
       "<table border=\"1\" class=\"dataframe\">\n",
       "  <thead>\n",
       "    <tr style=\"text-align: right;\">\n",
       "      <th></th>\n",
       "      <th>pc1</th>\n",
       "      <th>pc2</th>\n",
       "    </tr>\n",
       "  </thead>\n",
       "  <tbody>\n",
       "    <tr>\n",
       "      <th>0</th>\n",
       "      <td>-1.530830</td>\n",
       "      <td>-0.723478</td>\n",
       "    </tr>\n",
       "    <tr>\n",
       "      <th>1</th>\n",
       "      <td>-2.020821</td>\n",
       "      <td>1.101158</td>\n",
       "    </tr>\n",
       "    <tr>\n",
       "      <th>2</th>\n",
       "      <td>-1.542252</td>\n",
       "      <td>-0.605420</td>\n",
       "    </tr>\n",
       "    <tr>\n",
       "      <th>3</th>\n",
       "      <td>-2.022881</td>\n",
       "      <td>1.107402</td>\n",
       "    </tr>\n",
       "    <tr>\n",
       "      <th>4</th>\n",
       "      <td>1.604042</td>\n",
       "      <td>-1.039730</td>\n",
       "    </tr>\n",
       "    <tr>\n",
       "      <th>...</th>\n",
       "      <td>...</td>\n",
       "      <td>...</td>\n",
       "    </tr>\n",
       "    <tr>\n",
       "      <th>886</th>\n",
       "      <td>-2.450183</td>\n",
       "      <td>-0.027479</td>\n",
       "    </tr>\n",
       "    <tr>\n",
       "      <th>887</th>\n",
       "      <td>-3.346806</td>\n",
       "      <td>0.518207</td>\n",
       "    </tr>\n",
       "    <tr>\n",
       "      <th>888</th>\n",
       "      <td>-1.546261</td>\n",
       "      <td>-0.514859</td>\n",
       "    </tr>\n",
       "    <tr>\n",
       "      <th>889</th>\n",
       "      <td>-3.337666</td>\n",
       "      <td>0.485943</td>\n",
       "    </tr>\n",
       "    <tr>\n",
       "      <th>890</th>\n",
       "      <td>-1.524132</td>\n",
       "      <td>-0.746055</td>\n",
       "    </tr>\n",
       "  </tbody>\n",
       "</table>\n",
       "<p>891 rows × 2 columns</p>\n",
       "</div>"
      ],
      "text/plain": [
       "          pc1       pc2\n",
       "0   -1.530830 -0.723478\n",
       "1   -2.020821  1.101158\n",
       "2   -1.542252 -0.605420\n",
       "3   -2.022881  1.107402\n",
       "4    1.604042 -1.039730\n",
       "..        ...       ...\n",
       "886 -2.450183 -0.027479\n",
       "887 -3.346806  0.518207\n",
       "888 -1.546261 -0.514859\n",
       "889 -3.337666  0.485943\n",
       "890 -1.524132 -0.746055\n",
       "\n",
       "[891 rows x 2 columns]"
      ]
     },
     "execution_count": 67,
     "metadata": {},
     "output_type": "execute_result"
    }
   ],
   "source": [
    "pca = PCA(n_components=2).fit(train_df_cp)\n",
    "pca_train_df = pd.DataFrame(pca.transform(train_df_cp), columns=['pc1', 'pc2'])\n",
    "pca_train_df"
   ]
  },
  {
   "cell_type": "markdown",
   "metadata": {
    "papermill": {
     "duration": 0.177897,
     "end_time": "2021-01-08T21:30:58.726431",
     "exception": false,
     "start_time": "2021-01-08T21:30:58.548534",
     "status": "completed"
    },
    "tags": []
   },
   "source": [
    "**Feature Selection**"
   ]
  },
  {
   "cell_type": "code",
   "execution_count": 68,
   "metadata": {
    "execution": {
     "iopub.execute_input": "2021-01-08T21:30:59.005542Z",
     "iopub.status.busy": "2021-01-08T21:30:59.004491Z",
     "iopub.status.idle": "2021-01-08T21:31:02.388354Z",
     "shell.execute_reply": "2021-01-08T21:31:02.388905Z"
    },
    "papermill": {
     "duration": 3.525108,
     "end_time": "2021-01-08T21:31:02.389071",
     "exception": false,
     "start_time": "2021-01-08T21:30:58.863963",
     "status": "completed"
    },
    "tags": []
   },
   "outputs": [
    {
     "data": {
      "text/html": [
       "<div>\n",
       "<style scoped>\n",
       "    .dataframe tbody tr th:only-of-type {\n",
       "        vertical-align: middle;\n",
       "    }\n",
       "\n",
       "    .dataframe tbody tr th {\n",
       "        vertical-align: top;\n",
       "    }\n",
       "\n",
       "    .dataframe thead th {\n",
       "        text-align: right;\n",
       "    }\n",
       "</style>\n",
       "<table border=\"1\" class=\"dataframe\">\n",
       "  <thead>\n",
       "    <tr style=\"text-align: right;\">\n",
       "      <th></th>\n",
       "      <th>Pclass</th>\n",
       "      <th>Sex</th>\n",
       "      <th>Age</th>\n",
       "      <th>Title</th>\n",
       "      <th>Age_X_class</th>\n",
       "    </tr>\n",
       "  </thead>\n",
       "  <tbody>\n",
       "    <tr>\n",
       "      <th>0</th>\n",
       "      <td>3</td>\n",
       "      <td>0</td>\n",
       "      <td>1</td>\n",
       "      <td>1</td>\n",
       "      <td>3</td>\n",
       "    </tr>\n",
       "    <tr>\n",
       "      <th>1</th>\n",
       "      <td>1</td>\n",
       "      <td>1</td>\n",
       "      <td>2</td>\n",
       "      <td>3</td>\n",
       "      <td>2</td>\n",
       "    </tr>\n",
       "    <tr>\n",
       "      <th>2</th>\n",
       "      <td>3</td>\n",
       "      <td>1</td>\n",
       "      <td>1</td>\n",
       "      <td>2</td>\n",
       "      <td>3</td>\n",
       "    </tr>\n",
       "    <tr>\n",
       "      <th>3</th>\n",
       "      <td>1</td>\n",
       "      <td>1</td>\n",
       "      <td>2</td>\n",
       "      <td>3</td>\n",
       "      <td>2</td>\n",
       "    </tr>\n",
       "    <tr>\n",
       "      <th>4</th>\n",
       "      <td>3</td>\n",
       "      <td>0</td>\n",
       "      <td>2</td>\n",
       "      <td>1</td>\n",
       "      <td>6</td>\n",
       "    </tr>\n",
       "    <tr>\n",
       "      <th>...</th>\n",
       "      <td>...</td>\n",
       "      <td>...</td>\n",
       "      <td>...</td>\n",
       "      <td>...</td>\n",
       "      <td>...</td>\n",
       "    </tr>\n",
       "    <tr>\n",
       "      <th>886</th>\n",
       "      <td>2</td>\n",
       "      <td>0</td>\n",
       "      <td>1</td>\n",
       "      <td>5</td>\n",
       "      <td>2</td>\n",
       "    </tr>\n",
       "    <tr>\n",
       "      <th>887</th>\n",
       "      <td>1</td>\n",
       "      <td>1</td>\n",
       "      <td>1</td>\n",
       "      <td>2</td>\n",
       "      <td>1</td>\n",
       "    </tr>\n",
       "    <tr>\n",
       "      <th>888</th>\n",
       "      <td>3</td>\n",
       "      <td>1</td>\n",
       "      <td>1</td>\n",
       "      <td>2</td>\n",
       "      <td>3</td>\n",
       "    </tr>\n",
       "    <tr>\n",
       "      <th>889</th>\n",
       "      <td>1</td>\n",
       "      <td>0</td>\n",
       "      <td>1</td>\n",
       "      <td>1</td>\n",
       "      <td>1</td>\n",
       "    </tr>\n",
       "    <tr>\n",
       "      <th>890</th>\n",
       "      <td>3</td>\n",
       "      <td>0</td>\n",
       "      <td>1</td>\n",
       "      <td>1</td>\n",
       "      <td>3</td>\n",
       "    </tr>\n",
       "  </tbody>\n",
       "</table>\n",
       "<p>891 rows × 5 columns</p>\n",
       "</div>"
      ],
      "text/plain": [
       "     Pclass  Sex  Age  Title  Age_X_class\n",
       "0         3    0    1      1            3\n",
       "1         1    1    2      3            2\n",
       "2         3    1    1      2            3\n",
       "3         1    1    2      3            2\n",
       "4         3    0    2      1            6\n",
       "..      ...  ...  ...    ...          ...\n",
       "886       2    0    1      5            2\n",
       "887       1    1    1      2            1\n",
       "888       3    1    1      2            3\n",
       "889       1    0    1      1            1\n",
       "890       3    0    1      1            3\n",
       "\n",
       "[891 rows x 5 columns]"
      ]
     },
     "metadata": {},
     "output_type": "display_data"
    }
   ],
   "source": [
    "# use feature selection on the data\n",
    "selector = RFECV(SGDClassifier(random_state=1), cv=RepeatedKFold(n_splits=10, n_repeats=10, random_state=1)).fit(X_normalized, t_train)\n",
    "display(X.loc[:, selector.support_])"
   ]
  },
  {
   "cell_type": "markdown",
   "metadata": {
    "papermill": {
     "duration": 0.138807,
     "end_time": "2021-01-08T21:31:02.668771",
     "exception": false,
     "start_time": "2021-01-08T21:31:02.529964",
     "status": "completed"
    },
    "tags": []
   },
   "source": [
    "# NBC"
   ]
  },
  {
   "cell_type": "code",
   "execution_count": 69,
   "metadata": {
    "execution": {
     "iopub.execute_input": "2021-01-08T21:31:02.950510Z",
     "iopub.status.busy": "2021-01-08T21:31:02.949741Z",
     "iopub.status.idle": "2021-01-08T21:31:03.048236Z",
     "shell.execute_reply": "2021-01-08T21:31:03.047097Z"
    },
    "papermill": {
     "duration": 0.242551,
     "end_time": "2021-01-08T21:31:03.048627",
     "exception": false,
     "start_time": "2021-01-08T21:31:02.806076",
     "status": "completed"
    },
    "tags": []
   },
   "outputs": [
    {
     "name": "stdout",
     "output_type": "stream",
     "text": [
      "MultinomialNB score: 0.7792848699763595\n"
     ]
    }
   ],
   "source": [
    "\n",
    "print('MultinomialNB score:', cross_val_score(MultinomialNB(), X_train.loc[:, selector.support_], t_train, cv=15).mean())"
   ]
  },
  {
   "cell_type": "code",
   "execution_count": 70,
   "metadata": {
    "execution": {
     "iopub.execute_input": "2021-01-08T21:31:03.343330Z",
     "iopub.status.busy": "2021-01-08T21:31:03.341806Z",
     "iopub.status.idle": "2021-01-08T21:31:03.458289Z",
     "shell.execute_reply": "2021-01-08T21:31:03.459243Z"
    },
    "papermill": {
     "duration": 0.270305,
     "end_time": "2021-01-08T21:31:03.459479",
     "exception": false,
     "start_time": "2021-01-08T21:31:03.189174",
     "status": "completed"
    },
    "tags": []
   },
   "outputs": [
    {
     "name": "stdout",
     "output_type": "stream",
     "text": [
      "Accuracy score for classification:\n",
      "gs_model 73.32020092583474\n",
      "best params {'pca': PCA(n_components=1), 'pca__n_components': 1}\n"
     ]
    }
   ],
   "source": [
    "\n",
    "model_pipe = Pipeline([('pca', 'passthrough'), ('nbc', GaussianNB())])\n",
    "\n",
    "hyper_parameters = {'pca': [PCA()], 'pca__n_components': list(range(1, len(X.columns)-3))}\n",
    "\n",
    "gs_model = GridSearchCV(model_pipe, hyper_parameters).fit(arr_X_normalized, t_train)\n",
    "print('Accuracy score for classification:')\n",
    "print('gs_model', gs_model.best_score_*100)\n",
    "print('best params', gs_model.best_params_)"
   ]
  },
  {
   "cell_type": "markdown",
   "metadata": {
    "papermill": {
     "duration": 0.143246,
     "end_time": "2021-01-08T21:31:03.749353",
     "exception": false,
     "start_time": "2021-01-08T21:31:03.606107",
     "status": "completed"
    },
    "tags": []
   },
   "source": [
    "# LDA"
   ]
  },
  {
   "cell_type": "code",
   "execution_count": 71,
   "metadata": {
    "execution": {
     "iopub.execute_input": "2021-01-08T21:31:04.050029Z",
     "iopub.status.busy": "2021-01-08T21:31:04.048794Z",
     "iopub.status.idle": "2021-01-08T21:31:04.170476Z",
     "shell.execute_reply": "2021-01-08T21:31:04.169825Z"
    },
    "papermill": {
     "duration": 0.280477,
     "end_time": "2021-01-08T21:31:04.170609",
     "exception": false,
     "start_time": "2021-01-08T21:31:03.890132",
     "status": "completed"
    },
    "tags": []
   },
   "outputs": [
    {
     "name": "stdout",
     "output_type": "stream",
     "text": [
      "LinearDiscriminantAnalysis score: 78.7854609929078\n"
     ]
    }
   ],
   "source": [
    "\n",
    "print('LinearDiscriminantAnalysis score:', cross_val_score(LinearDiscriminantAnalysis(), X_train.loc[:, selector.support_], t_train, cv=15).mean()*100)"
   ]
  },
  {
   "cell_type": "code",
   "execution_count": 72,
   "metadata": {
    "execution": {
     "iopub.execute_input": "2021-01-08T21:31:04.465089Z",
     "iopub.status.busy": "2021-01-08T21:31:04.463929Z",
     "iopub.status.idle": "2021-01-08T21:31:04.586301Z",
     "shell.execute_reply": "2021-01-08T21:31:04.587240Z"
    },
    "papermill": {
     "duration": 0.271306,
     "end_time": "2021-01-08T21:31:04.587464",
     "exception": false,
     "start_time": "2021-01-08T21:31:04.316158",
     "status": "completed"
    },
    "tags": []
   },
   "outputs": [
    {
     "name": "stdout",
     "output_type": "stream",
     "text": [
      "Accuracy score for classification:\n",
      "gs_model 76.5468334482419\n",
      "best params {'pca': PCA(n_components=4), 'pca__n_components': 4}\n"
     ]
    }
   ],
   "source": [
    "model_pipe = Pipeline([('pca', 'passthrough'), ('nbc', LinearDiscriminantAnalysis())])\n",
    "\n",
    "hyper_parameters = {'pca': [PCA()], 'pca__n_components': list(range(1, len(X.columns)-3))}\n",
    "\n",
    "gs_model = GridSearchCV(model_pipe, hyper_parameters).fit(arr_X_normalized, t_train)\n",
    "print('Accuracy score for classification:')\n",
    "print('gs_model', gs_model.best_score_*100)\n",
    "print('best params', gs_model.best_params_)"
   ]
  },
  {
   "cell_type": "markdown",
   "metadata": {
    "papermill": {
     "duration": 0.143332,
     "end_time": "2021-01-08T21:31:04.873877",
     "exception": false,
     "start_time": "2021-01-08T21:31:04.730545",
     "status": "completed"
    },
    "tags": []
   },
   "source": [
    "# KNN"
   ]
  },
  {
   "cell_type": "code",
   "execution_count": 73,
   "metadata": {
    "execution": {
     "iopub.execute_input": "2021-01-08T21:31:05.163655Z",
     "iopub.status.busy": "2021-01-08T21:31:05.162606Z",
     "iopub.status.idle": "2021-01-08T21:31:06.598778Z",
     "shell.execute_reply": "2021-01-08T21:31:06.597903Z"
    },
    "papermill": {
     "duration": 1.583442,
     "end_time": "2021-01-08T21:31:06.598915",
     "exception": false,
     "start_time": "2021-01-08T21:31:05.015473",
     "status": "completed"
    },
    "tags": []
   },
   "outputs": [
    {
     "name": "stdout",
     "output_type": "stream",
     "text": [
      "gs_neigh_model 82.44361272530287\n",
      "best params {'n_neighbors': 12}\n"
     ]
    }
   ],
   "source": [
    "\n",
    "hyper_parameters = {'n_neighbors': list(range(1, 25))}\n",
    "\n",
    "gs_neigh_model_classifier = GridSearchCV(KNeighborsClassifier(n_neighbors=5), hyper_parameters).fit(arr_X_normalized, t_train)\n",
    "print('gs_neigh_model', gs_neigh_model_classifier.best_score_*100)\n",
    "print('best params', gs_neigh_model_classifier.best_params_)"
   ]
  },
  {
   "cell_type": "code",
   "execution_count": 74,
   "metadata": {
    "execution": {
     "iopub.execute_input": "2021-01-08T21:31:06.899218Z",
     "iopub.status.busy": "2021-01-08T21:31:06.897936Z",
     "iopub.status.idle": "2021-01-08T21:31:07.453558Z",
     "shell.execute_reply": "2021-01-08T21:31:07.452629Z"
    },
    "papermill": {
     "duration": 0.711967,
     "end_time": "2021-01-08T21:31:07.453757",
     "exception": false,
     "start_time": "2021-01-08T21:31:06.741790",
     "status": "completed"
    },
    "tags": []
   },
   "outputs": [
    {
     "name": "stdout",
     "output_type": "stream",
     "text": [
      "gs_neigh_model 36.3884964160989\n",
      "best params {'n_neighbors': 15}\n"
     ]
    }
   ],
   "source": [
    "hyper_parameters = {'n_neighbors': list(range(1, 25))}\n",
    "\n",
    "gs_neigh_model = GridSearchCV(KNeighborsRegressor(n_neighbors=5, weights='distance'), hyper_parameters).fit(arr_X_normalized, t_train)\n",
    "print('gs_neigh_model', gs_neigh_model.best_score_*100)\n",
    "print('best params', gs_neigh_model.best_params_)"
   ]
  },
  {
   "cell_type": "markdown",
   "metadata": {
    "papermill": {
     "duration": 0.145052,
     "end_time": "2021-01-08T21:31:07.741410",
     "exception": false,
     "start_time": "2021-01-08T21:31:07.596358",
     "status": "completed"
    },
    "tags": []
   },
   "source": [
    "We can see there is a huge difference between the **classifier** and the **regressor** for the calssifier,  \n",
    "therefore we'll go with the classifier  \n",
    "**And the best neighbors number is 14**  "
   ]
  },
  {
   "cell_type": "markdown",
   "metadata": {
    "papermill": {
     "duration": 0.141786,
     "end_time": "2021-01-08T21:31:08.031387",
     "exception": false,
     "start_time": "2021-01-08T21:31:07.889601",
     "status": "completed"
    },
    "tags": []
   },
   "source": [
    "From all of the algorithms we can see that the best results were achieved with **KNN using the KNeighborsClassifier**,  \n",
    "therefore we'll choose it  \n",
    "it is stored in gs_neigh_model_classifier  \n"
   ]
  },
  {
   "cell_type": "markdown",
   "metadata": {
    "papermill": {
     "duration": 0.143872,
     "end_time": "2021-01-08T21:31:08.322075",
     "exception": false,
     "start_time": "2021-01-08T21:31:08.178203",
     "status": "completed"
    },
    "tags": []
   },
   "source": [
    "# Confusion Matrix"
   ]
  },
  {
   "cell_type": "code",
   "execution_count": 75,
   "metadata": {
    "execution": {
     "iopub.execute_input": "2021-01-08T21:31:08.615793Z",
     "iopub.status.busy": "2021-01-08T21:31:08.615054Z",
     "iopub.status.idle": "2021-01-08T21:31:08.655253Z",
     "shell.execute_reply": "2021-01-08T21:31:08.654477Z"
    },
    "papermill": {
     "duration": 0.188369,
     "end_time": "2021-01-08T21:31:08.655400",
     "exception": false,
     "start_time": "2021-01-08T21:31:08.467031",
     "status": "completed"
    },
    "tags": []
   },
   "outputs": [],
   "source": [
    "y_train = gs_neigh_model_classifier.predict(arr_X_normalized)"
   ]
  },
  {
   "cell_type": "markdown",
   "metadata": {
    "papermill": {
     "duration": 0.144489,
     "end_time": "2021-01-08T21:31:08.942542",
     "exception": false,
     "start_time": "2021-01-08T21:31:08.798053",
     "status": "completed"
    },
    "tags": []
   },
   "source": [
    "Let's create a Confusion Matrix of for our training data"
   ]
  },
  {
   "cell_type": "code",
   "execution_count": 76,
   "metadata": {
    "execution": {
     "iopub.execute_input": "2021-01-08T21:31:09.239438Z",
     "iopub.status.busy": "2021-01-08T21:31:09.238716Z",
     "iopub.status.idle": "2021-01-08T21:31:09.543234Z",
     "shell.execute_reply": "2021-01-08T21:31:09.544143Z"
    },
    "papermill": {
     "duration": 0.456476,
     "end_time": "2021-01-08T21:31:09.544433",
     "exception": false,
     "start_time": "2021-01-08T21:31:09.087957",
     "status": "completed"
    },
    "tags": []
   },
   "outputs": [
    {
     "data": {
      "image/png": "[encoded data removed]",
      "text/plain": [
       "<Figure size 1080x864 with 2 Axes>"
      ]
     },
     "metadata": {},
     "output_type": "display_data"
    }
   ],
   "source": [
    "cm_train = confusion_matrix(t_train, y_train)\n",
    "\n",
    "cm_train_df = pd.DataFrame(cm_train, index=['actual_e', 'actual_p'], columns=['predicted_e', 'predicted_p'])\n",
    "\n",
    "sns.set(font_scale=2)\n",
    "plt.figure(figsize = (15,12))\n",
    "fig = sns.heatmap(cm_train_df, annot=True, cmap=plt.cm.Pastel1, fmt='g')\n",
    "fig.set_title(\"cm_train\")\n",
    "plt.show()\n"
   ]
  },
  {
   "cell_type": "markdown",
   "metadata": {
    "papermill": {
     "duration": 0.145931,
     "end_time": "2021-01-08T21:31:09.881680",
     "exception": false,
     "start_time": "2021-01-08T21:31:09.735749",
     "status": "completed"
    },
    "tags": []
   },
   "source": [
    "Now we can present precision, recall, specificity and accuracy values"
   ]
  },
  {
   "cell_type": "code",
   "execution_count": 77,
   "metadata": {
    "execution": {
     "iopub.execute_input": "2021-01-08T21:31:10.187231Z",
     "iopub.status.busy": "2021-01-08T21:31:10.186548Z",
     "iopub.status.idle": "2021-01-08T21:31:10.190601Z",
     "shell.execute_reply": "2021-01-08T21:31:10.191402Z"
    },
    "papermill": {
     "duration": 0.160421,
     "end_time": "2021-01-08T21:31:10.191603",
     "exception": false,
     "start_time": "2021-01-08T21:31:10.031182",
     "status": "completed"
    },
    "tags": []
   },
   "outputs": [
    {
     "name": "stdout",
     "output_type": "stream",
     "text": [
      "Train: precision 0.87, recall 0.70, specificity 0.94, fpr 0.06, accuracy 0.85\n"
     ]
    }
   ],
   "source": [
    "def precision(cm):\n",
    "    tn, fp, fn, tp = cm.ravel()\n",
    "    return tp/(tp+fp)\n",
    "\n",
    "def recall(cm):\n",
    "    tn, fp, fn, tp = cm.ravel()\n",
    "    return tp/(tp+fn)\n",
    "\n",
    "def specificity(cm):\n",
    "    tn, fp, fn, tp = cm.ravel()\n",
    "    return tn/(tn+fp)\n",
    "\n",
    "def fpr(cm):\n",
    "    tn, fp, fn, tp = cm.ravel()\n",
    "    return fp/(fp+tn)\n",
    "\n",
    "def accuracy(cm):\n",
    "    tn, fp, fn, tp = cm.ravel()\n",
    "    return (tp+tn)/(tp+tn+fp+fn)\n",
    "\n",
    "print(f'Train: precision {precision(cm_train):.2f}, recall {recall(cm_train):.2f}, specificity {specificity(cm_train):.2f}, fpr {fpr(cm_train):.2f}, accuracy {accuracy(cm_train):.2f}')\n"
   ]
  },
  {
   "cell_type": "markdown",
   "metadata": {
    "papermill": {
     "duration": 0.144595,
     "end_time": "2021-01-08T21:31:10.479993",
     "exception": false,
     "start_time": "2021-01-08T21:31:10.335398",
     "status": "completed"
    },
    "tags": []
   },
   "source": [
    "We can see that:\n",
    "* **Precision-** which shows the percentage of correct positive predictions out of all the positive predictions is 0.87  \n",
    "* **Recall which-** shows the percentage of correct positive predictions out of all the actual positive samples is 0.70  \n",
    "* **Specificity-** which shows the percentage of correct negative predictions out of all the actual negative samples is 0.94  \n",
    "* **Fpr-** which shows the percentage of mistaken negative predictions out of all the actual negative samples is 0.06  \n",
    "* **Accuracy-** which shows the percentage of correct predictions out of all the data is 0.85 \n",
    "\n",
    "We conclude that our model can find very well the actual negative samples and that it's mistake rate is very low  \n"
   ]
  },
  {
   "cell_type": "markdown",
   "metadata": {
    "papermill": {
     "duration": 0.145013,
     "end_time": "2021-01-08T21:31:10.781345",
     "exception": false,
     "start_time": "2021-01-08T21:31:10.636332",
     "status": "completed"
    },
    "tags": []
   },
   "source": [
    "And lastly let's calculate the complicated KPI's"
   ]
  },
  {
   "cell_type": "code",
   "execution_count": 78,
   "metadata": {
    "execution": {
     "iopub.execute_input": "2021-01-08T21:31:11.072402Z",
     "iopub.status.busy": "2021-01-08T21:31:11.071637Z",
     "iopub.status.idle": "2021-01-08T21:31:11.080399Z",
     "shell.execute_reply": "2021-01-08T21:31:11.079764Z"
    },
    "papermill": {
     "duration": 0.156353,
     "end_time": "2021-01-08T21:31:11.080532",
     "exception": false,
     "start_time": "2021-01-08T21:31:10.924179",
     "status": "completed"
    },
    "tags": []
   },
   "outputs": [
    {
     "name": "stdout",
     "output_type": "stream",
     "text": [
      "Train: f1 0.77, balanced_accuracy 0.82\n"
     ]
    }
   ],
   "source": [
    "def f1(cm):\n",
    "    precision_calc = precision(cm)\n",
    "    recall_calc = recall(cm)\n",
    "    return (2*precision_calc*recall_calc)/(precision_calc+recall_calc)\n",
    "\n",
    "def balanced_accuracy(cm):\n",
    "    recall_calc = recall(cm)\n",
    "    specificity_calc = specificity(cm)\n",
    "    return (recall_calc+specificity_calc)/2\n",
    "\n",
    "print(f'Train: f1 {f1(cm_train):.2f}, balanced_accuracy {balanced_accuracy(cm_train):.2f}')\n"
   ]
  },
  {
   "cell_type": "markdown",
   "metadata": {
    "papermill": {
     "duration": 0.143369,
     "end_time": "2021-01-08T21:31:11.366880",
     "exception": false,
     "start_time": "2021-01-08T21:31:11.223511",
     "status": "completed"
    },
    "tags": []
   },
   "source": [
    "# Predictions"
   ]
  },
  {
   "cell_type": "markdown",
   "metadata": {
    "papermill": {
     "duration": 0.149761,
     "end_time": "2021-01-08T21:31:11.660422",
     "exception": false,
     "start_time": "2021-01-08T21:31:11.510661",
     "status": "completed"
    },
    "tags": []
   },
   "source": [
    "Now let's make our prediction !"
   ]
  },
  {
   "cell_type": "code",
   "execution_count": 79,
   "metadata": {
    "execution": {
     "iopub.execute_input": "2021-01-08T21:31:11.959597Z",
     "iopub.status.busy": "2021-01-08T21:31:11.958796Z",
     "iopub.status.idle": "2021-01-08T21:31:11.964541Z",
     "shell.execute_reply": "2021-01-08T21:31:11.965058Z"
    },
    "papermill": {
     "duration": 0.160332,
     "end_time": "2021-01-08T21:31:11.965222",
     "exception": false,
     "start_time": "2021-01-08T21:31:11.804890",
     "status": "completed"
    },
    "tags": []
   },
   "outputs": [],
   "source": [
    "\n",
    "X_test  = test_df.drop(\"PassengerId\", axis=1).copy()\n",
    "X_test_normalized = StandardScaler().fit_transform(X_test)\n",
    "arr_X_test_normalized = np.asarray(X_test_normalized)\n"
   ]
  },
  {
   "cell_type": "code",
   "execution_count": 80,
   "metadata": {
    "execution": {
     "iopub.execute_input": "2021-01-08T21:31:12.270873Z",
     "iopub.status.busy": "2021-01-08T21:31:12.270144Z",
     "iopub.status.idle": "2021-01-08T21:31:12.376016Z",
     "shell.execute_reply": "2021-01-08T21:31:12.375001Z"
    },
    "papermill": {
     "duration": 0.258525,
     "end_time": "2021-01-08T21:31:12.376202",
     "exception": false,
     "start_time": "2021-01-08T21:31:12.117677",
     "status": "completed"
    },
    "tags": []
   },
   "outputs": [
    {
     "name": "stdout",
     "output_type": "stream",
     "text": [
      "Train score: 84.8314606741573\n"
     ]
    }
   ],
   "source": [
    "\n",
    "\n",
    "y_train = gs_neigh_model_classifier.predict(arr_X_normalized)\n",
    "y_test = gs_neigh_model_classifier.predict(arr_X_test_normalized)\n",
    "print(\"Train score:\",gs_neigh_model_classifier.score(X_normalized, t_train) * 100)\n",
    "\n"
   ]
  },
  {
   "cell_type": "code",
   "execution_count": 81,
   "metadata": {
    "execution": {
     "iopub.execute_input": "2021-01-08T21:31:12.715910Z",
     "iopub.status.busy": "2021-01-08T21:31:12.714833Z",
     "iopub.status.idle": "2021-01-08T21:31:13.029694Z",
     "shell.execute_reply": "2021-01-08T21:31:13.028698Z"
    },
    "papermill": {
     "duration": 0.508033,
     "end_time": "2021-01-08T21:31:13.029841",
     "exception": false,
     "start_time": "2021-01-08T21:31:12.521808",
     "status": "completed"
    },
    "tags": []
   },
   "outputs": [],
   "source": [
    "submission = pd.DataFrame({'PassengerId':  test_df[\"PassengerId\"], \"Survived\": y_test})\n",
    "submission.to_csv('submission.csv', index=False)"
   ]
  },
  {
   "cell_type": "markdown",
   "metadata": {
    "papermill": {
     "duration": 0.152852,
     "end_time": "2021-01-08T21:31:13.335863",
     "exception": false,
     "start_time": "2021-01-08T21:31:13.183011",
     "status": "completed"
    },
    "tags": []
   },
   "source": [
    "In this session we tried more advanced methods but we saw that we didn't necessarily improved our score,  \n",
    "the model that worked best for us was the KNN model which provieded the best score.  \n",
    "**Credits:**  \n",
    "Are going to the notebooks in our moodle system"
   ]
  },
  {
   "attachments": {
    "image.png": {
     "image/png": "[encoded data removed]"
    }
   },
   "cell_type": "markdown",
   "metadata": {
    "papermill": {
     "duration": 0.149353,
     "end_time": "2021-01-08T21:31:13.642663",
     "exception": false,
     "start_time": "2021-01-08T21:31:13.493310",
     "status": "completed"
    },
    "tags": []
   },
   "source": [
    "![image.png](attachment:image.png)"
   ]
  },
  {
   "cell_type": "markdown",
   "metadata": {
    "papermill": {
     "duration": 0.145817,
     "end_time": "2021-01-08T21:31:13.936996",
     "exception": false,
     "start_time": "2021-01-08T21:31:13.791179",
     "status": "completed"
    },
    "tags": []
   },
   "source": [
    "submissions"
   ]
  },
  {
   "attachments": {
    "image.png": {
     "image/png": "[encoded data removed]"
    }
   },
   "cell_type": "markdown",
   "metadata": {
    "papermill": {
     "duration": 0.151201,
     "end_time": "2021-01-08T21:31:14.243736",
     "exception": false,
     "start_time": "2021-01-08T21:31:14.092535",
     "status": "completed"
    },
    "tags": []
   },
   "source": [
    "\n",
    "![image.png](attachment:image.png)"
   ]
  },
  {
   "cell_type": "code",
   "execution_count": null,
   "metadata": {
    "papermill": {
     "duration": 0.147963,
     "end_time": "2021-01-08T21:31:14.535230",
     "exception": false,
     "start_time": "2021-01-08T21:31:14.387267",
     "status": "completed"
    },
    "tags": []
   },
   "outputs": [],
   "source": []
  }
 ],
 "metadata": {
  "kernelspec": {
   "display_name": "Python 3",
   "language": "python",
   "name": "python3"
  },
  "language_info": {
   "codemirror_mode": {
    "name": "ipython",
    "version": 3
   },
   "file_extension": ".py",
   "mimetype": "text/x-python",
   "name": "python",
   "nbconvert_exporter": "python",
   "pygments_lexer": "ipython3",
   "version": "3.7.6"
  },
  "papermill": {
   "duration": 77.63949,
   "end_time": "2021-01-08T21:31:14.792877",
   "environment_variables": {},
   "exception": null,
   "input_path": "__notebook__.ipynb",
   "output_path": "__notebook__.ipynb",
   "parameters": {},
   "start_time": "2021-01-08T21:29:57.153387",
   "version": "2.1.0"
  },
  "widgets": {
   "application/vnd.jupyter.widget-state+json": {
    "state": {
     "0b14ddf7b6004c6f8f7c8ac18c5f40a0": {
      "model_module": "@jupyter-widgets/base",
      "model_module_version": "1.2.0",
      "model_name": "LayoutModel",
      "state": {
       "_model_module": "@jupyter-widgets/base",
       "_model_module_version": "1.2.0",
       "_model_name": "LayoutModel",
       "_view_count": null,
       "_view_module": "@jupyter-widgets/base",
       "_view_module_version": "1.2.0",
       "_view_name": "LayoutView",
       "align_content": null,
       "align_items": null,
       "align_self": null,
       "border": null,
       "bottom": null,
       "display": null,
       "flex": null,
       "flex_flow": null,
       "grid_area": null,
       "grid_auto_columns": null,
       "grid_auto_flow": null,
       "grid_auto_rows": null,
       "grid_column": null,
       "grid_gap": null,
       "grid_row": null,
       "grid_template_areas": null,
       "grid_template_columns": null,
       "grid_template_rows": null,
       "height": null,
       "justify_content": null,
       "justify_items": null,
       "left": null,
       "margin": null,
       "max_height": null,
       "max_width": null,
       "min_height": null,
       "min_width": null,
       "object_fit": null,
       "object_position": null,
       "order": null,
       "overflow": null,
       "overflow_x": null,
       "overflow_y": null,
       "padding": null,
       "right": null,
       "top": null,
       "visibility": null,
       "width": null
      }
     },
     "15b7b723eefe4ca8becdf279b0c64be6": {
      "model_module": "@jupyter-widgets/controls",
      "model_module_version": "1.5.0",
      "model_name": "DescriptionStyleModel",
      "state": {
       "_model_module": "@jupyter-widgets/controls",
       "_model_module_version": "1.5.0",
       "_model_name": "DescriptionStyleModel",
       "_view_count": null,
       "_view_module": "@jupyter-widgets/base",
       "_view_module_version": "1.2.0",
       "_view_name": "StyleView",
       "description_width": ""
      }
     },
     "1d7073374c62481caaa0df436b4971ef": {
      "model_module": "@jupyter-widgets/controls",
      "model_module_version": "1.5.0",
      "model_name": "HTMLModel",
      "state": {
       "_dom_classes": [],
       "_model_module": "@jupyter-widgets/controls",
       "_model_module_version": "1.5.0",
       "_model_name": "HTMLModel",
       "_view_count": null,
       "_view_module": "@jupyter-widgets/controls",
       "_view_module_version": "1.5.0",
       "_view_name": "HTMLView",
       "description": "",
       "description_tooltip": null,
       "layout": "IPY_MODEL_0b14ddf7b6004c6f8f7c8ac18c5f40a0",
       "placeholder": "​",
       "style": "IPY_MODEL_7cdc4e6a220e4f3d9c3fea11c271baee",
       "value": "Calculating Length          | 10/? [00:00&lt;00:00, 133.70it/s]"
      }
     },
     "1e5e619dc5534ac5b29f43a1e9374e7d": {
      "model_module": "@jupyter-widgets/base",
      "model_module_version": "1.2.0",
      "model_name": "LayoutModel",
      "state": {
       "_model_module": "@jupyter-widgets/base",
       "_model_module_version": "1.2.0",
       "_model_name": "LayoutModel",
       "_view_count": null,
       "_view_module": "@jupyter-widgets/base",
       "_view_module_version": "1.2.0",
       "_view_name": "LayoutView",
       "align_content": null,
       "align_items": null,
       "align_self": null,
       "border": null,
       "bottom": null,
       "display": null,
       "flex": null,
       "flex_flow": null,
       "grid_area": null,
       "grid_auto_columns": null,
       "grid_auto_flow": null,
       "grid_auto_rows": null,
       "grid_column": null,
       "grid_gap": null,
       "grid_row": null,
       "grid_template_areas": null,
       "grid_template_columns": null,
       "grid_template_rows": null,
       "height": null,
       "justify_content": null,
       "justify_items": null,
       "left": null,
       "margin": null,
       "max_height": null,
       "max_width": null,
       "min_height": null,
       "min_width": null,
       "object_fit": null,
       "object_position": null,
       "order": null,
       "overflow": null,
       "overflow_x": null,
       "overflow_y": null,
       "padding": null,
       "right": null,
       "top": null,
       "visibility": null,
       "width": null
      }
     },
     "238f4ce22fec41adae66bddb18c341ed": {
      "model_module": "@jupyter-widgets/controls",
      "model_module_version": "1.5.0",
      "model_name": "HBoxModel",
      "state": {
       "_dom_classes": [],
       "_model_module": "@jupyter-widgets/controls",
       "_model_module_version": "1.5.0",
       "_model_name": "HBoxModel",
       "_view_count": null,
       "_view_module": "@jupyter-widgets/controls",
       "_view_module_version": "1.5.0",
       "_view_name": "HBoxView",
       "box_style": "",
       "children": [
        "IPY_MODEL_bf1512c6ae244bd58cea3d03f2179a52",
        "IPY_MODEL_c780a21bfbb94aa38a6b394b860f9ede"
       ],
       "layout": "IPY_MODEL_65e025e96a144b9cab8bcfd2bae6b4e2"
      }
     },
     "4134c977555a4d3f9f4cacadb3c55627": {
      "model_module": "@jupyter-widgets/base",
      "model_module_version": "1.2.0",
      "model_name": "LayoutModel",
      "state": {
       "_model_module": "@jupyter-widgets/base",
       "_model_module_version": "1.2.0",
       "_model_name": "LayoutModel",
       "_view_count": null,
       "_view_module": "@jupyter-widgets/base",
       "_view_module_version": "1.2.0",
       "_view_name": "LayoutView",
       "align_content": null,
       "align_items": null,
       "align_self": null,
       "border": null,
       "bottom": null,
       "display": null,
       "flex": "2",
       "flex_flow": null,
       "grid_area": null,
       "grid_auto_columns": null,
       "grid_auto_flow": null,
       "grid_auto_rows": null,
       "grid_column": null,
       "grid_gap": null,
       "grid_row": null,
       "grid_template_areas": null,
       "grid_template_columns": null,
       "grid_template_rows": null,
       "height": null,
       "justify_content": null,
       "justify_items": null,
       "left": null,
       "margin": null,
       "max_height": null,
       "max_width": null,
       "min_height": null,
       "min_width": null,
       "object_fit": null,
       "object_position": null,
       "order": null,
       "overflow": null,
       "overflow_x": null,
       "overflow_y": null,
       "padding": null,
       "right": null,
       "top": null,
       "visibility": null,
       "width": null
      }
     },
     "4849c52deaf04447ab4a83529a3a0ebf": {
      "model_module": "@jupyter-widgets/base",
      "model_module_version": "1.2.0",
      "model_name": "LayoutModel",
      "state": {
       "_model_module": "@jupyter-widgets/base",
       "_model_module_version": "1.2.0",
       "_model_name": "LayoutModel",
       "_view_count": null,
       "_view_module": "@jupyter-widgets/base",
       "_view_module_version": "1.2.0",
       "_view_name": "LayoutView",
       "align_content": null,
       "align_items": null,
       "align_self": null,
       "border": null,
       "bottom": null,
       "display": "inline-flex",
       "flex": null,
       "flex_flow": "row wrap",
       "grid_area": null,
       "grid_auto_columns": null,
       "grid_auto_flow": null,
       "grid_auto_rows": null,
       "grid_column": null,
       "grid_gap": null,
       "grid_row": null,
       "grid_template_areas": null,
       "grid_template_columns": null,
       "grid_template_rows": null,
       "height": null,
       "justify_content": null,
       "justify_items": null,
       "left": null,
       "margin": null,
       "max_height": null,
       "max_width": null,
       "min_height": null,
       "min_width": null,
       "object_fit": null,
       "object_position": null,
       "order": null,
       "overflow": null,
       "overflow_x": null,
       "overflow_y": null,
       "padding": null,
       "right": null,
       "top": null,
       "visibility": null,
       "width": "1000px"
      }
     },
     "5639bce86c2e412783f013e3c5504478": {
      "model_module": "@jupyter-widgets/controls",
      "model_module_version": "1.5.0",
      "model_name": "ProgressStyleModel",
      "state": {
       "_model_module": "@jupyter-widgets/controls",
       "_model_module_version": "1.5.0",
       "_model_name": "ProgressStyleModel",
       "_view_count": null,
       "_view_module": "@jupyter-widgets/base",
       "_view_module_version": "1.2.0",
       "_view_name": "StyleView",
       "bar_color": null,
       "description_width": "initial"
      }
     },
     "5ace3f56d51b4519aa0971385708ccb5": {
      "model_module": "@jupyter-widgets/controls",
      "model_module_version": "1.5.0",
      "model_name": "ProgressStyleModel",
      "state": {
       "_model_module": "@jupyter-widgets/controls",
       "_model_module_version": "1.5.0",
       "_model_name": "ProgressStyleModel",
       "_view_count": null,
       "_view_module": "@jupyter-widgets/base",
       "_view_module_version": "1.2.0",
       "_view_name": "StyleView",
       "bar_color": null,
       "description_width": "initial"
      }
     },
     "65e025e96a144b9cab8bcfd2bae6b4e2": {
      "model_module": "@jupyter-widgets/base",
      "model_module_version": "1.2.0",
      "model_name": "LayoutModel",
      "state": {
       "_model_module": "@jupyter-widgets/base",
       "_model_module_version": "1.2.0",
       "_model_name": "LayoutModel",
       "_view_count": null,
       "_view_module": "@jupyter-widgets/base",
       "_view_module_version": "1.2.0",
       "_view_name": "LayoutView",
       "align_content": null,
       "align_items": null,
       "align_self": null,
       "border": null,
       "bottom": null,
       "display": null,
       "flex": null,
       "flex_flow": null,
       "grid_area": null,
       "grid_auto_columns": null,
       "grid_auto_flow": null,
       "grid_auto_rows": null,
       "grid_column": null,
       "grid_gap": null,
       "grid_row": null,
       "grid_template_areas": null,
       "grid_template_columns": null,
       "grid_template_rows": null,
       "height": null,
       "justify_content": null,
       "justify_items": null,
       "left": null,
       "margin": null,
       "max_height": null,
       "max_width": null,
       "min_height": null,
       "min_width": null,
       "object_fit": null,
       "object_position": null,
       "order": null,
       "overflow": null,
       "overflow_x": null,
       "overflow_y": null,
       "padding": null,
       "right": null,
       "top": null,
       "visibility": null,
       "width": null
      }
     },
     "792d39463ec04292b5a269e77e954616": {
      "model_module": "@jupyter-widgets/controls",
      "model_module_version": "1.5.0",
      "model_name": "HBoxModel",
      "state": {
       "_dom_classes": [],
       "_model_module": "@jupyter-widgets/controls",
       "_model_module_version": "1.5.0",
       "_model_name": "HBoxModel",
       "_view_count": null,
       "_view_module": "@jupyter-widgets/controls",
       "_view_module_version": "1.5.0",
       "_view_name": "HBoxView",
       "box_style": "",
       "children": [
        "IPY_MODEL_cbed0f7d131d40efbdbde6355a49d028",
        "IPY_MODEL_1d7073374c62481caaa0df436b4971ef"
       ],
       "layout": "IPY_MODEL_4849c52deaf04447ab4a83529a3a0ebf"
      }
     },
     "7cdc4e6a220e4f3d9c3fea11c271baee": {
      "model_module": "@jupyter-widgets/controls",
      "model_module_version": "1.5.0",
      "model_name": "DescriptionStyleModel",
      "state": {
       "_model_module": "@jupyter-widgets/controls",
       "_model_module_version": "1.5.0",
       "_model_name": "DescriptionStyleModel",
       "_view_count": null,
       "_view_module": "@jupyter-widgets/base",
       "_view_module_version": "1.2.0",
       "_view_name": "StyleView",
       "description_width": ""
      }
     },
     "99f590ae9fb64bb8ab7eb784eb4005e1": {
      "model_module": "@jupyter-widgets/base",
      "model_module_version": "1.2.0",
      "model_name": "LayoutModel",
      "state": {
       "_model_module": "@jupyter-widgets/base",
       "_model_module_version": "1.2.0",
       "_model_name": "LayoutModel",
       "_view_count": null,
       "_view_module": "@jupyter-widgets/base",
       "_view_module_version": "1.2.0",
       "_view_name": "LayoutView",
       "align_content": null,
       "align_items": null,
       "align_self": null,
       "border": null,
       "bottom": null,
       "display": null,
       "flex": null,
       "flex_flow": null,
       "grid_area": null,
       "grid_auto_columns": null,
       "grid_auto_flow": null,
       "grid_auto_rows": null,
       "grid_column": null,
       "grid_gap": null,
       "grid_row": null,
       "grid_template_areas": null,
       "grid_template_columns": null,
       "grid_template_rows": null,
       "height": null,
       "justify_content": null,
       "justify_items": null,
       "left": null,
       "margin": null,
       "max_height": null,
       "max_width": null,
       "min_height": null,
       "min_width": null,
       "object_fit": null,
       "object_position": null,
       "order": null,
       "overflow": null,
       "overflow_x": null,
       "overflow_y": null,
       "padding": null,
       "right": null,
       "top": null,
       "visibility": null,
       "width": null
      }
     },
     "bf1512c6ae244bd58cea3d03f2179a52": {
      "model_module": "@jupyter-widgets/controls",
      "model_module_version": "1.5.0",
      "model_name": "FloatProgressModel",
      "state": {
       "_dom_classes": [],
       "_model_module": "@jupyter-widgets/controls",
       "_model_module_version": "1.5.0",
       "_model_name": "FloatProgressModel",
       "_view_count": null,
       "_view_module": "@jupyter-widgets/controls",
       "_view_module_version": "1.5.0",
       "_view_name": "ProgressView",
       "bar_style": "success",
       "description": "Computing Models: 100%",
       "description_tooltip": null,
       "layout": "IPY_MODEL_99f590ae9fb64bb8ab7eb784eb4005e1",
       "max": 10.0,
       "min": 0.0,
       "orientation": "horizontal",
       "style": "IPY_MODEL_5ace3f56d51b4519aa0971385708ccb5",
       "value": 10.0
      }
     },
     "c780a21bfbb94aa38a6b394b860f9ede": {
      "model_module": "@jupyter-widgets/controls",
      "model_module_version": "1.5.0",
      "model_name": "HTMLModel",
      "state": {
       "_dom_classes": [],
       "_model_module": "@jupyter-widgets/controls",
       "_model_module_version": "1.5.0",
       "_model_name": "HTMLModel",
       "_view_count": null,
       "_view_module": "@jupyter-widgets/controls",
       "_view_module_version": "1.5.0",
       "_view_name": "HTMLView",
       "description": "",
       "description_tooltip": null,
       "layout": "IPY_MODEL_1e5e619dc5534ac5b29f43a1e9374e7d",
       "placeholder": "​",
       "style": "IPY_MODEL_15b7b723eefe4ca8becdf279b0c64be6",
       "value": " 10/10 [00:12&lt;00:00,  1.24s/it]"
      }
     },
     "cbed0f7d131d40efbdbde6355a49d028": {
      "model_module": "@jupyter-widgets/controls",
      "model_module_version": "1.5.0",
      "model_name": "FloatProgressModel",
      "state": {
       "_dom_classes": [],
       "_model_module": "@jupyter-widgets/controls",
       "_model_module_version": "1.5.0",
       "_model_name": "FloatProgressModel",
       "_view_count": null,
       "_view_module": "@jupyter-widgets/controls",
       "_view_module_version": "1.5.0",
       "_view_name": "ProgressView",
       "bar_style": "success",
       "description": "",
       "description_tooltip": null,
       "layout": "IPY_MODEL_4134c977555a4d3f9f4cacadb3c55627",
       "max": 1.0,
       "min": 0.0,
       "orientation": "horizontal",
       "style": "IPY_MODEL_5639bce86c2e412783f013e3c5504478",
       "value": 1.0
      }
     }
    },
    "version_major": 2,
    "version_minor": 0
   }
  }
 },
 "nbformat": 4,
 "nbformat_minor": 4
}
